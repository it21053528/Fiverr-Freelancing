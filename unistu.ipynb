{
  "nbformat": 4,
  "nbformat_minor": 0,
  "metadata": {
    "colab": {
      "provenance": [],
      "authorship_tag": "ABX9TyPn74xAbL8wlkraYkh1dmBA",
      "include_colab_link": true
    },
    "kernelspec": {
      "name": "python3",
      "display_name": "Python 3"
    },
    "language_info": {
      "name": "python"
    }
  },
  "cells": [
    {
      "cell_type": "markdown",
      "metadata": {
        "id": "view-in-github",
        "colab_type": "text"
      },
      "source": [
        "<a href=\"https://colab.research.google.com/github/it21053528/Fiverr-Freelancing/blob/main/unistu.ipynb\" target=\"_parent\"><img src=\"https://colab.research.google.com/assets/colab-badge.svg\" alt=\"Open In Colab\"/></a>"
      ]
    },
    {
      "cell_type": "markdown",
      "source": [
        "Part 01"
      ],
      "metadata": {
        "id": "MZ21YfSYjaod"
      }
    },
    {
      "cell_type": "code",
      "execution_count": 4,
      "metadata": {
        "id": "XkQuX2znqwAD"
      },
      "outputs": [],
      "source": [
        "with open(\"corpus.txt\", \"w\") as file:\n",
        "    file.write(\"On January 1, 2023, John Smith, CEO of Acme Corporation, announced a new partnership with XYZ Enterprises. As part of the agreement, Acme Corporation will receive a payment of $5 million, which will be used to fund the development of new products. The payment will be made in two installments, with the first payment of $2 million due on March 1, 2023, and the second payment of $3 million due on June 1, 2023. The partnership is expected to increase revenue for both companies and strengthen their positions in the market.\")\n"
      ]
    },
    {
      "cell_type": "code",
      "source": [
        "def load(f):\n",
        "    with open(f, \"r\") as file:\n",
        "        text = file.read()\n",
        "    return text\n"
      ],
      "metadata": {
        "id": "SSZdT8pqwpSr"
      },
      "execution_count": 5,
      "outputs": []
    },
    {
      "cell_type": "code",
      "source": [
        "text = load(\"corpus.txt\")\n",
        "print(text)\n"
      ],
      "metadata": {
        "colab": {
          "base_uri": "https://localhost:8080/"
        },
        "id": "7gFmIZnkwsVL",
        "outputId": "960159a5-584a-4849-b3b2-9fab79b8092a"
      },
      "execution_count": 21,
      "outputs": [
        {
          "output_type": "stream",
          "name": "stdout",
          "text": [
            "On January 1, 2023, John Smith, CEO of Acme Corporation, announced a new partnership with XYZ Enterprises. As part of the agreement, Acme Corporation will receive a payment of $5 million, which will be used to fund the development of new products. The payment will be made in two installments, with the first payment of $2 million due on March 1, 2023, and the second payment of $3 million due on June 1, 2023. The partnership is expected to increase revenue for both companies and strengthen their positions in the market.\n"
          ]
        }
      ]
    },
    {
      "cell_type": "code",
      "source": [
        "import nltk\n",
        "\n",
        "# Define tokenizer using a regular expression\n",
        "tokenizer = nltk.RegexpTokenizer(r'[^\\w\\s]+')\n",
        "\n",
        "# Tokenize the text using the tokenizer\n",
        "tokens = tokenizer.tokenize(text)\n",
        "\n",
        "# Print the tokens\n",
        "print(tokens)\n"
      ],
      "metadata": {
        "colab": {
          "base_uri": "https://localhost:8080/"
        },
        "id": "R1OC5U0R1Eli",
        "outputId": "50c5ec3c-9fa0-4ada-f787-394f52564e0b"
      },
      "execution_count": 22,
      "outputs": [
        {
          "output_type": "stream",
          "name": "stdout",
          "text": [
            "[',', ',', ',', ',', '.', ',', '$', ',', '.', ',', '$', ',', ',', '$', ',', '.', '.']\n"
          ]
        }
      ]
    },
    {
      "cell_type": "code",
      "source": [
        "# Define the regular expression patterns\n",
        "patterns = [\n",
        "    r'\\$\\d+\\.?\\d*',  # Matches monetary amounts with a dollar sign\n",
        "    r'\\d{1,2}/\\d{1,2}/\\d{2,4}',  # Matches dates in MM/DD/YYYY or MM/DD/YY format\n",
        "    r'[A-Z][a-z]+ [A-Z][a-z]+',  # Matches names of people with first and last name capitalized\n",
        "    r'[A-Z][a-z]+(?: [A-Z][a-z]+)* Inc\\.'  # Matches names of organizations ending in Inc.\n",
        "]\n",
        "\n",
        "# Combine the regular expression patterns using the | (or) operator\n",
        "pattern = '|'.join(patterns)\n",
        "\n",
        "# Tokenize the text using the regular expression pattern\n",
        "tokens = nltk.regexp_tokenize(text, pattern)\n",
        "\n",
        "# Print the tokens\n",
        "print(tokens)\n"
      ],
      "metadata": {
        "colab": {
          "base_uri": "https://localhost:8080/"
        },
        "id": "VQfBPo_B54Ia",
        "outputId": "b0ce8d89-00ff-4735-ee7a-c761f91ed4cd"
      },
      "execution_count": 23,
      "outputs": [
        {
          "output_type": "stream",
          "name": "stdout",
          "text": [
            "['On January', 'John Smith', 'Acme Corporation', 'Acme Corporation', '$5', '$2', '$3']\n"
          ]
        }
      ]
    },
    {
      "cell_type": "code",
      "source": [
        "sent = ['The', 'dog', 'gave', 'John', 'the', 'newspaper']\n",
        "result = [(word, len(word)) for word in sent]\n",
        "print(result)"
      ],
      "metadata": {
        "id": "SpH6FcXWad_0",
        "outputId": "e6317fcc-b32c-4d21-afb1-452d2326a720",
        "colab": {
          "base_uri": "https://localhost:8080/"
        }
      },
      "execution_count": 25,
      "outputs": [
        {
          "output_type": "stream",
          "name": "stdout",
          "text": [
            "[('The', 3), ('dog', 3), ('gave', 4), ('John', 4), ('the', 3), ('newspaper', 9)]\n"
          ]
        }
      ]
    },
    {
      "cell_type": "code",
      "source": [
        "row = \"She sells seashells by the seashore\"\n",
        "words = row.split('s')\n",
        "print(words)\n"
      ],
      "metadata": {
        "id": "eZ_pa_5xa5uO",
        "outputId": "6a0bc21e-bac6-44d6-dad9-5bcfb64d0071",
        "colab": {
          "base_uri": "https://localhost:8080/"
        }
      },
      "execution_count": 26,
      "outputs": [
        {
          "output_type": "stream",
          "name": "stdout",
          "text": [
            "['She ', 'ell', ' ', 'ea', 'hell', ' by the ', 'ea', 'hore']\n"
          ]
        }
      ]
    },
    {
      "cell_type": "code",
      "source": [
        "my_string = \"Hello, world!\"\n",
        "for char in my_string:\n",
        "    print(char)\n"
      ],
      "metadata": {
        "id": "VUbe6_39blVX",
        "outputId": "6aa88f9e-3bf3-4789-de13-639f953c63e5",
        "colab": {
          "base_uri": "https://localhost:8080/"
        }
      },
      "execution_count": 27,
      "outputs": [
        {
          "output_type": "stream",
          "name": "stdout",
          "text": [
            "H\n",
            "e\n",
            "l\n",
            "l\n",
            "o\n",
            ",\n",
            " \n",
            "w\n",
            "o\n",
            "r\n",
            "l\n",
            "d\n",
            "!\n"
          ]
        }
      ]
    },
    {
      "cell_type": "markdown",
      "source": [
        "Calling split() on a string with no argument is equivalent to calling it with ' ' (a space) as the argument.\n",
        "\n",
        "When you call split() with no argument, it uses whitespace (spaces, tabs, and newlines) as the delimiter to split the string. For example:\n"
      ],
      "metadata": {
        "id": "PTgbWB_UgPIx"
      }
    },
    {
      "cell_type": "code",
      "source": [
        "my_string = \"Hello\\tworld\\n\"\n",
        "words = my_string.split()\n",
        "print(words)"
      ],
      "metadata": {
        "id": "RDF2Gy1egTbI",
        "outputId": "d5644a3d-7d34-41e1-fa62-80cebc080bbb",
        "colab": {
          "base_uri": "https://localhost:8080/"
        }
      },
      "execution_count": 28,
      "outputs": [
        {
          "output_type": "stream",
          "name": "stdout",
          "text": [
            "['Hello', 'world']\n"
          ]
        }
      ]
    },
    {
      "cell_type": "markdown",
      "source": [
        "In this example, the string my_string contains the text \"Hello\" followed by a tab character (\\t) and then \"world\" followed by a newline character (\\n). The split() method is called on the string with no argument, which causes the string to be split into a list of words based on the whitespace characters."
      ],
      "metadata": {
        "id": "jVqLDL4kgcvD"
      }
    },
    {
      "cell_type": "markdown",
      "source": [
        "When you call split() with ' ' as the argument, it splits the string on spaces only, ignoring any other whitespace characters. For example:"
      ],
      "metadata": {
        "id": "Lqk7N0MvgfEr"
      }
    },
    {
      "cell_type": "code",
      "source": [
        "my_string = \"Hello\\tworld\\n\"\n",
        "words = my_string.split(' ')\n",
        "print(words)"
      ],
      "metadata": {
        "id": "TdygsgKzgdva",
        "outputId": "0ab370e6-fcbc-4e57-faa0-75586c68a9f0",
        "colab": {
          "base_uri": "https://localhost:8080/"
        }
      },
      "execution_count": 29,
      "outputs": [
        {
          "output_type": "stream",
          "name": "stdout",
          "text": [
            "['Hello\\tworld\\n']\n"
          ]
        }
      ]
    },
    {
      "cell_type": "markdown",
      "source": [
        "In this example, the split() method is called on the string with ' ' as the argument, which causes the string to be split into a list containing only the original string, because there are no spaces in it. The tab and newline characters are not treated as delimiters in this case."
      ],
      "metadata": {
        "id": "ctHSexe1gmcC"
      }
    },
    {
      "cell_type": "markdown",
      "source": [
        "Both list.sort() and the built-in function sorted() can be used to sort a list. However, they differ in how they work and how they affect the original list."
      ],
      "metadata": {
        "id": "-u_5_9tUiK_J"
      }
    },
    {
      "cell_type": "code",
      "source": [
        "words = ['banana', 'apple', 'cherry']\n",
        "words.sort()\n",
        "print(words)"
      ],
      "metadata": {
        "id": "2pdAwFiRiMEB",
        "outputId": "e1db7b45-ea24-48fe-e1c6-05f68b9cb6a9",
        "colab": {
          "base_uri": "https://localhost:8080/"
        }
      },
      "execution_count": 30,
      "outputs": [
        {
          "output_type": "stream",
          "name": "stdout",
          "text": [
            "['apple', 'banana', 'cherry']\n"
          ]
        }
      ]
    },
    {
      "cell_type": "markdown",
      "source": [
        "sorted() is a built-in function that returns a new sorted list based on the input list. It doesn't modify the original list. The sorted list is returned as the result of the function call, so you need to assign it to a new variable to keep it. For example:"
      ],
      "metadata": {
        "id": "emqy8tskiUNy"
      }
    },
    {
      "cell_type": "code",
      "source": [
        "words = ['banana', 'apple', 'cherry']\n",
        "sorted_words = sorted(words)\n",
        "print(sorted_words)"
      ],
      "metadata": {
        "id": "S_K-pEpFiVHC",
        "outputId": "33f99fdf-59de-4672-ff55-b9e41c87803d",
        "colab": {
          "base_uri": "https://localhost:8080/"
        }
      },
      "execution_count": 31,
      "outputs": [
        {
          "output_type": "stream",
          "name": "stdout",
          "text": [
            "['apple', 'banana', 'cherry']\n"
          ]
        }
      ]
    },
    {
      "cell_type": "markdown",
      "source": [
        "In summary, the main differences between list.sort() and sorted() are:\n",
        "\n",
        "list.sort() sorts the list in-place, while sorted() returns a new sorted list.\n",
        "list.sort() doesn't return anything, while sorted() returns the sorted list as its result.\n",
        "list.sort() modifies the original list, while sorted() leaves the original list unchanged."
      ],
      "metadata": {
        "id": "3_NuYdz3ibx6"
      }
    },
    {
      "cell_type": "markdown",
      "source": [
        "Part 02"
      ],
      "metadata": {
        "id": "pcoC3ulJi7NT"
      }
    },
    {
      "cell_type": "code",
      "source": [],
      "metadata": {
        "id": "-N9Rf9i2kGFa"
      },
      "execution_count": null,
      "outputs": []
    }
  ]
}