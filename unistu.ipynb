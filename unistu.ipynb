{
  "nbformat": 4,
  "nbformat_minor": 0,
  "metadata": {
    "colab": {
      "provenance": [],
      "authorship_tag": "ABX9TyOxLRUc0IP9cEgcQ0JpEaY1",
      "include_colab_link": true
    },
    "kernelspec": {
      "name": "python3",
      "display_name": "Python 3"
    },
    "language_info": {
      "name": "python"
    }
  },
  "cells": [
    {
      "cell_type": "markdown",
      "metadata": {
        "id": "view-in-github",
        "colab_type": "text"
      },
      "source": [
        "<a href=\"https://colab.research.google.com/github/it21053528/Fiverr-Freelancing/blob/main/unistu.ipynb\" target=\"_parent\"><img src=\"https://colab.research.google.com/assets/colab-badge.svg\" alt=\"Open In Colab\"/></a>"
      ]
    },
    {
      "cell_type": "code",
      "execution_count": 1,
      "metadata": {
        "id": "XkQuX2znqwAD"
      },
      "outputs": [],
      "source": [
        "with open(\"corpus.txt\", \"w\") as file:\n",
        "    file.write(\"This is an example text. You can replace it with any text you want to save in the file.\")\n"
      ]
    },
    {
      "cell_type": "code",
      "source": [
        "def load(f):\n",
        "    with open(f, \"r\") as file:\n",
        "        text = file.read()\n",
        "    return text\n"
      ],
      "metadata": {
        "id": "SSZdT8pqwpSr"
      },
      "execution_count": 2,
      "outputs": []
    },
    {
      "cell_type": "code",
      "source": [
        "text = load(\"corpus.txt\")\n",
        "print(text)\n"
      ],
      "metadata": {
        "id": "7gFmIZnkwsVL",
        "outputId": "276eb7a9-ffb5-4515-dd76-9996e3d7d8c8",
        "colab": {
          "base_uri": "https://localhost:8080/"
        }
      },
      "execution_count": 3,
      "outputs": [
        {
          "output_type": "stream",
          "name": "stdout",
          "text": [
            "This is an example text. You can replace it with any text you want to save in the file.\n"
          ]
        }
      ]
    }
  ]
}