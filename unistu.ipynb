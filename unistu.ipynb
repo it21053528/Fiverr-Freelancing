{
  "nbformat": 4,
  "nbformat_minor": 0,
  "metadata": {
    "colab": {
      "provenance": [],
      "authorship_tag": "ABX9TyPTT5qKxNxk6Wu30SSDGWsW",
      "include_colab_link": true
    },
    "kernelspec": {
      "name": "python3",
      "display_name": "Python 3"
    },
    "language_info": {
      "name": "python"
    }
  },
  "cells": [
    {
      "cell_type": "markdown",
      "metadata": {
        "id": "view-in-github",
        "colab_type": "text"
      },
      "source": [
        "<a href=\"https://colab.research.google.com/github/it21053528/Fiverr-Freelancing/blob/main/unistu.ipynb\" target=\"_parent\"><img src=\"https://colab.research.google.com/assets/colab-badge.svg\" alt=\"Open In Colab\"/></a>"
      ]
    },
    {
      "cell_type": "code",
      "execution_count": 4,
      "metadata": {
        "id": "XkQuX2znqwAD"
      },
      "outputs": [],
      "source": [
        "with open(\"corpus.txt\", \"w\") as file:\n",
        "    file.write(\"On January 1, 2023, John Smith, CEO of Acme Corporation, announced a new partnership with XYZ Enterprises. As part of the agreement, Acme Corporation will receive a payment of $5 million, which will be used to fund the development of new products. The payment will be made in two installments, with the first payment of $2 million due on March 1, 2023, and the second payment of $3 million due on June 1, 2023. The partnership is expected to increase revenue for both companies and strengthen their positions in the market.\")\n"
      ]
    },
    {
      "cell_type": "code",
      "source": [
        "def load(f):\n",
        "    with open(f, \"r\") as file:\n",
        "        text = file.read()\n",
        "    return text\n"
      ],
      "metadata": {
        "id": "SSZdT8pqwpSr"
      },
      "execution_count": 5,
      "outputs": []
    },
    {
      "cell_type": "code",
      "source": [
        "text = load(\"corpus.txt\")\n",
        "print(text)\n"
      ],
      "metadata": {
        "colab": {
          "base_uri": "https://localhost:8080/"
        },
        "id": "7gFmIZnkwsVL",
        "outputId": "960159a5-584a-4849-b3b2-9fab79b8092a"
      },
      "execution_count": 21,
      "outputs": [
        {
          "output_type": "stream",
          "name": "stdout",
          "text": [
            "On January 1, 2023, John Smith, CEO of Acme Corporation, announced a new partnership with XYZ Enterprises. As part of the agreement, Acme Corporation will receive a payment of $5 million, which will be used to fund the development of new products. The payment will be made in two installments, with the first payment of $2 million due on March 1, 2023, and the second payment of $3 million due on June 1, 2023. The partnership is expected to increase revenue for both companies and strengthen their positions in the market.\n"
          ]
        }
      ]
    },
    {
      "cell_type": "code",
      "source": [
        "import nltk\n",
        "\n",
        "# Define tokenizer using a regular expression\n",
        "tokenizer = nltk.RegexpTokenizer(r'[^\\w\\s]+')\n",
        "\n",
        "# Tokenize the text using the tokenizer\n",
        "tokens = tokenizer.tokenize(text)\n",
        "\n",
        "# Print the tokens\n",
        "print(tokens)\n"
      ],
      "metadata": {
        "id": "R1OC5U0R1Eli",
        "outputId": "50c5ec3c-9fa0-4ada-f787-394f52564e0b",
        "colab": {
          "base_uri": "https://localhost:8080/"
        }
      },
      "execution_count": 22,
      "outputs": [
        {
          "output_type": "stream",
          "name": "stdout",
          "text": [
            "[',', ',', ',', ',', '.', ',', '$', ',', '.', ',', '$', ',', ',', '$', ',', '.', '.']\n"
          ]
        }
      ]
    },
    {
      "cell_type": "code",
      "source": [
        "# Define the regular expression patterns\n",
        "patterns = [\n",
        "    r'\\$\\d+\\.?\\d*',  # Matches monetary amounts with a dollar sign\n",
        "    r'\\d{1,2}/\\d{1,2}/\\d{2,4}',  # Matches dates in MM/DD/YYYY or MM/DD/YY format\n",
        "    r'[A-Z][a-z]+ [A-Z][a-z]+',  # Matches names of people with first and last name capitalized\n",
        "    r'[A-Z][a-z]+(?: [A-Z][a-z]+)* Inc\\.'  # Matches names of organizations ending in Inc.\n",
        "]\n",
        "\n",
        "# Combine the regular expression patterns using the | (or) operator\n",
        "pattern = '|'.join(patterns)\n",
        "\n",
        "# Tokenize the text using the regular expression pattern\n",
        "tokens = nltk.regexp_tokenize(text, pattern)\n",
        "\n",
        "# Print the tokens\n",
        "print(tokens)\n"
      ],
      "metadata": {
        "id": "VQfBPo_B54Ia",
        "outputId": "b0ce8d89-00ff-4735-ee7a-c761f91ed4cd",
        "colab": {
          "base_uri": "https://localhost:8080/"
        }
      },
      "execution_count": 23,
      "outputs": [
        {
          "output_type": "stream",
          "name": "stdout",
          "text": [
            "['On January', 'John Smith', 'Acme Corporation', 'Acme Corporation', '$5', '$2', '$3']\n"
          ]
        }
      ]
    }
  ]
}