{
  "cells": [
    {
      "cell_type": "markdown",
      "metadata": {
        "colab_type": "text",
        "id": "view-in-github"
      },
      "source": [
        "<a href=\"https://colab.research.google.com/github/it21053528/Fiverr-Freelancing/blob/main/unistu.ipynb\" target=\"_parent\"><img src=\"https://colab.research.google.com/assets/colab-badge.svg\" alt=\"Open In Colab\"/></a>"
      ]
    },
    {
      "cell_type": "markdown",
      "metadata": {
        "id": "MZ21YfSYjaod"
      },
      "source": [
        "Part 01"
      ]
    },
    {
      "attachments": {},
      "cell_type": "markdown",
      "metadata": {},
      "source": [
        "1"
      ]
    },
    {
      "cell_type": "code",
      "execution_count": 4,
      "metadata": {
        "id": "XkQuX2znqwAD"
      },
      "outputs": [],
      "source": [
        "with open(\"corpus.txt\", \"w\") as file:\n",
        "    file.write(\"On January 1, 2023, John Smith, CEO of Acme Corporation, announced a new partnership with XYZ Enterprises. As part of the agreement, Acme Corporation will receive a payment of $5 million, which will be used to fund the development of new products. The payment will be made in two installments, with the first payment of $2 million due on March 1, 2023, and the second payment of $3 million due on June 1, 2023. The partnership is expected to increase revenue for both companies and strengthen their positions in the market.\")\n"
      ]
    },
    {
      "cell_type": "code",
      "execution_count": 5,
      "metadata": {
        "id": "SSZdT8pqwpSr"
      },
      "outputs": [],
      "source": [
        "def load(f):\n",
        "    with open(f, \"r\") as file:\n",
        "        text = file.read()\n",
        "    return text\n"
      ]
    },
    {
      "cell_type": "code",
      "execution_count": 21,
      "metadata": {
        "colab": {
          "base_uri": "https://localhost:8080/"
        },
        "id": "7gFmIZnkwsVL",
        "outputId": "960159a5-584a-4849-b3b2-9fab79b8092a"
      },
      "outputs": [
        {
          "name": "stdout",
          "output_type": "stream",
          "text": [
            "On January 1, 2023, John Smith, CEO of Acme Corporation, announced a new partnership with XYZ Enterprises. As part of the agreement, Acme Corporation will receive a payment of $5 million, which will be used to fund the development of new products. The payment will be made in two installments, with the first payment of $2 million due on March 1, 2023, and the second payment of $3 million due on June 1, 2023. The partnership is expected to increase revenue for both companies and strengthen their positions in the market.\n"
          ]
        }
      ],
      "source": [
        "text = load(\"corpus.txt\")\n",
        "print(text)\n"
      ]
    },
    {
      "attachments": {},
      "cell_type": "markdown",
      "metadata": {},
      "source": [
        "1 a."
      ]
    },
    {
      "cell_type": "code",
      "execution_count": 22,
      "metadata": {
        "colab": {
          "base_uri": "https://localhost:8080/"
        },
        "id": "R1OC5U0R1Eli",
        "outputId": "50c5ec3c-9fa0-4ada-f787-394f52564e0b"
      },
      "outputs": [
        {
          "name": "stdout",
          "output_type": "stream",
          "text": [
            "[',', ',', ',', ',', '.', ',', '$', ',', '.', ',', '$', ',', ',', '$', ',', '.', '.']\n"
          ]
        }
      ],
      "source": [
        "import nltk\n",
        "\n",
        "# Define tokenizer using a regular expression\n",
        "tokenizer = nltk.RegexpTokenizer(r'[^\\w\\s]+')\n",
        "\n",
        "# Tokenize the text using the tokenizer\n",
        "tokens = tokenizer.tokenize(text)\n",
        "\n",
        "# Print the tokens\n",
        "print(tokens)\n"
      ]
    },
    {
      "attachments": {},
      "cell_type": "markdown",
      "metadata": {},
      "source": [
        "2 b."
      ]
    },
    {
      "cell_type": "code",
      "execution_count": 23,
      "metadata": {
        "colab": {
          "base_uri": "https://localhost:8080/"
        },
        "id": "VQfBPo_B54Ia",
        "outputId": "b0ce8d89-00ff-4735-ee7a-c761f91ed4cd"
      },
      "outputs": [
        {
          "name": "stdout",
          "output_type": "stream",
          "text": [
            "['On January', 'John Smith', 'Acme Corporation', 'Acme Corporation', '$5', '$2', '$3']\n"
          ]
        }
      ],
      "source": [
        "# Define the regular expression patterns\n",
        "patterns = [\n",
        "    r'\\$\\d+\\.?\\d*',  # Matches monetary amounts with a dollar sign\n",
        "    r'\\d{1,2}/\\d{1,2}/\\d{2,4}',  # Matches dates in MM/DD/YYYY or MM/DD/YY format\n",
        "    r'[A-Z][a-z]+ [A-Z][a-z]+',  # Matches names of people with first and last name capitalized\n",
        "    r'[A-Z][a-z]+(?: [A-Z][a-z]+)* Inc\\.'  # Matches names of organizations ending in Inc.\n",
        "]\n",
        "\n",
        "# Combine the regular expression patterns using the | (or) operator\n",
        "pattern = '|'.join(patterns)\n",
        "\n",
        "# Tokenize the text using the regular expression pattern\n",
        "tokens = nltk.regexp_tokenize(text, pattern)\n",
        "\n",
        "# Print the tokens\n",
        "print(tokens)\n"
      ]
    },
    {
      "attachments": {},
      "cell_type": "markdown",
      "metadata": {},
      "source": [
        "2."
      ]
    },
    {
      "cell_type": "code",
      "execution_count": 25,
      "metadata": {
        "colab": {
          "base_uri": "https://localhost:8080/"
        },
        "id": "SpH6FcXWad_0",
        "outputId": "e6317fcc-b32c-4d21-afb1-452d2326a720"
      },
      "outputs": [
        {
          "name": "stdout",
          "output_type": "stream",
          "text": [
            "[('The', 3), ('dog', 3), ('gave', 4), ('John', 4), ('the', 3), ('newspaper', 9)]\n"
          ]
        }
      ],
      "source": [
        "sent = ['The', 'dog', 'gave', 'John', 'the', 'newspaper']\n",
        "result = [(word, len(word)) for word in sent]\n",
        "print(result)"
      ]
    },
    {
      "attachments": {},
      "cell_type": "markdown",
      "metadata": {},
      "source": [
        "2 a."
      ]
    },
    {
      "cell_type": "code",
      "execution_count": 26,
      "metadata": {
        "colab": {
          "base_uri": "https://localhost:8080/"
        },
        "id": "eZ_pa_5xa5uO",
        "outputId": "6a0bc21e-bac6-44d6-dad9-5bcfb64d0071"
      },
      "outputs": [
        {
          "name": "stdout",
          "output_type": "stream",
          "text": [
            "['She ', 'ell', ' ', 'ea', 'hell', ' by the ', 'ea', 'hore']\n"
          ]
        }
      ],
      "source": [
        "row = \"She sells seashells by the seashore\"\n",
        "words = row.split('s')\n",
        "print(words)\n"
      ]
    },
    {
      "attachments": {},
      "cell_type": "markdown",
      "metadata": {},
      "source": [
        "3."
      ]
    },
    {
      "cell_type": "code",
      "execution_count": 27,
      "metadata": {
        "colab": {
          "base_uri": "https://localhost:8080/"
        },
        "id": "VUbe6_39blVX",
        "outputId": "6aa88f9e-3bf3-4789-de13-639f953c63e5"
      },
      "outputs": [
        {
          "name": "stdout",
          "output_type": "stream",
          "text": [
            "H\n",
            "e\n",
            "l\n",
            "l\n",
            "o\n",
            ",\n",
            " \n",
            "w\n",
            "o\n",
            "r\n",
            "l\n",
            "d\n",
            "!\n"
          ]
        }
      ],
      "source": [
        "my_string = \"Hello, world!\"\n",
        "for char in my_string:\n",
        "    print(char)\n"
      ]
    },
    {
      "attachments": {},
      "cell_type": "markdown",
      "metadata": {},
      "source": [
        "4."
      ]
    },
    {
      "cell_type": "markdown",
      "metadata": {
        "id": "PTgbWB_UgPIx"
      },
      "source": [
        "Calling split() on a string with no argument is equivalent to calling it with ' ' (a space) as the argument.\n",
        "\n",
        "When you call split() with no argument, it uses whitespace (spaces, tabs, and newlines) as the delimiter to split the string. For example:\n"
      ]
    },
    {
      "cell_type": "code",
      "execution_count": 28,
      "metadata": {
        "colab": {
          "base_uri": "https://localhost:8080/"
        },
        "id": "RDF2Gy1egTbI",
        "outputId": "d5644a3d-7d34-41e1-fa62-80cebc080bbb"
      },
      "outputs": [
        {
          "name": "stdout",
          "output_type": "stream",
          "text": [
            "['Hello', 'world']\n"
          ]
        }
      ],
      "source": [
        "my_string = \"Hello\\tworld\\n\"\n",
        "words = my_string.split()\n",
        "print(words)"
      ]
    },
    {
      "cell_type": "markdown",
      "metadata": {
        "id": "jVqLDL4kgcvD"
      },
      "source": [
        "In this example, the string my_string contains the text \"Hello\" followed by a tab character (\\t) and then \"world\" followed by a newline character (\\n). The split() method is called on the string with no argument, which causes the string to be split into a list of words based on the whitespace characters."
      ]
    },
    {
      "cell_type": "markdown",
      "metadata": {
        "id": "Lqk7N0MvgfEr"
      },
      "source": [
        "When you call split() with ' ' as the argument, it splits the string on spaces only, ignoring any other whitespace characters. For example:"
      ]
    },
    {
      "cell_type": "code",
      "execution_count": 29,
      "metadata": {
        "colab": {
          "base_uri": "https://localhost:8080/"
        },
        "id": "TdygsgKzgdva",
        "outputId": "0ab370e6-fcbc-4e57-faa0-75586c68a9f0"
      },
      "outputs": [
        {
          "name": "stdout",
          "output_type": "stream",
          "text": [
            "['Hello\\tworld\\n']\n"
          ]
        }
      ],
      "source": [
        "my_string = \"Hello\\tworld\\n\"\n",
        "words = my_string.split(' ')\n",
        "print(words)"
      ]
    },
    {
      "cell_type": "markdown",
      "metadata": {
        "id": "ctHSexe1gmcC"
      },
      "source": [
        "In this example, the split() method is called on the string with ' ' as the argument, which causes the string to be split into a list containing only the original string, because there are no spaces in it. The tab and newline characters are not treated as delimiters in this case."
      ]
    },
    {
      "attachments": {},
      "cell_type": "markdown",
      "metadata": {},
      "source": [
        "5."
      ]
    },
    {
      "cell_type": "markdown",
      "metadata": {
        "id": "-u_5_9tUiK_J"
      },
      "source": [
        "Both list.sort() and the built-in function sorted() can be used to sort a list. However, they differ in how they work and how they affect the original list."
      ]
    },
    {
      "cell_type": "code",
      "execution_count": 30,
      "metadata": {
        "colab": {
          "base_uri": "https://localhost:8080/"
        },
        "id": "2pdAwFiRiMEB",
        "outputId": "e1db7b45-ea24-48fe-e1c6-05f68b9cb6a9"
      },
      "outputs": [
        {
          "name": "stdout",
          "output_type": "stream",
          "text": [
            "['apple', 'banana', 'cherry']\n"
          ]
        }
      ],
      "source": [
        "words = ['banana', 'apple', 'cherry']\n",
        "words.sort()\n",
        "print(words)"
      ]
    },
    {
      "cell_type": "markdown",
      "metadata": {
        "id": "emqy8tskiUNy"
      },
      "source": [
        "sorted() is a built-in function that returns a new sorted list based on the input list. It doesn't modify the original list. The sorted list is returned as the result of the function call, so you need to assign it to a new variable to keep it. For example:"
      ]
    },
    {
      "cell_type": "code",
      "execution_count": 31,
      "metadata": {
        "colab": {
          "base_uri": "https://localhost:8080/"
        },
        "id": "S_K-pEpFiVHC",
        "outputId": "33f99fdf-59de-4672-ff55-b9e41c87803d"
      },
      "outputs": [
        {
          "name": "stdout",
          "output_type": "stream",
          "text": [
            "['apple', 'banana', 'cherry']\n"
          ]
        }
      ],
      "source": [
        "words = ['banana', 'apple', 'cherry']\n",
        "sorted_words = sorted(words)\n",
        "print(sorted_words)"
      ]
    },
    {
      "cell_type": "markdown",
      "metadata": {
        "id": "3_NuYdz3ibx6"
      },
      "source": [
        "In summary, the main differences between list.sort() and sorted() are:\n",
        "\n",
        "list.sort() sorts the list in-place, while sorted() returns a new sorted list.\n",
        "list.sort() doesn't return anything, while sorted() returns the sorted list as its result.\n",
        "list.sort() modifies the original list, while sorted() leaves the original list unchanged."
      ]
    },
    {
      "cell_type": "markdown",
      "metadata": {
        "id": "pcoC3ulJi7NT"
      },
      "source": [
        "Part 02"
      ]
    },
    {
      "attachments": {},
      "cell_type": "markdown",
      "metadata": {},
      "source": [
        "1."
      ]
    },
    {
      "cell_type": "code",
      "execution_count": 1,
      "metadata": {
        "id": "-N9Rf9i2kGFa"
      },
      "outputs": [
        {
          "name": "stdout",
          "output_type": "stream",
          "text": [
            "Accuracy on dev-test set: 0.772\n",
            "Accuracy on dev-test set with more features: 0.806\n",
            "Most Informative Features\n",
            "             last_letter = 'a'            female : male   =     35.7 : 1.0\n",
            "             last_letter = 'k'              male : female =     29.2 : 1.0\n",
            "             last_letter = 'f'              male : female =     25.3 : 1.0\n",
            "             last_letter = 'p'              male : female =     11.1 : 1.0\n",
            "             last_letter = 'v'              male : female =     10.5 : 1.0\n",
            "             last_letter = 'd'              male : female =      8.8 : 1.0\n",
            "                count(v) = 2              female : male   =      8.5 : 1.0\n",
            "             last_letter = 'o'              male : female =      8.0 : 1.0\n",
            "             last_letter = 'm'              male : female =      7.8 : 1.0\n",
            "             last_letter = 'r'              male : female =      6.4 : 1.0\n",
            "             last_letter = 'g'              male : female =      5.1 : 1.0\n",
            "                count(a) = 3              female : male   =      4.9 : 1.0\n",
            "             last_letter = 'b'              male : female =      4.8 : 1.0\n",
            "            first_letter = 'w'              male : female =      4.5 : 1.0\n",
            "             last_letter = 's'              male : female =      4.4 : 1.0\n",
            "                count(w) = 1                male : female =      4.2 : 1.0\n",
            "             last_letter = 'w'              male : female =      4.1 : 1.0\n",
            "                  has(w) = True             male : female =      4.1 : 1.0\n",
            "             last_letter = 't'              male : female =      4.1 : 1.0\n",
            "             last_letter = 'z'              male : female =      3.9 : 1.0\n",
            "Accuracy on test set: 0.794\n"
          ]
        }
      ],
      "source": [
        "import random\n",
        "from nltk.corpus import names\n",
        "from nltk import NaiveBayesClassifier, classify\n",
        "\n",
        "# Define a feature extractor function\n",
        "def gender_features(word):\n",
        "    return {'last_letter': word[-1]}\n",
        "\n",
        "# Load the Names Corpus and create labeled feature sets\n",
        "labeled_names = ([(name, 'male') for name in names.words('male.txt')] +\n",
        "                 [(name, 'female') for name in names.words('female.txt')])\n",
        "random.shuffle(labeled_names)\n",
        "featuresets = [(gender_features(name), gender) for (name, gender) in labeled_names]\n",
        "\n",
        "# Split the data into training, dev-test, and test sets\n",
        "train_set, devtest_set, test_set = featuresets[1000:], featuresets[500:1000], featuresets[:500]\n",
        "\n",
        "# Train a Naive Bayes classifier and evaluate on the dev-test set\n",
        "classifier = NaiveBayesClassifier.train(train_set)\n",
        "print('Accuracy on dev-test set:', classify.accuracy(classifier, devtest_set))\n",
        "\n",
        "# Try adding some more features to the feature extractor function\n",
        "def gender_features2(name):\n",
        "    features = {}\n",
        "    features['first_letter'] = name[0].lower()\n",
        "    features['last_letter'] = name[-1].lower()\n",
        "    for letter in 'abcdefghijklmnopqrstuvwxyz':\n",
        "        features['count({})'.format(letter)] = name.lower().count(letter)\n",
        "        features['has({})'.format(letter)] = (letter in name.lower())\n",
        "    return features\n",
        "\n",
        "# Update the feature sets with the new feature extractor function\n",
        "featuresets = [(gender_features2(name), gender) for (name, gender) in labeled_names]\n",
        "\n",
        "# Split the data into training, dev-test, and test sets again\n",
        "train_set, devtest_set, test_set = featuresets[1000:], featuresets[500:1000], featuresets[:500]\n",
        "\n",
        "# Train a new classifier with the updated feature sets and evaluate on the dev-test set\n",
        "classifier2 = NaiveBayesClassifier.train(train_set)\n",
        "print('Accuracy on dev-test set with more features:', classify.accuracy(classifier2, devtest_set))\n",
        "\n",
        "# Show the most informative features of the new classifier\n",
        "classifier2.show_most_informative_features(20)\n",
        "\n",
        "# Evaluate the final classifier on the test set\n",
        "print('Accuracy on test set:', classify.accuracy(classifier2, test_set))"
      ]
    },
    {
      "attachments": {},
      "cell_type": "markdown",
      "metadata": {},
      "source": [
        "2.\n",
        "\n",
        "The accuracy (performance) of the test set is higher than dev-test set"
      ]
    }
  ],
  "metadata": {
    "colab": {
      "authorship_tag": "ABX9TyPn74xAbL8wlkraYkh1dmBA",
      "include_colab_link": true,
      "provenance": []
    },
    "kernelspec": {
      "display_name": "Python 3",
      "name": "python3"
    },
    "language_info": {
      "codemirror_mode": {
        "name": "ipython",
        "version": 3
      },
      "file_extension": ".py",
      "mimetype": "text/x-python",
      "name": "python",
      "nbconvert_exporter": "python",
      "pygments_lexer": "ipython3",
      "version": "3.10.7"
    }
  },
  "nbformat": 4,
  "nbformat_minor": 0
}
