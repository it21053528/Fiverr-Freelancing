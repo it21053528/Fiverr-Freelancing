{
 "cells": [
  {
   "attachments": {},
   "cell_type": "markdown",
   "metadata": {},
   "source": [
    "Q1"
   ]
  },
  {
   "attachments": {},
   "cell_type": "markdown",
   "metadata": {},
   "source": [
    "This is a Python code that prompts the user to enter the number of elements they want in the list. It then creates an empty list named my_list.\n",
    "\n",
    "Next, it enters a loop that runs n times, where n is the number of elements that the user wants in the list. In each iteration, the code prompts the user to enter an integer, \n",
    "and appends it to the list my_list.\n",
    "\n",
    "After adding all the items to the list, the code checks if the length of the list is greater than 1 and if the first and last items of the list are the same. \n",
    "If both conditions are true, the code prints the list and the boolean value True. If any of the conditions is false, the code prints the list and the boolean value False.\n",
    "\n",
    "Finally, the output is displayed to the user. If the list contains more than one item and the first and last items are the same, \n",
    "the output is \"The list [list items] True\". If the list contains only one item or the first and last items are not the same, the output is \"The list [list items] False\"."
   ]
  },
  {
   "cell_type": "code",
   "execution_count": 4,
   "metadata": {},
   "outputs": [
    {
     "name": "stdout",
     "output_type": "stream",
     "text": [
      "The list [1, 2, 3, 2, 1] True\n"
     ]
    }
   ],
   "source": [
    "n = int(input(\"Enter the number of elements in the list: \"))\n",
    "my_list = []\n",
    "for i in range(n):\n",
    "    item = int(input(\"Enter the item to be added to the list: \"))\n",
    "    my_list.append(item)\n",
    "\n",
    "if len(my_list) > 1 and my_list[0] == my_list[-1]:\n",
    "    print(\"The list\", my_list, True)\n",
    "else:\n",
    "    print(\"The list\", my_list, False)"
   ]
  },
  {
   "attachments": {},
   "cell_type": "markdown",
   "metadata": {},
   "source": [
    "Q2"
   ]
  },
  {
   "attachments": {},
   "cell_type": "markdown",
   "metadata": {},
   "source": [
    "The given code prompts the user to input the number of elements in the list and creates an empty list. \n",
    "Then it prompts the user to enter 'n' strings and appends them to the list.\n",
    "\n",
    "The for loop in the next block of code iterates over each string in the list and checks if it has at least one character. If it has zero characters, the code outputs a message indicating that there is nothing to compare.\n",
    "\n",
    "If the string has more than one character, the code checks if the first and last characters of the string are the same.\n",
    "If they are the same, the code outputs a message indicating that the first and last characters of the string are the same. \n",
    "If they are not the same, the code outputs a message indicating that the first and last characters of the string are different.\n",
    "\n",
    "Finally, the output message for each string in the list is displayed to the user."
   ]
  },
  {
   "cell_type": "code",
   "execution_count": 5,
   "metadata": {},
   "outputs": [
    {
     "name": "stdout",
     "output_type": "stream",
     "text": [
      "No! The first and last characters in the word apple is different!\n",
      "Yes! The first and last characters in the word tent is the same!\n",
      "No! The first and last characters in the word one is different!\n",
      "Yes! The first and last characters in the word a is the same!\n",
      "Yes! The first and last characters in the word sends is the same!\n"
     ]
    }
   ],
   "source": [
    "n = int(input(\"Enter the number of elements in the list: \"))\n",
    "my_list = []\n",
    "for i in range(n):\n",
    "    string = input(\"Enter the string to be added to the list: \")\n",
    "    my_list.append(string)\n",
    "\n",
    "for string in my_list:\n",
    "    if len(string) == 0:\n",
    "        print(\"Nothing to compare! The length of {} is zero!\".format(string))\n",
    "    elif string[0] == string[-1]:\n",
    "        print(\"Yes! The first and last characters in the word {} is the same!\".format(string))\n",
    "    else:\n",
    "        print(\"No! The first and last characters in the word {} is different!\".format(string))\n",
    "    "
   ]
  },
  {
   "attachments": {},
   "cell_type": "markdown",
   "metadata": {},
   "source": [
    "Q3\n",
    "\n",
    "The code first prompts the user to enter the number of elements they want in the tuple. It then creates an empty tuple named my_tuple.\n",
    "\n",
    "Next, it enters a loop that runs n times, where n is the number of elements that the user wants in the tuple. In each iteration, the code prompts the user to enter an integer and adds it to the tuple my_tuple. Note that tuples are immutable, so the code creates a new tuple in each iteration by concatenating the old tuple with a new tuple containing the new element.\n",
    "\n",
    "After adding all the elements to the tuple, the code initializes two variables even_count and even_sum to zero. It then enters another loop that iterates over each element in the tuple my_tuple. In each iteration, the code checks if the element is even (i.e., divisible by 2) and if so, it increments even_count and adds the element to even_sum.\n",
    "\n",
    "Finally, the code prints the number of even numbers and the sum of even numbers in the tuple."
   ]
  },
  {
   "cell_type": "code",
   "execution_count": 6,
   "metadata": {},
   "outputs": [
    {
     "name": "stdout",
     "output_type": "stream",
     "text": [
      "The number of even numbers in the tuple is 3\n",
      "The sum of the even numbers in the tuple is 12\n"
     ]
    }
   ],
   "source": [
    "n = int(input(\"Enter the number of elements in the tuple: \"))\n",
    "my_tuple = ()\n",
    "\n",
    "for i in range(n):\n",
    "    element = int(input(\"Enter the element to be added to the tuple: \"))\n",
    "    my_tuple += (element,)\n",
    "\n",
    "even_count = 0\n",
    "even_sum = 0\n",
    "for element in my_tuple:\n",
    "    if element % 2 == 0:\n",
    "        even_count += 1\n",
    "        even_sum += element\n",
    "\n",
    "print(\"The number of even numbers in the tuple is\", even_count)\n",
    "print(\"The sum of the even numbers in the tuple is\", even_sum)\n"
   ]
  },
  {
   "attachments": {},
   "cell_type": "markdown",
   "metadata": {},
   "source": [
    "Q4\n",
    "\n",
    "In this solution, we first get the input sentence and the length of the word from the user. Then, we split the sentence into a list of words using the split() method.\n",
    "\n",
    "Next, we use a list comprehension to filter out the words that are longer than n. We create a new list called filtered_words that contains only the words that have a length less than or equal to n.\n",
    "\n",
    "Finally, we print out the original sentence, the list of words, and the filtered list of words.\n",
    "\n",
    "Note that this solution assumes that a \"word\" is any sequence of non-whitespace characters. If you want to define words differently (e.g. only including alphabetic characters), you'll need to modify the solution accordingly."
   ]
  },
  {
   "cell_type": "code",
   "execution_count": 7,
   "metadata": {},
   "outputs": [
    {
     "name": "stdout",
     "output_type": "stream",
     "text": [
      "The original sentence:  I like you\n",
      "List of words: ['I', 'like', 'you']\n",
      "The filtered list of words: ['I', 'you']\n"
     ]
    }
   ],
   "source": [
    "sentence = input(\"Enter the sentence: \")\n",
    "n = int(input(\"Enter the length of the word: \"))\n",
    "\n",
    "# Split the sentence into a list of words\n",
    "words = sentence.split()\n",
    "\n",
    "# Filter out words that are longer than n\n",
    "filtered_words = [word for word in words if len(word) <= n]\n",
    "\n",
    "print(\"The original sentence:\", sentence)\n",
    "print(\"List of words:\", words)\n",
    "print(\"The filtered list of words:\", filtered_words)\n"
   ]
  }
 ],
 "metadata": {
  "kernelspec": {
   "display_name": "Python 3",
   "language": "python",
   "name": "python3"
  },
  "language_info": {
   "codemirror_mode": {
    "name": "ipython",
    "version": 3
   },
   "file_extension": ".py",
   "mimetype": "text/x-python",
   "name": "python",
   "nbconvert_exporter": "python",
   "pygments_lexer": "ipython3",
   "version": "3.10.7"
  },
  "orig_nbformat": 4
 },
 "nbformat": 4,
 "nbformat_minor": 2
}
