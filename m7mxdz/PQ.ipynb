{
 "cells": [
  {
   "attachments": {},
   "cell_type": "markdown",
   "metadata": {},
   "source": [
    "Q1"
   ]
  },
  {
   "cell_type": "code",
   "execution_count": 2,
   "metadata": {},
   "outputs": [
    {
     "name": "stdout",
     "output_type": "stream",
     "text": [
      "Bonus eligible employees: ['Bob', 'Eve']\n"
     ]
    }
   ],
   "source": [
    "sales_data = [('Alice', 75000), \n",
    "              ('Bob', 120000), \n",
    "              ('Charlie', 95000), \n",
    "              ('Dave', 80000), \n",
    "              ('Eve', 110000)]\n",
    "\n",
    "#list comprehension\n",
    "bonus_eligible = [employee[0] for employee in sales_data if employee[1] >= 100000]\n",
    "\n",
    "print(\"Bonus eligible employees:\", bonus_eligible)"
   ]
  },
  {
   "attachments": {},
   "cell_type": "markdown",
   "metadata": {},
   "source": [
    "Q2"
   ]
  },
  {
   "cell_type": "code",
   "execution_count": 1,
   "metadata": {},
   "outputs": [
    {
     "name": "stdout",
     "output_type": "stream",
     "text": [
      "Library book information: {'The Great Gatsby': {'author': 'F. Scott Fitzgerald', 'publisher': 'Scribner', 'year': 1925}, 'To Kill a Mockingbird': {'author': 'Harper Lee', 'publisher': 'J. B. Lippincott & Co.', 'year': 1960}, '1984': {'author': 'George Orwell', 'publisher': 'Secker & Warburg', 'year': 1949}}\n",
      "The Great Gatsby author: F. Scott Fitzgerald\n",
      "Modified library book information: {'The Great Gatsby': {'author': 'F. Scott Fitzgerald', 'publisher': 'Scribner', 'year': 2022}, 'To Kill a Mockingbird': {'author': 'Harper Lee', 'publisher': 'J. B. Lippincott & Co.', 'year': 1960}, '1984': {'author': 'George Orwell', 'publisher': 'Secker & Warburg', 'year': 1949}}\n",
      "Library book information with new book: {'The Great Gatsby': {'author': 'F. Scott Fitzgerald', 'publisher': 'Scribner', 'year': 2022}, 'To Kill a Mockingbird': {'author': 'Harper Lee', 'publisher': 'J. B. Lippincott & Co.', 'year': 1960}, '1984': {'author': 'George Orwell', 'publisher': 'Secker & Warburg', 'year': 1949}, 'Animal Farm': {'author': 'George Orwell', 'publisher': 'Secker & Warburg', 'year': 1945}}\n",
      "Library book information without To Kill a Mockingbird: {'The Great Gatsby': {'author': 'F. Scott Fitzgerald', 'publisher': 'Scribner', 'year': 2022}, '1984': {'author': 'George Orwell', 'publisher': 'Secker & Warburg', 'year': 1949}, 'Animal Farm': {'author': 'George Orwell', 'publisher': 'Secker & Warburg', 'year': 1945}}\n"
     ]
    }
   ],
   "source": [
    "library_books = {\n",
    "    'The Great Gatsby': {'author': 'F. Scott Fitzgerald', 'publisher': 'Scribner', 'year': 1925},\n",
    "    'To Kill a Mockingbird': {'author': 'Harper Lee', 'publisher': 'J. B. Lippincott & Co.', 'year': 1960},\n",
    "    '1984': {'author': 'George Orwell', 'publisher': 'Secker & Warburg', 'year': 1949}\n",
    "}\n",
    "\n",
    "#a)\n",
    "print(\"Library book information:\", library_books)\n",
    "\n",
    "# b) access a value using its key\n",
    "print(\"The Great Gatsby author:\", library_books['The Great Gatsby']['author'])\n",
    "\n",
    "# C) modify a value using its key and print the modified dictionary\n",
    "library_books['The Great Gatsby']['year'] = 2022\n",
    "print(\"Modified library book information:\", library_books)\n",
    "\n",
    "# d) add a new key-value pair to the dictionary and print the dictionary with the new key-value pair\n",
    "library_books['Animal Farm'] = {'author': 'George Orwell', 'publisher': 'Secker & Warburg', 'year': 1945}\n",
    "print(\"Library book information with new book:\", library_books)\n",
    "\n",
    "# e) delete a key-value pair from the dictionary and print the dictionary without the deleted key-value pair\n",
    "del library_books['To Kill a Mockingbird']\n",
    "print(\"Library book information without To Kill a Mockingbird:\", library_books)"
   ]
  },
  {
   "cell_type": "code",
   "execution_count": 4,
   "metadata": {},
   "outputs": [
    {
     "name": "stdout",
     "output_type": "stream",
     "text": [
      "The Great Gatsby author: F. Scott Fitzgerald\n"
     ]
    }
   ],
   "source": [
    "# b) access a value using its key\n",
    "print(\"The Great Gatsby author:\", library_books['The Great Gatsby']['author'])"
   ]
  },
  {
   "cell_type": "code",
   "execution_count": 5,
   "metadata": {},
   "outputs": [
    {
     "name": "stdout",
     "output_type": "stream",
     "text": [
      "Modified library book information: {'The Great Gatsby': {'author': 'F. Scott Fitzgerald', 'publisher': 'Scribner', 'year': 2022}, 'To Kill a Mockingbird': {'author': 'Harper Lee', 'publisher': 'J. B. Lippincott & Co.', 'year': 1960}, '1984': {'author': 'George Orwell', 'publisher': 'Secker & Warburg', 'year': 1949}}\n"
     ]
    }
   ],
   "source": [
    "# C) modify a value using its key and print the modified dictionary\n",
    "library_books['The Great Gatsby']['year'] = 2022\n",
    "print(\"Modified library book information:\", library_books)"
   ]
  },
  {
   "cell_type": "code",
   "execution_count": 6,
   "metadata": {},
   "outputs": [
    {
     "name": "stdout",
     "output_type": "stream",
     "text": [
      "Library book information with new book: {'The Great Gatsby': {'author': 'F. Scott Fitzgerald', 'publisher': 'Scribner', 'year': 2022}, 'To Kill a Mockingbird': {'author': 'Harper Lee', 'publisher': 'J. B. Lippincott & Co.', 'year': 1960}, '1984': {'author': 'George Orwell', 'publisher': 'Secker & Warburg', 'year': 1949}, 'Animal Farm': {'author': 'George Orwell', 'publisher': 'Secker & Warburg', 'year': 1945}}\n"
     ]
    }
   ],
   "source": [
    "# d) add a new key-value pair to the dictionary and print the dictionary with the new key-value pair\n",
    "library_books['Animal Farm'] = {'author': 'George Orwell', 'publisher': 'Secker & Warburg', 'year': 1945}\n",
    "print(\"Library book information with new book:\", library_books)"
   ]
  },
  {
   "cell_type": "code",
   "execution_count": 7,
   "metadata": {},
   "outputs": [
    {
     "name": "stdout",
     "output_type": "stream",
     "text": [
      "Library book information without To Kill a Mockingbird: {'The Great Gatsby': {'author': 'F. Scott Fitzgerald', 'publisher': 'Scribner', 'year': 2022}, '1984': {'author': 'George Orwell', 'publisher': 'Secker & Warburg', 'year': 1949}, 'Animal Farm': {'author': 'George Orwell', 'publisher': 'Secker & Warburg', 'year': 1945}}\n"
     ]
    }
   ],
   "source": [
    "# e) delete a key-value pair from the dictionary and print the dictionary without the deleted key-value pair\n",
    "del library_books['To Kill a Mockingbird']\n",
    "print(\"Library book information without To Kill a Mockingbird:\", library_books)"
   ]
  },
  {
   "attachments": {},
   "cell_type": "markdown",
   "metadata": {},
   "source": [
    "Q3"
   ]
  },
  {
   "cell_type": "code",
   "execution_count": 8,
   "metadata": {},
   "outputs": [
    {
     "name": "stdout",
     "output_type": "stream",
     "text": [
      "Jersey numbers: {34, 53, 22, 10, 45}\n"
     ]
    }
   ],
   "source": [
    "#a) create and print the set:\n",
    "jersey_numbers = {34, 10, 45, 53, 22}\n",
    "print(\"Jersey numbers:\", jersey_numbers)\n",
    "\n",
    "#b) check if a value is in the set\n",
    "print(\"Is 22 in the set?\", 22 in jersey_numbers)\n",
    "\n",
    "#c) add a new value to the set and print the set with the new value\n",
    "jersey_numbers.add(67)\n",
    "print(\"Jersey numbers with new value:\", jersey_numbers)\n",
    "\n",
    "# d) remove a value from the set and print the set without the removed value\n",
    "jersey_numbers.remove(34)\n",
    "print(\"Jersey numbers without removed value:\", jersey_numbers)\n",
    "\n",
    "# e) create a union of two sets and print the union of two set\n",
    "other_jersey_numbers = {23, 89,10}\n",
    "all_jersey_numbers = jersey_numbers.union(other_jersey_numbers)\n",
    "print(\"All jersey numbers:\", all_jersey_numbers)\n",
    "\n",
    "# f) create an intersection of two sets and print the intersection of two sets\n",
    "common_jersey_numbers = jersey_numbers.intersection(other_jersey_numbers)\n",
    "print(\"Common jersey numbers:\", common_jersey_numbers)"
   ]
  },
  {
   "cell_type": "code",
   "execution_count": 9,
   "metadata": {},
   "outputs": [
    {
     "name": "stdout",
     "output_type": "stream",
     "text": [
      "Is 22 in the set? True\n"
     ]
    }
   ],
   "source": [
    "#b) check if a value is in the set\n",
    "print(\"Is 22 in the set?\", 22 in jersey_numbers)"
   ]
  },
  {
   "cell_type": "code",
   "execution_count": 10,
   "metadata": {},
   "outputs": [
    {
     "name": "stdout",
     "output_type": "stream",
     "text": [
      "Jersey numbers with new value: {34, 67, 53, 22, 10, 45}\n"
     ]
    }
   ],
   "source": [
    "#c) add a new value to the set and print the set with the new value\n",
    "jersey_numbers.add(67)\n",
    "print(\"Jersey numbers with new value:\", jersey_numbers)"
   ]
  },
  {
   "cell_type": "code",
   "execution_count": 11,
   "metadata": {},
   "outputs": [
    {
     "name": "stdout",
     "output_type": "stream",
     "text": [
      "Jersey numbers without removed value: {67, 53, 22, 10, 45}\n"
     ]
    }
   ],
   "source": [
    "# d) remove a value from the set and print the set without the removed value\n",
    "jersey_numbers.remove(34)\n",
    "print(\"Jersey numbers without removed value:\", jersey_numbers)"
   ]
  },
  {
   "cell_type": "code",
   "execution_count": 14,
   "metadata": {},
   "outputs": [
    {
     "name": "stdout",
     "output_type": "stream",
     "text": [
      "All jersey numbers: {67, 53, 22, 23, 89, 10, 45}\n"
     ]
    }
   ],
   "source": [
    "# e) create a union of two sets and print the union of two set\n",
    "other_jersey_numbers = {23, 89,10}\n",
    "all_jersey_numbers = jersey_numbers.union(other_jersey_numbers)\n",
    "print(\"All jersey numbers:\", all_jersey_numbers)"
   ]
  },
  {
   "cell_type": "code",
   "execution_count": 15,
   "metadata": {},
   "outputs": [
    {
     "name": "stdout",
     "output_type": "stream",
     "text": [
      "Common jersey numbers: {10}\n"
     ]
    }
   ],
   "source": [
    "# f) create an intersection of two sets and print the intersection of two sets\n",
    "common_jersey_numbers = jersey_numbers.intersection(other_jersey_numbers)\n",
    "print(\"Common jersey numbers:\", common_jersey_numbers)"
   ]
  },
  {
   "attachments": {},
   "cell_type": "markdown",
   "metadata": {},
   "source": [
    "Q4\n",
    "\n",
    "Here, the calculate_bonus function takes in two parameters performance_rating and salary. If the performance_rating is \"excellent\", the function calculates and returns the bonus as 10% of the salary. If the performance_rating is \"good\", the function calculates and returns the bonus as 5% of the salary. If the performance_rating is anything else, the function returns 0.\n",
    "\n",
    "In this case, we have set performance_rating as \"excellent\" and salary as 5000. We pass these values to the calculate_bonus function and store the returned bonus in a variable called bonus. Finally, we print the bonus value to the console."
   ]
  },
  {
   "cell_type": "code",
   "execution_count": 16,
   "metadata": {},
   "outputs": [
    {
     "name": "stdout",
     "output_type": "stream",
     "text": [
      "Employee bonus: 500.0\n"
     ]
    }
   ],
   "source": [
    "#function to calculate the bonus\n",
    "def calculate_bonus(performance_rating, salary):\n",
    "    if performance_rating == \"excellent\":\n",
    "        return salary * 0.1\n",
    "    elif performance_rating == \"good\":\n",
    "        return salary * 0.05\n",
    "    else:\n",
    "        return 0\n",
    "\n",
    "performance_rating = \"excellent\"\n",
    "salary = 5000\n",
    "bonus = calculate_bonus(performance_rating, salary)\n",
    "print(\"Employee bonus:\", bonus)"
   ]
  }
 ],
 "metadata": {
  "kernelspec": {
   "display_name": "Python 3",
   "language": "python",
   "name": "python3"
  },
  "language_info": {
   "codemirror_mode": {
    "name": "ipython",
    "version": 3
   },
   "file_extension": ".py",
   "mimetype": "text/x-python",
   "name": "python",
   "nbconvert_exporter": "python",
   "pygments_lexer": "ipython3",
   "version": "3.10.7"
  },
  "orig_nbformat": 4
 },
 "nbformat": 4,
 "nbformat_minor": 2
}
