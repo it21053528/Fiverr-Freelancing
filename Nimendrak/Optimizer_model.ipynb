{
 "cells": [
  {
   "cell_type": "code",
   "execution_count": 1,
   "metadata": {},
   "outputs": [],
   "source": [
    "import pickle\n",
    "import numpy as np\n",
    "import pandas as pd\n",
    "import matplotlib.pyplot as plt\n",
    "import seaborn as sns\n",
    "\n",
    "import tensorflow as tf\n",
    "from tensorflow import keras\n",
    "\n",
    "from sklearn.model_selection import train_test_split\n",
    "from sklearn.preprocessing import MinMaxScaler, OneHotEncoder"
   ]
  },
  {
   "cell_type": "code",
   "execution_count": 3,
   "metadata": {},
   "outputs": [
    {
     "data": {
      "text/html": [
       "<div>\n",
       "<style scoped>\n",
       "    .dataframe tbody tr th:only-of-type {\n",
       "        vertical-align: middle;\n",
       "    }\n",
       "\n",
       "    .dataframe tbody tr th {\n",
       "        vertical-align: top;\n",
       "    }\n",
       "\n",
       "    .dataframe thead th {\n",
       "        text-align: right;\n",
       "    }\n",
       "</style>\n",
       "<table border=\"1\" class=\"dataframe\">\n",
       "  <thead>\n",
       "    <tr style=\"text-align: right;\">\n",
       "      <th></th>\n",
       "      <th>optimizer</th>\n",
       "      <th>cpu</th>\n",
       "      <th>memory</th>\n",
       "      <th>time</th>\n",
       "      <th>epochs</th>\n",
       "      <th>predictions</th>\n",
       "      <th>dataset</th>\n",
       "      <th>loss</th>\n",
       "      <th>accuracy</th>\n",
       "    </tr>\n",
       "  </thead>\n",
       "  <tbody>\n",
       "    <tr>\n",
       "      <th>0</th>\n",
       "      <td>adagrad</td>\n",
       "      <td>81.400</td>\n",
       "      <td>78.475</td>\n",
       "      <td>26.9857</td>\n",
       "      <td>2</td>\n",
       "      <td>304.5021</td>\n",
       "      <td>15</td>\n",
       "      <td>0.29111</td>\n",
       "      <td>0.86458</td>\n",
       "    </tr>\n",
       "    <tr>\n",
       "      <th>1</th>\n",
       "      <td>adam</td>\n",
       "      <td>77.775</td>\n",
       "      <td>61.225</td>\n",
       "      <td>32.0057</td>\n",
       "      <td>2</td>\n",
       "      <td>304.5021</td>\n",
       "      <td>16</td>\n",
       "      <td>0.06496</td>\n",
       "      <td>0.98438</td>\n",
       "    </tr>\n",
       "    <tr>\n",
       "      <th>2</th>\n",
       "      <td>adamax</td>\n",
       "      <td>45.275</td>\n",
       "      <td>52.975</td>\n",
       "      <td>46.2330</td>\n",
       "      <td>2</td>\n",
       "      <td>87.0006</td>\n",
       "      <td>15</td>\n",
       "      <td>0.07996</td>\n",
       "      <td>0.97396</td>\n",
       "    </tr>\n",
       "    <tr>\n",
       "      <th>3</th>\n",
       "      <td>ftrl</td>\n",
       "      <td>62.925</td>\n",
       "      <td>51.200</td>\n",
       "      <td>32.9408</td>\n",
       "      <td>2</td>\n",
       "      <td>435.0031</td>\n",
       "      <td>15</td>\n",
       "      <td>0.30984</td>\n",
       "      <td>0.86979</td>\n",
       "    </tr>\n",
       "    <tr>\n",
       "      <th>4</th>\n",
       "      <td>nadam</td>\n",
       "      <td>64.925</td>\n",
       "      <td>28.575</td>\n",
       "      <td>30.7948</td>\n",
       "      <td>2</td>\n",
       "      <td>87.0006</td>\n",
       "      <td>15</td>\n",
       "      <td>0.11819</td>\n",
       "      <td>0.95312</td>\n",
       "    </tr>\n",
       "    <tr>\n",
       "      <th>...</th>\n",
       "      <td>...</td>\n",
       "      <td>...</td>\n",
       "      <td>...</td>\n",
       "      <td>...</td>\n",
       "      <td>...</td>\n",
       "      <td>...</td>\n",
       "      <td>...</td>\n",
       "      <td>...</td>\n",
       "      <td>...</td>\n",
       "    </tr>\n",
       "    <tr>\n",
       "      <th>19526</th>\n",
       "      <td>rmsprop</td>\n",
       "      <td>40.400</td>\n",
       "      <td>58.275</td>\n",
       "      <td>37.8345</td>\n",
       "      <td>2</td>\n",
       "      <td>261.0018</td>\n",
       "      <td>16</td>\n",
       "      <td>0.06478</td>\n",
       "      <td>0.97917</td>\n",
       "    </tr>\n",
       "    <tr>\n",
       "      <th>19527</th>\n",
       "      <td>adadelta</td>\n",
       "      <td>43.700</td>\n",
       "      <td>56.175</td>\n",
       "      <td>33.7275</td>\n",
       "      <td>2</td>\n",
       "      <td>304.5021</td>\n",
       "      <td>11</td>\n",
       "      <td>0.84378</td>\n",
       "      <td>0.48438</td>\n",
       "    </tr>\n",
       "    <tr>\n",
       "      <th>19528</th>\n",
       "      <td>adagrad</td>\n",
       "      <td>36.900</td>\n",
       "      <td>52.675</td>\n",
       "      <td>39.6260</td>\n",
       "      <td>2</td>\n",
       "      <td>261.0018</td>\n",
       "      <td>11</td>\n",
       "      <td>0.33959</td>\n",
       "      <td>0.80729</td>\n",
       "    </tr>\n",
       "    <tr>\n",
       "      <th>19529</th>\n",
       "      <td>adam</td>\n",
       "      <td>42.475</td>\n",
       "      <td>33.825</td>\n",
       "      <td>37.9678</td>\n",
       "      <td>2</td>\n",
       "      <td>174.0012</td>\n",
       "      <td>15</td>\n",
       "      <td>0.06080</td>\n",
       "      <td>0.97917</td>\n",
       "    </tr>\n",
       "    <tr>\n",
       "      <th>19530</th>\n",
       "      <td>adamax</td>\n",
       "      <td>36.625</td>\n",
       "      <td>24.075</td>\n",
       "      <td>38.9767</td>\n",
       "      <td>2</td>\n",
       "      <td>391.5027</td>\n",
       "      <td>15</td>\n",
       "      <td>0.14883</td>\n",
       "      <td>0.95312</td>\n",
       "    </tr>\n",
       "  </tbody>\n",
       "</table>\n",
       "<p>19531 rows × 9 columns</p>\n",
       "</div>"
      ],
      "text/plain": [
       "      optimizer     cpu  memory     time  epochs  predictions  dataset  \\\n",
       "0       adagrad  81.400  78.475  26.9857       2     304.5021       15   \n",
       "1          adam  77.775  61.225  32.0057       2     304.5021       16   \n",
       "2        adamax  45.275  52.975  46.2330       2      87.0006       15   \n",
       "3          ftrl  62.925  51.200  32.9408       2     435.0031       15   \n",
       "4         nadam  64.925  28.575  30.7948       2      87.0006       15   \n",
       "...         ...     ...     ...      ...     ...          ...      ...   \n",
       "19526   rmsprop  40.400  58.275  37.8345       2     261.0018       16   \n",
       "19527  adadelta  43.700  56.175  33.7275       2     304.5021       11   \n",
       "19528   adagrad  36.900  52.675  39.6260       2     261.0018       11   \n",
       "19529      adam  42.475  33.825  37.9678       2     174.0012       15   \n",
       "19530    adamax  36.625  24.075  38.9767       2     391.5027       15   \n",
       "\n",
       "          loss  accuracy  \n",
       "0      0.29111   0.86458  \n",
       "1      0.06496   0.98438  \n",
       "2      0.07996   0.97396  \n",
       "3      0.30984   0.86979  \n",
       "4      0.11819   0.95312  \n",
       "...        ...       ...  \n",
       "19526  0.06478   0.97917  \n",
       "19527  0.84378   0.48438  \n",
       "19528  0.33959   0.80729  \n",
       "19529  0.06080   0.97917  \n",
       "19530  0.14883   0.95312  \n",
       "\n",
       "[19531 rows x 9 columns]"
      ]
     },
     "execution_count": 3,
     "metadata": {},
     "output_type": "execute_result"
    }
   ],
   "source": [
    "df = pd.read_csv(\"mobilenetv2V3.csv\")\n",
    "df"
   ]
  },
  {
   "cell_type": "code",
   "execution_count": 4,
   "metadata": {},
   "outputs": [
    {
     "data": {
      "text/plain": [
       "adagrad     2442\n",
       "adam        2442\n",
       "adamax      2442\n",
       "ftrl        2441\n",
       "nadam       2441\n",
       "sgd         2441\n",
       "rmsprop     2441\n",
       "adadelta    2441\n",
       "Name: optimizer, dtype: int64"
      ]
     },
     "execution_count": 4,
     "metadata": {},
     "output_type": "execute_result"
    }
   ],
   "source": [
    "df.optimizer.value_counts()"
   ]
  },
  {
   "cell_type": "code",
   "execution_count": 5,
   "metadata": {},
   "outputs": [
    {
     "name": "stdout",
     "output_type": "stream",
     "text": [
      "<class 'pandas.core.frame.DataFrame'>\n",
      "RangeIndex: 19531 entries, 0 to 19530\n",
      "Data columns (total 9 columns):\n",
      " #   Column       Non-Null Count  Dtype  \n",
      "---  ------       --------------  -----  \n",
      " 0   optimizer    19531 non-null  object \n",
      " 1   cpu          19531 non-null  float64\n",
      " 2   memory       19531 non-null  float64\n",
      " 3   time         19531 non-null  float64\n",
      " 4   epochs       19531 non-null  int64  \n",
      " 5   predictions  19531 non-null  float64\n",
      " 6   dataset      19531 non-null  int64  \n",
      " 7   loss         19531 non-null  float64\n",
      " 8   accuracy     19531 non-null  float64\n",
      "dtypes: float64(6), int64(2), object(1)\n",
      "memory usage: 1.3+ MB\n"
     ]
    }
   ],
   "source": [
    "df.info()"
   ]
  },
  {
   "cell_type": "code",
   "execution_count": 6,
   "metadata": {},
   "outputs": [
    {
     "data": {
      "text/plain": [
       "optimizer      0\n",
       "cpu            0\n",
       "memory         0\n",
       "time           0\n",
       "epochs         0\n",
       "predictions    0\n",
       "dataset        0\n",
       "loss           0\n",
       "accuracy       0\n",
       "dtype: int64"
      ]
     },
     "execution_count": 6,
     "metadata": {},
     "output_type": "execute_result"
    }
   ],
   "source": [
    "df.isnull().sum()"
   ]
  },
  {
   "cell_type": "code",
   "execution_count": 7,
   "metadata": {},
   "outputs": [
    {
     "data": {
      "text/html": [
       "<div>\n",
       "<style scoped>\n",
       "    .dataframe tbody tr th:only-of-type {\n",
       "        vertical-align: middle;\n",
       "    }\n",
       "\n",
       "    .dataframe tbody tr th {\n",
       "        vertical-align: top;\n",
       "    }\n",
       "\n",
       "    .dataframe thead th {\n",
       "        text-align: right;\n",
       "    }\n",
       "</style>\n",
       "<table border=\"1\" class=\"dataframe\">\n",
       "  <thead>\n",
       "    <tr style=\"text-align: right;\">\n",
       "      <th></th>\n",
       "      <th>cpu</th>\n",
       "      <th>memory</th>\n",
       "      <th>time</th>\n",
       "      <th>epochs</th>\n",
       "      <th>predictions</th>\n",
       "      <th>dataset</th>\n",
       "      <th>loss</th>\n",
       "      <th>accuracy</th>\n",
       "    </tr>\n",
       "  </thead>\n",
       "  <tbody>\n",
       "    <tr>\n",
       "      <th>count</th>\n",
       "      <td>19531.000000</td>\n",
       "      <td>19531.000000</td>\n",
       "      <td>19531.000000</td>\n",
       "      <td>19531.0</td>\n",
       "      <td>19531.000000</td>\n",
       "      <td>19531.000000</td>\n",
       "      <td>19531.000000</td>\n",
       "      <td>19531.000000</td>\n",
       "    </tr>\n",
       "    <tr>\n",
       "      <th>mean</th>\n",
       "      <td>51.376916</td>\n",
       "      <td>61.945620</td>\n",
       "      <td>32.921748</td>\n",
       "      <td>2.0</td>\n",
       "      <td>239.471043</td>\n",
       "      <td>14.471712</td>\n",
       "      <td>0.233792</td>\n",
       "      <td>0.885542</td>\n",
       "    </tr>\n",
       "    <tr>\n",
       "      <th>std</th>\n",
       "      <td>7.601574</td>\n",
       "      <td>17.257176</td>\n",
       "      <td>5.768514</td>\n",
       "      <td>0.0</td>\n",
       "      <td>124.428265</td>\n",
       "      <td>2.683369</td>\n",
       "      <td>0.234912</td>\n",
       "      <td>0.156910</td>\n",
       "    </tr>\n",
       "    <tr>\n",
       "      <th>min</th>\n",
       "      <td>20.550000</td>\n",
       "      <td>15.925000</td>\n",
       "      <td>22.571000</td>\n",
       "      <td>2.0</td>\n",
       "      <td>43.500300</td>\n",
       "      <td>1.000000</td>\n",
       "      <td>0.004010</td>\n",
       "      <td>0.187500</td>\n",
       "    </tr>\n",
       "    <tr>\n",
       "      <th>25%</th>\n",
       "      <td>46.300000</td>\n",
       "      <td>50.000000</td>\n",
       "      <td>28.091500</td>\n",
       "      <td>2.0</td>\n",
       "      <td>130.500900</td>\n",
       "      <td>15.000000</td>\n",
       "      <td>0.086075</td>\n",
       "      <td>0.890620</td>\n",
       "    </tr>\n",
       "    <tr>\n",
       "      <th>50%</th>\n",
       "      <td>52.400000</td>\n",
       "      <td>61.400000</td>\n",
       "      <td>31.595900</td>\n",
       "      <td>2.0</td>\n",
       "      <td>217.501500</td>\n",
       "      <td>15.000000</td>\n",
       "      <td>0.130960</td>\n",
       "      <td>0.953120</td>\n",
       "    </tr>\n",
       "    <tr>\n",
       "      <th>75%</th>\n",
       "      <td>57.200000</td>\n",
       "      <td>78.000000</td>\n",
       "      <td>37.454650</td>\n",
       "      <td>2.0</td>\n",
       "      <td>348.002400</td>\n",
       "      <td>16.000000</td>\n",
       "      <td>0.279240</td>\n",
       "      <td>0.968750</td>\n",
       "    </tr>\n",
       "    <tr>\n",
       "      <th>max</th>\n",
       "      <td>81.400000</td>\n",
       "      <td>82.925000</td>\n",
       "      <td>58.564600</td>\n",
       "      <td>2.0</td>\n",
       "      <td>435.003100</td>\n",
       "      <td>16.000000</td>\n",
       "      <td>1.291500</td>\n",
       "      <td>1.000000</td>\n",
       "    </tr>\n",
       "  </tbody>\n",
       "</table>\n",
       "</div>"
      ],
      "text/plain": [
       "                cpu        memory          time   epochs   predictions  \\\n",
       "count  19531.000000  19531.000000  19531.000000  19531.0  19531.000000   \n",
       "mean      51.376916     61.945620     32.921748      2.0    239.471043   \n",
       "std        7.601574     17.257176      5.768514      0.0    124.428265   \n",
       "min       20.550000     15.925000     22.571000      2.0     43.500300   \n",
       "25%       46.300000     50.000000     28.091500      2.0    130.500900   \n",
       "50%       52.400000     61.400000     31.595900      2.0    217.501500   \n",
       "75%       57.200000     78.000000     37.454650      2.0    348.002400   \n",
       "max       81.400000     82.925000     58.564600      2.0    435.003100   \n",
       "\n",
       "            dataset          loss      accuracy  \n",
       "count  19531.000000  19531.000000  19531.000000  \n",
       "mean      14.471712      0.233792      0.885542  \n",
       "std        2.683369      0.234912      0.156910  \n",
       "min        1.000000      0.004010      0.187500  \n",
       "25%       15.000000      0.086075      0.890620  \n",
       "50%       15.000000      0.130960      0.953120  \n",
       "75%       16.000000      0.279240      0.968750  \n",
       "max       16.000000      1.291500      1.000000  "
      ]
     },
     "execution_count": 7,
     "metadata": {},
     "output_type": "execute_result"
    }
   ],
   "source": [
    "df.describe()"
   ]
  },
  {
   "cell_type": "code",
   "execution_count": 8,
   "metadata": {},
   "outputs": [],
   "source": [
    "from sklearn.preprocessing import LabelEncoder\n",
    "\n",
    "le = LabelEncoder()\n",
    "\n",
    "df['optimizer'] = le.fit_transform(df['optimizer'])"
   ]
  },
  {
   "cell_type": "code",
   "execution_count": 9,
   "metadata": {},
   "outputs": [
    {
     "data": {
      "text/html": [
       "<div>\n",
       "<style scoped>\n",
       "    .dataframe tbody tr th:only-of-type {\n",
       "        vertical-align: middle;\n",
       "    }\n",
       "\n",
       "    .dataframe tbody tr th {\n",
       "        vertical-align: top;\n",
       "    }\n",
       "\n",
       "    .dataframe thead th {\n",
       "        text-align: right;\n",
       "    }\n",
       "</style>\n",
       "<table border=\"1\" class=\"dataframe\">\n",
       "  <thead>\n",
       "    <tr style=\"text-align: right;\">\n",
       "      <th></th>\n",
       "      <th>optimizer</th>\n",
       "      <th>cpu</th>\n",
       "      <th>memory</th>\n",
       "      <th>time</th>\n",
       "      <th>epochs</th>\n",
       "      <th>predictions</th>\n",
       "      <th>dataset</th>\n",
       "      <th>loss</th>\n",
       "      <th>accuracy</th>\n",
       "    </tr>\n",
       "  </thead>\n",
       "  <tbody>\n",
       "    <tr>\n",
       "      <th>0</th>\n",
       "      <td>1</td>\n",
       "      <td>81.400</td>\n",
       "      <td>78.475</td>\n",
       "      <td>26.9857</td>\n",
       "      <td>2</td>\n",
       "      <td>304.5021</td>\n",
       "      <td>15</td>\n",
       "      <td>0.29111</td>\n",
       "      <td>0.86458</td>\n",
       "    </tr>\n",
       "    <tr>\n",
       "      <th>1</th>\n",
       "      <td>2</td>\n",
       "      <td>77.775</td>\n",
       "      <td>61.225</td>\n",
       "      <td>32.0057</td>\n",
       "      <td>2</td>\n",
       "      <td>304.5021</td>\n",
       "      <td>16</td>\n",
       "      <td>0.06496</td>\n",
       "      <td>0.98438</td>\n",
       "    </tr>\n",
       "    <tr>\n",
       "      <th>2</th>\n",
       "      <td>3</td>\n",
       "      <td>45.275</td>\n",
       "      <td>52.975</td>\n",
       "      <td>46.2330</td>\n",
       "      <td>2</td>\n",
       "      <td>87.0006</td>\n",
       "      <td>15</td>\n",
       "      <td>0.07996</td>\n",
       "      <td>0.97396</td>\n",
       "    </tr>\n",
       "    <tr>\n",
       "      <th>3</th>\n",
       "      <td>4</td>\n",
       "      <td>62.925</td>\n",
       "      <td>51.200</td>\n",
       "      <td>32.9408</td>\n",
       "      <td>2</td>\n",
       "      <td>435.0031</td>\n",
       "      <td>15</td>\n",
       "      <td>0.30984</td>\n",
       "      <td>0.86979</td>\n",
       "    </tr>\n",
       "    <tr>\n",
       "      <th>4</th>\n",
       "      <td>5</td>\n",
       "      <td>64.925</td>\n",
       "      <td>28.575</td>\n",
       "      <td>30.7948</td>\n",
       "      <td>2</td>\n",
       "      <td>87.0006</td>\n",
       "      <td>15</td>\n",
       "      <td>0.11819</td>\n",
       "      <td>0.95312</td>\n",
       "    </tr>\n",
       "  </tbody>\n",
       "</table>\n",
       "</div>"
      ],
      "text/plain": [
       "   optimizer     cpu  memory     time  epochs  predictions  dataset     loss  \\\n",
       "0          1  81.400  78.475  26.9857       2     304.5021       15  0.29111   \n",
       "1          2  77.775  61.225  32.0057       2     304.5021       16  0.06496   \n",
       "2          3  45.275  52.975  46.2330       2      87.0006       15  0.07996   \n",
       "3          4  62.925  51.200  32.9408       2     435.0031       15  0.30984   \n",
       "4          5  64.925  28.575  30.7948       2      87.0006       15  0.11819   \n",
       "\n",
       "   accuracy  \n",
       "0   0.86458  \n",
       "1   0.98438  \n",
       "2   0.97396  \n",
       "3   0.86979  \n",
       "4   0.95312  "
      ]
     },
     "execution_count": 9,
     "metadata": {},
     "output_type": "execute_result"
    }
   ],
   "source": [
    "df.head()"
   ]
  },
  {
   "cell_type": "code",
   "execution_count": 10,
   "metadata": {},
   "outputs": [
    {
     "data": {
      "image/png": "[encoded data removed]",
      "text/plain": [
       "<Figure size 1000x1000 with 9 Axes>"
      ]
     },
     "metadata": {},
     "output_type": "display_data"
    }
   ],
   "source": [
    "plot = df.hist(figsize=(10,10))"
   ]
  },
  {
   "cell_type": "code",
   "execution_count": 11,
   "metadata": {},
   "outputs": [
    {
     "data": {
      "image/png": "[encoded data removed]",
      "text/plain": [
       "<Figure size 1000x600 with 2 Axes>"
      ]
     },
     "metadata": {},
     "output_type": "display_data"
    }
   ],
   "source": [
    "corr_matrix = df.corr()\n",
    "\n",
    "# Set figure size\n",
    "plt.figure(figsize=(10, 6))\n",
    "sns.heatmap(corr_matrix, cmap ='RdYlGn', annot=True)\n",
    "plt.show()"
   ]
  },
  {
   "cell_type": "code",
   "execution_count": 12,
   "metadata": {},
   "outputs": [],
   "source": [
    "X = df[['dataset','loss','accuracy','time','cpu','memory','predictions']]\n",
    "y = df['optimizer']"
   ]
  },
  {
   "cell_type": "code",
   "execution_count": 13,
   "metadata": {},
   "outputs": [
    {
     "data": {
      "text/html": [
       "<div>\n",
       "<style scoped>\n",
       "    .dataframe tbody tr th:only-of-type {\n",
       "        vertical-align: middle;\n",
       "    }\n",
       "\n",
       "    .dataframe tbody tr th {\n",
       "        vertical-align: top;\n",
       "    }\n",
       "\n",
       "    .dataframe thead th {\n",
       "        text-align: right;\n",
       "    }\n",
       "</style>\n",
       "<table border=\"1\" class=\"dataframe\">\n",
       "  <thead>\n",
       "    <tr style=\"text-align: right;\">\n",
       "      <th></th>\n",
       "      <th>dataset</th>\n",
       "      <th>loss</th>\n",
       "      <th>accuracy</th>\n",
       "      <th>time</th>\n",
       "      <th>cpu</th>\n",
       "      <th>memory</th>\n",
       "      <th>predictions</th>\n",
       "    </tr>\n",
       "  </thead>\n",
       "  <tbody>\n",
       "    <tr>\n",
       "      <th>0</th>\n",
       "      <td>15</td>\n",
       "      <td>0.29111</td>\n",
       "      <td>0.86458</td>\n",
       "      <td>26.9857</td>\n",
       "      <td>81.400</td>\n",
       "      <td>78.475</td>\n",
       "      <td>304.5021</td>\n",
       "    </tr>\n",
       "    <tr>\n",
       "      <th>1</th>\n",
       "      <td>16</td>\n",
       "      <td>0.06496</td>\n",
       "      <td>0.98438</td>\n",
       "      <td>32.0057</td>\n",
       "      <td>77.775</td>\n",
       "      <td>61.225</td>\n",
       "      <td>304.5021</td>\n",
       "    </tr>\n",
       "    <tr>\n",
       "      <th>2</th>\n",
       "      <td>15</td>\n",
       "      <td>0.07996</td>\n",
       "      <td>0.97396</td>\n",
       "      <td>46.2330</td>\n",
       "      <td>45.275</td>\n",
       "      <td>52.975</td>\n",
       "      <td>87.0006</td>\n",
       "    </tr>\n",
       "    <tr>\n",
       "      <th>3</th>\n",
       "      <td>15</td>\n",
       "      <td>0.30984</td>\n",
       "      <td>0.86979</td>\n",
       "      <td>32.9408</td>\n",
       "      <td>62.925</td>\n",
       "      <td>51.200</td>\n",
       "      <td>435.0031</td>\n",
       "    </tr>\n",
       "    <tr>\n",
       "      <th>4</th>\n",
       "      <td>15</td>\n",
       "      <td>0.11819</td>\n",
       "      <td>0.95312</td>\n",
       "      <td>30.7948</td>\n",
       "      <td>64.925</td>\n",
       "      <td>28.575</td>\n",
       "      <td>87.0006</td>\n",
       "    </tr>\n",
       "  </tbody>\n",
       "</table>\n",
       "</div>"
      ],
      "text/plain": [
       "   dataset     loss  accuracy     time     cpu  memory  predictions\n",
       "0       15  0.29111   0.86458  26.9857  81.400  78.475     304.5021\n",
       "1       16  0.06496   0.98438  32.0057  77.775  61.225     304.5021\n",
       "2       15  0.07996   0.97396  46.2330  45.275  52.975      87.0006\n",
       "3       15  0.30984   0.86979  32.9408  62.925  51.200     435.0031\n",
       "4       15  0.11819   0.95312  30.7948  64.925  28.575      87.0006"
      ]
     },
     "execution_count": 13,
     "metadata": {},
     "output_type": "execute_result"
    }
   ],
   "source": [
    "X.head()"
   ]
  },
  {
   "cell_type": "code",
   "execution_count": 14,
   "metadata": {},
   "outputs": [],
   "source": [
    "X_train, X_test, y_train, y_test = train_test_split(X, y)"
   ]
  },
  {
   "cell_type": "code",
   "execution_count": 15,
   "metadata": {},
   "outputs": [],
   "source": [
    "from sklearn.preprocessing import StandardScaler\n",
    "\n",
    "sc = StandardScaler()\n",
    "\n",
    "X_train =  sc.fit_transform(X_train)\n",
    "X_test = sc.fit_transform(X_test)"
   ]
  },
  {
   "cell_type": "code",
   "execution_count": 16,
   "metadata": {},
   "outputs": [
    {
     "data": {
      "text/plain": [
       "array([[ 0.19630455, -0.34286061,  0.29866532, ..., -1.5336847 ,\n",
       "        -0.71066975,  0.16843954],\n",
       "       [ 0.57066582, -0.42833183,  0.4313913 , ...,  0.55788117,\n",
       "         1.00202496,  0.16843954],\n",
       "       [ 0.57066582, -0.65275227,  0.564181  , ..., -1.22077327,\n",
       "        -0.3797423 , -1.23204495],\n",
       "       ...,\n",
       "       [ 0.57066582, -0.90703872,  0.63057584, ...,  0.75221563,\n",
       "         0.90187586,  0.16843954],\n",
       "       [ 0.57066582, -0.58519214,  0.49778615, ...,  1.44720839,\n",
       "         0.96138475, -0.18168158],\n",
       "       [ 0.57066582, -0.7152071 ,  0.63057584, ..., -0.70693976,\n",
       "        -0.08074644, -1.58216607]])"
      ]
     },
     "execution_count": 16,
     "metadata": {},
     "output_type": "execute_result"
    }
   ],
   "source": [
    "X_train"
   ]
  },
  {
   "cell_type": "code",
   "execution_count": 17,
   "metadata": {},
   "outputs": [],
   "source": [
    "from sklearn.ensemble import RandomForestClassifier\n",
    "from sklearn.metrics import classification_report\n",
    "from xgboost import XGBClassifier\n",
    "from sklearn.tree import DecisionTreeClassifier\n",
    "from sklearn.neighbors import KNeighborsClassifier\n",
    "from sklearn.naive_bayes import GaussianNB\n",
    "from sklearn.svm import SVC"
   ]
  },
  {
   "cell_type": "code",
   "execution_count": 18,
   "metadata": {},
   "outputs": [
    {
     "name": "stdout",
     "output_type": "stream",
     "text": [
      "Train set score: 0.571\n",
      "Test set score: 0.561\n",
      "              precision    recall  f1-score   support\n",
      "\n",
      "           0       1.00      1.00      1.00       613\n",
      "           1       0.76      0.72      0.74       612\n",
      "           2       0.41      0.05      0.08       613\n",
      "           3       0.56      0.82      0.67       601\n",
      "           4       0.73      0.79      0.76       616\n",
      "           5       0.35      0.11      0.16       612\n",
      "           6       0.66      0.24      0.35       602\n",
      "           7       0.28      0.77      0.41       614\n",
      "\n",
      "    accuracy                           0.56      4883\n",
      "   macro avg       0.59      0.56      0.52      4883\n",
      "weighted avg       0.59      0.56      0.52      4883\n",
      "\n"
     ]
    }
   ],
   "source": [
    "tree = DecisionTreeClassifier(max_depth=7)\n",
    "\n",
    "tree.fit(X_train, y_train)\n",
    "\n",
    "print('Train set score: {:.3f}'.format(tree.score(X_train, y_train)))\n",
    "print('Test set score: {:.3f}'.format(tree.score(X_test, y_test)))\n",
    "\n",
    "y_pred = tree.predict(X_test)\n",
    "print(classification_report(y_test, y_pred, zero_division=0))"
   ]
  },
  {
   "cell_type": "code",
   "execution_count": 19,
   "metadata": {},
   "outputs": [
    {
     "name": "stdout",
     "output_type": "stream",
     "text": [
      "Train set score: 0.615\n",
      "Test set score: 0.568\n",
      "              precision    recall  f1-score   support\n",
      "\n",
      "           0       1.00      1.00      1.00       613\n",
      "           1       0.80      0.72      0.76       612\n",
      "           2       0.27      0.18      0.22       613\n",
      "           3       0.58      0.82      0.68       601\n",
      "           4       0.74      0.83      0.78       616\n",
      "           5       0.31      0.37      0.34       612\n",
      "           6       0.58      0.23      0.33       602\n",
      "           7       0.30      0.38      0.34       614\n",
      "\n",
      "    accuracy                           0.57      4883\n",
      "   macro avg       0.57      0.57      0.55      4883\n",
      "weighted avg       0.57      0.57      0.56      4883\n",
      "\n"
     ]
    }
   ],
   "source": [
    "rf = RandomForestClassifier(max_depth=8)\n",
    "\n",
    "rf.fit(X_train, y_train)\n",
    "\n",
    "print('Train set score: {:.3f}'.format(rf.score(X_train, y_train)))\n",
    "print('Test set score: {:.3f}'.format(rf.score(X_test, y_test)))\n",
    "\n",
    "y_pred = rf.predict(X_test)\n",
    "print(classification_report(y_test, y_pred, zero_division=0))"
   ]
  },
  {
   "cell_type": "code",
   "execution_count": 20,
   "metadata": {},
   "outputs": [
    {
     "data": {
      "text/html": [
       "<div>\n",
       "<style scoped>\n",
       "    .dataframe tbody tr th:only-of-type {\n",
       "        vertical-align: middle;\n",
       "    }\n",
       "\n",
       "    .dataframe tbody tr th {\n",
       "        vertical-align: top;\n",
       "    }\n",
       "\n",
       "    .dataframe thead th {\n",
       "        text-align: right;\n",
       "    }\n",
       "</style>\n",
       "<table border=\"1\" class=\"dataframe\">\n",
       "  <thead>\n",
       "    <tr style=\"text-align: right;\">\n",
       "      <th></th>\n",
       "      <th>Feature</th>\n",
       "      <th>Importance</th>\n",
       "    </tr>\n",
       "  </thead>\n",
       "  <tbody>\n",
       "    <tr>\n",
       "      <th>1</th>\n",
       "      <td>loss</td>\n",
       "      <td>0.489</td>\n",
       "    </tr>\n",
       "    <tr>\n",
       "      <th>2</th>\n",
       "      <td>accuracy</td>\n",
       "      <td>0.345</td>\n",
       "    </tr>\n",
       "    <tr>\n",
       "      <th>0</th>\n",
       "      <td>dataset</td>\n",
       "      <td>0.118</td>\n",
       "    </tr>\n",
       "    <tr>\n",
       "      <th>6</th>\n",
       "      <td>predictions</td>\n",
       "      <td>0.018</td>\n",
       "    </tr>\n",
       "    <tr>\n",
       "      <th>3</th>\n",
       "      <td>time</td>\n",
       "      <td>0.014</td>\n",
       "    </tr>\n",
       "    <tr>\n",
       "      <th>4</th>\n",
       "      <td>cpu</td>\n",
       "      <td>0.008</td>\n",
       "    </tr>\n",
       "    <tr>\n",
       "      <th>5</th>\n",
       "      <td>memory</td>\n",
       "      <td>0.008</td>\n",
       "    </tr>\n",
       "  </tbody>\n",
       "</table>\n",
       "</div>"
      ],
      "text/plain": [
       "       Feature  Importance\n",
       "1         loss       0.489\n",
       "2     accuracy       0.345\n",
       "0      dataset       0.118\n",
       "6  predictions       0.018\n",
       "3         time       0.014\n",
       "4          cpu       0.008\n",
       "5       memory       0.008"
      ]
     },
     "execution_count": 20,
     "metadata": {},
     "output_type": "execute_result"
    }
   ],
   "source": [
    "importances = pd.DataFrame({'Feature':X.columns,'Importance':np.round(rf.feature_importances_,3)})\n",
    "importances = importances.sort_values('Importance',ascending=False)\n",
    "\n",
    "importances"
   ]
  },
  {
   "cell_type": "code",
   "execution_count": 42,
   "metadata": {},
   "outputs": [
    {
     "name": "stdout",
     "output_type": "stream",
     "text": [
      "Train set score: 0.658\n",
      "Test set score: 0.588\n",
      "              precision    recall  f1-score   support\n",
      "\n",
      "           0       1.00      1.00      1.00       613\n",
      "           1       0.82      0.75      0.79       612\n",
      "           2       0.28      0.22      0.25       613\n",
      "           3       0.62      0.85      0.72       601\n",
      "           4       0.77      0.85      0.80       616\n",
      "           5       0.33      0.37      0.35       612\n",
      "           6       0.66      0.27      0.38       602\n",
      "           7       0.31      0.39      0.34       614\n",
      "\n",
      "    accuracy                           0.59      4883\n",
      "   macro avg       0.60      0.59      0.58      4883\n",
      "weighted avg       0.60      0.59      0.58      4883\n",
      "\n"
     ]
    }
   ],
   "source": [
    "xg = XGBClassifier(n_estimators=15)\n",
    "\n",
    "xg.fit(X_train, y_train)\n",
    "\n",
    "print('Train set score: {:.3f}'.format(xg.score(X_train, y_train)))\n",
    "print('Test set score: {:.3f}'.format(xg.score(X_test, y_test)))\n",
    "\n",
    "y_pred = xg.predict(X_test)\n",
    "print(classification_report(y_test, y_pred))"
   ]
  },
  {
   "cell_type": "code",
   "execution_count": 22,
   "metadata": {},
   "outputs": [
    {
     "data": {
      "text/html": [
       "<div>\n",
       "<style scoped>\n",
       "    .dataframe tbody tr th:only-of-type {\n",
       "        vertical-align: middle;\n",
       "    }\n",
       "\n",
       "    .dataframe tbody tr th {\n",
       "        vertical-align: top;\n",
       "    }\n",
       "\n",
       "    .dataframe thead th {\n",
       "        text-align: right;\n",
       "    }\n",
       "</style>\n",
       "<table border=\"1\" class=\"dataframe\">\n",
       "  <thead>\n",
       "    <tr style=\"text-align: right;\">\n",
       "      <th></th>\n",
       "      <th>Feature</th>\n",
       "      <th>Importance</th>\n",
       "    </tr>\n",
       "  </thead>\n",
       "  <tbody>\n",
       "    <tr>\n",
       "      <th>1</th>\n",
       "      <td>loss</td>\n",
       "      <td>0.539</td>\n",
       "    </tr>\n",
       "    <tr>\n",
       "      <th>2</th>\n",
       "      <td>accuracy</td>\n",
       "      <td>0.205</td>\n",
       "    </tr>\n",
       "    <tr>\n",
       "      <th>6</th>\n",
       "      <td>predictions</td>\n",
       "      <td>0.105</td>\n",
       "    </tr>\n",
       "    <tr>\n",
       "      <th>0</th>\n",
       "      <td>dataset</td>\n",
       "      <td>0.067</td>\n",
       "    </tr>\n",
       "    <tr>\n",
       "      <th>3</th>\n",
       "      <td>time</td>\n",
       "      <td>0.032</td>\n",
       "    </tr>\n",
       "    <tr>\n",
       "      <th>5</th>\n",
       "      <td>memory</td>\n",
       "      <td>0.028</td>\n",
       "    </tr>\n",
       "    <tr>\n",
       "      <th>4</th>\n",
       "      <td>cpu</td>\n",
       "      <td>0.025</td>\n",
       "    </tr>\n",
       "  </tbody>\n",
       "</table>\n",
       "</div>"
      ],
      "text/plain": [
       "       Feature  Importance\n",
       "1         loss       0.539\n",
       "2     accuracy       0.205\n",
       "6  predictions       0.105\n",
       "0      dataset       0.067\n",
       "3         time       0.032\n",
       "5       memory       0.028\n",
       "4          cpu       0.025"
      ]
     },
     "execution_count": 22,
     "metadata": {},
     "output_type": "execute_result"
    }
   ],
   "source": [
    "importances = pd.DataFrame({'Feature':X.columns,'Importance':np.round(xg.feature_importances_,3)})\n",
    "importances = importances.sort_values('Importance',ascending=False)\n",
    "\n",
    "importances"
   ]
  },
  {
   "cell_type": "code",
   "execution_count": 23,
   "metadata": {},
   "outputs": [
    {
     "name": "stdout",
     "output_type": "stream",
     "text": [
      "Train set score: 0.542\n",
      "Test set score: 0.531\n",
      "              precision    recall  f1-score   support\n",
      "\n",
      "           0       1.00      0.99      0.99       613\n",
      "           1       0.80      0.74      0.77       612\n",
      "           2       0.22      0.16      0.18       613\n",
      "           3       0.58      0.78      0.66       601\n",
      "           4       0.75      0.83      0.79       616\n",
      "           5       0.31      0.27      0.29       612\n",
      "           6       0.19      0.21      0.20       602\n",
      "           7       0.30      0.26      0.28       614\n",
      "\n",
      "    accuracy                           0.53      4883\n",
      "   macro avg       0.52      0.53      0.52      4883\n",
      "weighted avg       0.52      0.53      0.52      4883\n",
      "\n"
     ]
    }
   ],
   "source": [
    "from sklearn.linear_model import LogisticRegression\n",
    "\n",
    "log = LogisticRegression(C=0.6, max_iter=500)\n",
    "\n",
    "log.fit(X_train, y_train)\n",
    "\n",
    "print('Train set score: {:.3f}'.format(log.score(X_train, y_train)))\n",
    "print('Test set score: {:.3f}'.format(log.score(X_test, y_test)))\n",
    "\n",
    "y_pred = log.predict(X_test)\n",
    "print(classification_report(y_test, y_pred))"
   ]
  },
  {
   "attachments": {},
   "cell_type": "markdown",
   "metadata": {},
   "source": [
    "Neural Networks"
   ]
  },
  {
   "cell_type": "code",
   "execution_count": 24,
   "metadata": {},
   "outputs": [],
   "source": [
    "# Scale the input features\n",
    "scaler = MinMaxScaler()\n",
    "X_scaled = scaler.fit_transform(X)\n",
    "\n",
    "# One-hot encode the optimizer labels\n",
    "encoder = OneHotEncoder()\n",
    "y_encoded = encoder.fit_transform(y.values.reshape(-1, 1)).toarray()\n",
    "num_classes = y_encoded.shape[1]\n",
    "\n",
    "# Split the data into training and testing sets\n",
    "X_train_nn, X_test_nn, y_train_nn, y_test_nn = train_test_split(X_scaled, y_encoded)"
   ]
  },
  {
   "cell_type": "code",
   "execution_count": 25,
   "metadata": {},
   "outputs": [],
   "source": [
    "\n",
    "# Define the model architecture\n",
    "model = keras.Sequential([\n",
    "    keras.layers.Dense(64, input_dim=X.shape[1],activation='relu'),\n",
    "    keras.layers.BatchNormalization(),\n",
    "    keras.layers.Dense(128, activation='relu'),\n",
    "    keras.layers.Dropout(0.2),\n",
    "    keras.layers.BatchNormalization(),\n",
    "    keras.layers.Dense(128, activation='relu'),\n",
    "    keras.layers.Dropout(0.2),\n",
    "    keras.layers.BatchNormalization(),\n",
    "    keras.layers.Dense(256, activation='relu'),\n",
    "    keras.layers.Dropout(0.2),\n",
    "    keras.layers.BatchNormalization(),\n",
    "    keras.layers.Dropout(0.2),\n",
    "    keras.layers.Dense(num_classes, activation='softmax')\n",
    "])\n",
    "\n",
    "# Compile the model\n",
    "model.compile(optimizer='adam',\n",
    "              loss='categorical_crossentropy',\n",
    "              metrics='accuracy')"
   ]
  },
  {
   "cell_type": "code",
   "execution_count": 26,
   "metadata": {},
   "outputs": [
    {
     "name": "stdout",
     "output_type": "stream",
     "text": [
      "Epoch 1/200\n",
      "229/229 [==============================] - 5s 10ms/step - loss: 1.5004 - accuracy: 0.4043 - val_loss: 2.3060 - val_accuracy: 0.1253\n",
      "Epoch 2/200\n",
      "229/229 [==============================] - 2s 8ms/step - loss: 1.1530 - accuracy: 0.4960 - val_loss: 1.3403 - val_accuracy: 0.4075\n",
      "Epoch 3/200\n",
      "229/229 [==============================] - 2s 9ms/step - loss: 1.0825 - accuracy: 0.5215 - val_loss: 1.5184 - val_accuracy: 0.3940\n",
      "Epoch 4/200\n",
      "229/229 [==============================] - 2s 8ms/step - loss: 1.0496 - accuracy: 0.5358 - val_loss: 0.9611 - val_accuracy: 0.5548\n",
      "Epoch 5/200\n",
      "229/229 [==============================] - 2s 9ms/step - loss: 1.0274 - accuracy: 0.5445 - val_loss: 1.5462 - val_accuracy: 0.4102\n",
      "Epoch 6/200\n",
      "229/229 [==============================] - 2s 8ms/step - loss: 1.0217 - accuracy: 0.5494 - val_loss: 0.9704 - val_accuracy: 0.5624\n",
      "Epoch 7/200\n",
      "229/229 [==============================] - 2s 8ms/step - loss: 1.0003 - accuracy: 0.5538 - val_loss: 0.9206 - val_accuracy: 0.5624\n",
      "Epoch 8/200\n",
      "229/229 [==============================] - 2s 8ms/step - loss: 1.0030 - accuracy: 0.5494 - val_loss: 0.9397 - val_accuracy: 0.5787\n",
      "Epoch 9/200\n",
      "229/229 [==============================] - 2s 7ms/step - loss: 0.9941 - accuracy: 0.5511 - val_loss: 0.9178 - val_accuracy: 0.5685\n",
      "Epoch 10/200\n",
      "229/229 [==============================] - 2s 8ms/step - loss: 0.9910 - accuracy: 0.5542 - val_loss: 0.9460 - val_accuracy: 0.5554\n",
      "Epoch 11/200\n",
      "229/229 [==============================] - 2s 8ms/step - loss: 0.9810 - accuracy: 0.5571 - val_loss: 1.1275 - val_accuracy: 0.5009\n",
      "Epoch 12/200\n",
      "229/229 [==============================] - 2s 8ms/step - loss: 0.9756 - accuracy: 0.5614 - val_loss: 0.9401 - val_accuracy: 0.5740\n",
      "Epoch 13/200\n",
      "229/229 [==============================] - 2s 7ms/step - loss: 0.9826 - accuracy: 0.5593 - val_loss: 1.0037 - val_accuracy: 0.5380\n",
      "Epoch 14/200\n",
      "229/229 [==============================] - 2s 8ms/step - loss: 0.9793 - accuracy: 0.5597 - val_loss: 0.9261 - val_accuracy: 0.5691\n",
      "Epoch 15/200\n",
      "229/229 [==============================] - 2s 7ms/step - loss: 0.9776 - accuracy: 0.5575 - val_loss: 1.6436 - val_accuracy: 0.4069\n",
      "Epoch 16/200\n",
      "229/229 [==============================] - 2s 9ms/step - loss: 0.9681 - accuracy: 0.5642 - val_loss: 0.9184 - val_accuracy: 0.5861\n",
      "Epoch 17/200\n",
      "229/229 [==============================] - 2s 8ms/step - loss: 0.9709 - accuracy: 0.5622 - val_loss: 0.9328 - val_accuracy: 0.5749\n",
      "Epoch 18/200\n",
      "229/229 [==============================] - 2s 8ms/step - loss: 0.9660 - accuracy: 0.5625 - val_loss: 0.9605 - val_accuracy: 0.5677\n",
      "Epoch 19/200\n",
      "229/229 [==============================] - 2s 8ms/step - loss: 0.9625 - accuracy: 0.5630 - val_loss: 1.0630 - val_accuracy: 0.5370\n",
      "Epoch 20/200\n",
      "229/229 [==============================] - 2s 8ms/step - loss: 0.9633 - accuracy: 0.5629 - val_loss: 1.0046 - val_accuracy: 0.5476\n",
      "Epoch 21/200\n",
      "229/229 [==============================] - 2s 8ms/step - loss: 0.9557 - accuracy: 0.5670 - val_loss: 0.9375 - val_accuracy: 0.5767\n",
      "Epoch 22/200\n",
      "229/229 [==============================] - 2s 8ms/step - loss: 0.9547 - accuracy: 0.5676 - val_loss: 1.0465 - val_accuracy: 0.5407\n",
      "Epoch 23/200\n",
      "229/229 [==============================] - 2s 8ms/step - loss: 0.9541 - accuracy: 0.5692 - val_loss: 0.9209 - val_accuracy: 0.5693\n",
      "Epoch 24/200\n",
      "229/229 [==============================] - 2s 8ms/step - loss: 0.9553 - accuracy: 0.5651 - val_loss: 0.9508 - val_accuracy: 0.5673\n",
      "Epoch 25/200\n",
      "229/229 [==============================] - 2s 8ms/step - loss: 0.9488 - accuracy: 0.5707 - val_loss: 0.9279 - val_accuracy: 0.5710\n",
      "Epoch 26/200\n",
      "229/229 [==============================] - 2s 8ms/step - loss: 0.9475 - accuracy: 0.5690 - val_loss: 0.9013 - val_accuracy: 0.5869\n",
      "Epoch 27/200\n",
      "229/229 [==============================] - 2s 8ms/step - loss: 0.9496 - accuracy: 0.5689 - val_loss: 0.9082 - val_accuracy: 0.5861\n",
      "Epoch 28/200\n",
      "229/229 [==============================] - 2s 8ms/step - loss: 0.9489 - accuracy: 0.5691 - val_loss: 0.9815 - val_accuracy: 0.5673\n",
      "Epoch 29/200\n",
      "229/229 [==============================] - 2s 8ms/step - loss: 0.9516 - accuracy: 0.5654 - val_loss: 1.0443 - val_accuracy: 0.5308\n",
      "Epoch 30/200\n",
      "229/229 [==============================] - 2s 8ms/step - loss: 0.9522 - accuracy: 0.5690 - val_loss: 1.0030 - val_accuracy: 0.5558\n",
      "Epoch 31/200\n",
      "229/229 [==============================] - 2s 8ms/step - loss: 0.9499 - accuracy: 0.5640 - val_loss: 0.9778 - val_accuracy: 0.5652\n",
      "Epoch 32/200\n",
      "229/229 [==============================] - 2s 8ms/step - loss: 0.9400 - accuracy: 0.5698 - val_loss: 1.0834 - val_accuracy: 0.5296\n",
      "Epoch 33/200\n",
      "229/229 [==============================] - 2s 8ms/step - loss: 0.9525 - accuracy: 0.5683 - val_loss: 0.9478 - val_accuracy: 0.5667\n",
      "Epoch 34/200\n",
      "229/229 [==============================] - 2s 8ms/step - loss: 0.9468 - accuracy: 0.5715 - val_loss: 0.9518 - val_accuracy: 0.5607\n",
      "Epoch 35/200\n",
      "229/229 [==============================] - 2s 8ms/step - loss: 0.9470 - accuracy: 0.5672 - val_loss: 0.9311 - val_accuracy: 0.5845\n",
      "Epoch 36/200\n",
      "229/229 [==============================] - 2s 8ms/step - loss: 0.9421 - accuracy: 0.5735 - val_loss: 0.9209 - val_accuracy: 0.5740\n",
      "Epoch 37/200\n",
      "229/229 [==============================] - 2s 8ms/step - loss: 0.9458 - accuracy: 0.5730 - val_loss: 0.9552 - val_accuracy: 0.5652\n",
      "Epoch 38/200\n",
      "229/229 [==============================] - 2s 8ms/step - loss: 0.9343 - accuracy: 0.5780 - val_loss: 0.8981 - val_accuracy: 0.5927\n",
      "Epoch 39/200\n",
      "229/229 [==============================] - 2s 8ms/step - loss: 0.9424 - accuracy: 0.5720 - val_loss: 0.9151 - val_accuracy: 0.5742\n",
      "Epoch 40/200\n",
      "229/229 [==============================] - 2s 9ms/step - loss: 0.9419 - accuracy: 0.5682 - val_loss: 0.9170 - val_accuracy: 0.5703\n",
      "Epoch 41/200\n",
      "229/229 [==============================] - 2s 8ms/step - loss: 0.9385 - accuracy: 0.5748 - val_loss: 0.9991 - val_accuracy: 0.5421\n",
      "Epoch 42/200\n",
      "229/229 [==============================] - 2s 8ms/step - loss: 0.9439 - accuracy: 0.5735 - val_loss: 0.9870 - val_accuracy: 0.5542\n",
      "Epoch 43/200\n",
      "229/229 [==============================] - 2s 8ms/step - loss: 0.9313 - accuracy: 0.5751 - val_loss: 0.9549 - val_accuracy: 0.5628\n",
      "Epoch 44/200\n",
      "229/229 [==============================] - 2s 10ms/step - loss: 0.9338 - accuracy: 0.5733 - val_loss: 0.9071 - val_accuracy: 0.5845\n",
      "Epoch 45/200\n",
      "229/229 [==============================] - 2s 10ms/step - loss: 0.9426 - accuracy: 0.5698 - val_loss: 0.9310 - val_accuracy: 0.5638\n",
      "Epoch 46/200\n",
      "229/229 [==============================] - 2s 10ms/step - loss: 0.9308 - accuracy: 0.5734 - val_loss: 1.3883 - val_accuracy: 0.4505\n",
      "Epoch 47/200\n",
      "229/229 [==============================] - 2s 9ms/step - loss: 0.9380 - accuracy: 0.5766 - val_loss: 0.9058 - val_accuracy: 0.5847\n",
      "Epoch 48/200\n",
      "229/229 [==============================] - 2s 9ms/step - loss: 0.9366 - accuracy: 0.5737 - val_loss: 0.9305 - val_accuracy: 0.5804\n",
      "Epoch 49/200\n",
      "229/229 [==============================] - 2s 9ms/step - loss: 0.9310 - accuracy: 0.5773 - val_loss: 0.9320 - val_accuracy: 0.5814\n",
      "Epoch 50/200\n",
      "229/229 [==============================] - 2s 9ms/step - loss: 0.9356 - accuracy: 0.5739 - val_loss: 0.8955 - val_accuracy: 0.5943\n",
      "Epoch 51/200\n",
      "229/229 [==============================] - 2s 10ms/step - loss: 0.9276 - accuracy: 0.5737 - val_loss: 0.9185 - val_accuracy: 0.5857\n",
      "Epoch 52/200\n",
      "229/229 [==============================] - 2s 10ms/step - loss: 0.9332 - accuracy: 0.5728 - val_loss: 1.0225 - val_accuracy: 0.5296\n",
      "Epoch 53/200\n",
      "229/229 [==============================] - 2s 9ms/step - loss: 0.9281 - accuracy: 0.5765 - val_loss: 0.9791 - val_accuracy: 0.5531\n",
      "Epoch 54/200\n",
      "229/229 [==============================] - 2s 9ms/step - loss: 0.9309 - accuracy: 0.5780 - val_loss: 0.9122 - val_accuracy: 0.5878\n",
      "Epoch 55/200\n",
      "229/229 [==============================] - 2s 9ms/step - loss: 0.9282 - accuracy: 0.5730 - val_loss: 0.9401 - val_accuracy: 0.5843\n",
      "Epoch 56/200\n",
      "229/229 [==============================] - 2s 9ms/step - loss: 0.9370 - accuracy: 0.5761 - val_loss: 0.9113 - val_accuracy: 0.5855\n",
      "Epoch 57/200\n",
      "229/229 [==============================] - 2s 10ms/step - loss: 0.9292 - accuracy: 0.5736 - val_loss: 0.9271 - val_accuracy: 0.5675\n",
      "Epoch 58/200\n",
      "229/229 [==============================] - 2s 9ms/step - loss: 0.9272 - accuracy: 0.5782 - val_loss: 0.9559 - val_accuracy: 0.5693\n",
      "Epoch 59/200\n",
      "229/229 [==============================] - 2s 9ms/step - loss: 0.9338 - accuracy: 0.5750 - val_loss: 1.2607 - val_accuracy: 0.4759\n",
      "Epoch 60/200\n",
      "229/229 [==============================] - 2s 9ms/step - loss: 0.9278 - accuracy: 0.5786 - val_loss: 0.9021 - val_accuracy: 0.5716\n",
      "Epoch 61/200\n",
      "229/229 [==============================] - 2s 9ms/step - loss: 0.9311 - accuracy: 0.5781 - val_loss: 0.9008 - val_accuracy: 0.5818\n",
      "Epoch 62/200\n",
      "229/229 [==============================] - 2s 8ms/step - loss: 0.9289 - accuracy: 0.5759 - val_loss: 0.9040 - val_accuracy: 0.5921\n",
      "Epoch 63/200\n",
      "229/229 [==============================] - 2s 9ms/step - loss: 0.9252 - accuracy: 0.5774 - val_loss: 1.0412 - val_accuracy: 0.5312\n",
      "Epoch 64/200\n",
      "229/229 [==============================] - 2s 8ms/step - loss: 0.9281 - accuracy: 0.5782 - val_loss: 0.9123 - val_accuracy: 0.5808\n",
      "Epoch 65/200\n",
      "229/229 [==============================] - 2s 9ms/step - loss: 0.9276 - accuracy: 0.5761 - val_loss: 0.9007 - val_accuracy: 0.5898\n",
      "Epoch 66/200\n",
      "229/229 [==============================] - 2s 9ms/step - loss: 0.9244 - accuracy: 0.5815 - val_loss: 0.9282 - val_accuracy: 0.5787\n",
      "Epoch 67/200\n",
      "229/229 [==============================] - 2s 9ms/step - loss: 0.9254 - accuracy: 0.5772 - val_loss: 0.9328 - val_accuracy: 0.5722\n",
      "Epoch 68/200\n",
      "229/229 [==============================] - 2s 9ms/step - loss: 0.9256 - accuracy: 0.5801 - val_loss: 0.9088 - val_accuracy: 0.5663\n",
      "Epoch 69/200\n",
      "229/229 [==============================] - 2s 9ms/step - loss: 0.9263 - accuracy: 0.5741 - val_loss: 0.9217 - val_accuracy: 0.5804\n",
      "Epoch 70/200\n",
      "229/229 [==============================] - 2s 10ms/step - loss: 0.9237 - accuracy: 0.5795 - val_loss: 0.9216 - val_accuracy: 0.5843\n",
      "153/153 [==============================] - 0s 3ms/step - loss: 0.8955 - accuracy: 0.5943\n",
      "Test accuracy: 0.5943067669868469\n"
     ]
    }
   ],
   "source": [
    "from keras.callbacks import EarlyStopping\n",
    "\n",
    "early_stopping = EarlyStopping(min_delta=0.001, # minimium amount of change to count as an improvement\n",
    "    patience=20, # how many epochs to wait before stopping\n",
    "    restore_best_weights=True,)\n",
    "\n",
    "# Fit the model to the training data\n",
    "history = model.fit(X_train_nn, y_train_nn, epochs=200, batch_size=64, callbacks=[early_stopping], validation_data=(X_test_nn, y_test_nn))\n",
    "\n",
    "# Evaluate the model on the test data\n",
    "test_loss, test_acc = model.evaluate(X_test_nn, y_test_nn)\n",
    "\n",
    "# Print the test accuracy\n",
    "print('Test accuracy:', test_acc)"
   ]
  },
  {
   "cell_type": "code",
   "execution_count": 27,
   "metadata": {},
   "outputs": [
    {
     "name": "stdout",
     "output_type": "stream",
     "text": [
      "Minimum validation loss: 0.895\n"
     ]
    },
    {
     "data": {
      "image/png": "[encoded data removed]",
      "text/plain": [
       "<Figure size 640x480 with 1 Axes>"
      ]
     },
     "metadata": {},
     "output_type": "display_data"
    }
   ],
   "source": [
    "# convert the training history to a dataframe\n",
    "history_df = pd.DataFrame(history.history)\n",
    "# use Pandas native plot method\n",
    "history_df.loc[:, ['loss', 'val_loss']].plot()\n",
    "print(\"Minimum validation loss: {:.3f}\".format(history_df['val_loss'].min()))"
   ]
  },
  {
   "cell_type": "code",
   "execution_count": 28,
   "metadata": {},
   "outputs": [
    {
     "name": "stdout",
     "output_type": "stream",
     "text": [
      "Max val_accuracy: 0.594\n"
     ]
    },
    {
     "data": {
      "image/png": "[encoded data removed]",
      "text/plain": [
       "<Figure size 640x480 with 1 Axes>"
      ]
     },
     "metadata": {},
     "output_type": "display_data"
    }
   ],
   "source": [
    "# convert the training history to a dataframe\n",
    "history_df = pd.DataFrame(history.history)\n",
    "# use Pandas native plot method\n",
    "history_df.loc[:, ['accuracy', 'val_accuracy']].plot()\n",
    "print(\"Max val_accuracy: {:.3f}\".format(history_df['val_accuracy'].max()))"
   ]
  },
  {
   "attachments": {},
   "cell_type": "markdown",
   "metadata": {},
   "source": [
    "Saving the model"
   ]
  },
  {
   "cell_type": "code",
   "execution_count": 29,
   "metadata": {},
   "outputs": [
    {
     "name": "stderr",
     "output_type": "stream",
     "text": [
      "c:\\Users\\surit\\AppData\\Local\\Programs\\Python\\Python310\\lib\\site-packages\\sklearn\\base.py:450: UserWarning: X does not have valid feature names, but MinMaxScaler was fitted with feature names\n",
      "  warnings.warn(\n"
     ]
    },
    {
     "name": "stdout",
     "output_type": "stream",
     "text": [
      "1/1 [==============================] - 0s 322ms/step\n",
      "Best optimizer: 0\n"
     ]
    }
   ],
   "source": [
    "import os\n",
    "from keras.models import load_model\n",
    "\n",
    "# Save the trained model\n",
    "model.save('model.h5')\n",
    "\n",
    "# Save the fitted scaler and encoder objects\n",
    "with open('scaler.pkl', 'wb') as f:\n",
    "    pickle.dump(scaler, f)\n",
    "with open('encoder.pkl', 'wb') as f:\n",
    "    pickle.dump(encoder, f)\n",
    "\n",
    "# model.summary()\n",
    "\n",
    "# Make predictions\n",
    "def predict_best_optimizer(model, cpu, memory, dataset, loss, accuracy, time, predictions):\n",
    "    input_data = np.array([[cpu, memory, dataset, loss, accuracy, time, predictions]])\n",
    "    input_scaled = scaler.transform(input_data)\n",
    "    probabilities = model.predict(input_scaled)\n",
    "    best_optimizer_idx = np.argmax(probabilities)\n",
    "    best_optimizer_onehot = np.zeros((1, probabilities.shape[1]))\n",
    "    best_optimizer_onehot[0, best_optimizer_idx] = 1\n",
    "    best_optimizer = encoder.inverse_transform(best_optimizer_onehot)[0][0]\n",
    "    return best_optimizer\n",
    "\n",
    "# Load the saved model\n",
    "loaded_model = load_model('model.h5')\n",
    "# Example usage\n",
    "best_optimizer = predict_best_optimizer(loaded_model, cpu=81.4, memory=80, dataset=300,loss=0.09, accuracy=0.9, time=25, predictions=300)\n",
    "print(\"Best optimizer:\", best_optimizer)\n",
    "\n",
    "\n",
    "if os.path.exists('scaler.pkl'):\n",
    "  os.remove('scaler.pkl')\n",
    "\n",
    "if os.path.exists('encoder.pkl'):\n",
    "  os.remove('encoder.pkl')"
   ]
  },
  {
   "cell_type": "code",
   "execution_count": 43,
   "metadata": {},
   "outputs": [
    {
     "name": "stderr",
     "output_type": "stream",
     "text": [
      "c:\\Users\\surit\\AppData\\Local\\Programs\\Python\\Python310\\lib\\site-packages\\sklearn\\base.py:450: UserWarning: X does not have valid feature names, but MinMaxScaler was fitted with feature names\n",
      "  warnings.warn(\n"
     ]
    },
    {
     "name": "stdout",
     "output_type": "stream",
     "text": [
      "1/1 [==============================] - 0s 185ms/step\n",
      "cpu: 37, memory: 49, dataset: 180, loss: 0.09, accuracy: 0.9, time: 39, predictions: 14 | optimizer #0: 0\n",
      "1/1 [==============================] - 0s 30ms/step\n",
      "cpu: 74, memory: 60, dataset: 540, loss: 0.09, accuracy: 0.9, time: 43, predictions: 14 | optimizer #1: 0\n",
      "1/1 [==============================] - 0s 33ms/step\n",
      "cpu: 73, memory: 33, dataset: 420, loss: 0.09, accuracy: 0.9, time: 58, predictions: 14 | optimizer #2: 0\n"
     ]
    },
    {
     "name": "stderr",
     "output_type": "stream",
     "text": [
      "c:\\Users\\surit\\AppData\\Local\\Programs\\Python\\Python310\\lib\\site-packages\\sklearn\\base.py:450: UserWarning: X does not have valid feature names, but MinMaxScaler was fitted with feature names\n",
      "  warnings.warn(\n",
      "c:\\Users\\surit\\AppData\\Local\\Programs\\Python\\Python310\\lib\\site-packages\\sklearn\\base.py:450: UserWarning: X does not have valid feature names, but MinMaxScaler was fitted with feature names\n",
      "  warnings.warn(\n",
      "c:\\Users\\surit\\AppData\\Local\\Programs\\Python\\Python310\\lib\\site-packages\\sklearn\\base.py:450: UserWarning: X does not have valid feature names, but MinMaxScaler was fitted with feature names\n",
      "  warnings.warn(\n"
     ]
    },
    {
     "name": "stdout",
     "output_type": "stream",
     "text": [
      "1/1 [==============================] - 0s 30ms/step\n",
      "cpu: 70, memory: 75, dataset: 480, loss: 0.09, accuracy: 0.9, time: 24, predictions: 14 | optimizer #3: 0\n",
      "1/1 [==============================] - 0s 32ms/step\n",
      "cpu: 61, memory: 70, dataset: 540, loss: 0.09, accuracy: 0.9, time: 50, predictions: 15 | optimizer #4: 0\n",
      "1/1 [==============================] - ETA: 0s"
     ]
    },
    {
     "name": "stderr",
     "output_type": "stream",
     "text": [
      "c:\\Users\\surit\\AppData\\Local\\Programs\\Python\\Python310\\lib\\site-packages\\sklearn\\base.py:450: UserWarning: X does not have valid feature names, but MinMaxScaler was fitted with feature names\n",
      "  warnings.warn(\n",
      "c:\\Users\\surit\\AppData\\Local\\Programs\\Python\\Python310\\lib\\site-packages\\sklearn\\base.py:450: UserWarning: X does not have valid feature names, but MinMaxScaler was fitted with feature names\n",
      "  warnings.warn(\n"
     ]
    },
    {
     "name": "stdout",
     "output_type": "stream",
     "text": [
      "1/1 [==============================] - 0s 43ms/step\n",
      "cpu: 56, memory: 80, dataset: 540, loss: 0.09, accuracy: 0.9, time: 38, predictions: 15 | optimizer #5: 0\n",
      "1/1 [==============================] - 0s 32ms/step\n",
      "cpu: 49, memory: 53, dataset: 120, loss: 0.09, accuracy: 0.9, time: 39, predictions: 16 | optimizer #6: 0\n",
      "1/1 [==============================] - 0s 30ms/step\n"
     ]
    },
    {
     "name": "stderr",
     "output_type": "stream",
     "text": [
      "c:\\Users\\surit\\AppData\\Local\\Programs\\Python\\Python310\\lib\\site-packages\\sklearn\\base.py:450: UserWarning: X does not have valid feature names, but MinMaxScaler was fitted with feature names\n",
      "  warnings.warn(\n",
      "c:\\Users\\surit\\AppData\\Local\\Programs\\Python\\Python310\\lib\\site-packages\\sklearn\\base.py:450: UserWarning: X does not have valid feature names, but MinMaxScaler was fitted with feature names\n",
      "  warnings.warn(\n"
     ]
    },
    {
     "name": "stdout",
     "output_type": "stream",
     "text": [
      "cpu: 50, memory: 79, dataset: 300, loss: 0.09, accuracy: 0.9, time: 23, predictions: 16 | optimizer #7: 0\n",
      "1/1 [==============================] - 0s 36ms/step\n",
      "cpu: 64, memory: 36, dataset: 300, loss: 0.09, accuracy: 0.9, time: 44, predictions: 14 | optimizer #8: 0\n",
      "1/1 [==============================] - 0s 29ms/step\n"
     ]
    },
    {
     "name": "stderr",
     "output_type": "stream",
     "text": [
      "c:\\Users\\surit\\AppData\\Local\\Programs\\Python\\Python310\\lib\\site-packages\\sklearn\\base.py:450: UserWarning: X does not have valid feature names, but MinMaxScaler was fitted with feature names\n",
      "  warnings.warn(\n",
      "c:\\Users\\surit\\AppData\\Local\\Programs\\Python\\Python310\\lib\\site-packages\\sklearn\\base.py:450: UserWarning: X does not have valid feature names, but MinMaxScaler was fitted with feature names\n",
      "  warnings.warn(\n"
     ]
    },
    {
     "name": "stdout",
     "output_type": "stream",
     "text": [
      "cpu: 30, memory: 34, dataset: 240, loss: 0.09, accuracy: 0.9, time: 52, predictions: 16 | optimizer #9: 0\n"
     ]
    }
   ],
   "source": [
    "import random\n",
    "# Load the saved model\n",
    "loaded_model = load_model('model.h5')\n",
    "# Example usage\n",
    "for i in range(0, 10):\n",
    "    cpu = random.randint(30, 80)\n",
    "    memory = random.randint(30, 80)\n",
    "    dataset = random.randrange(60, 600, 60)\n",
    "    time = random.randint(10, 60)\n",
    "    predictions=random.randint(14, 16)\n",
    "    loss, accuracy = 0.09, 0.9\n",
    "    best_optimizer = predict_best_optimizer(loaded_model, cpu=cpu, memory=memory, dataset=dataset, loss=0.5, accuracy=0.5, time=time, predictions=predictions)\n",
    "    print(f\"cpu: {cpu}, memory: {memory}, dataset: {dataset}, loss: {loss}, accuracy: {accuracy}, time: {time}, predictions: {predictions} | optimizer #{i}:\", best_optimizer)"
   ]
  }
 ],
 "metadata": {
  "kernelspec": {
   "display_name": "Python 3",
   "language": "python",
   "name": "python3"
  },
  "language_info": {
   "codemirror_mode": {
    "name": "ipython",
    "version": 3
   },
   "file_extension": ".py",
   "mimetype": "text/x-python",
   "name": "python",
   "nbconvert_exporter": "python",
   "pygments_lexer": "ipython3",
   "version": "3.10.7"
  },
  "orig_nbformat": 4
 },
 "nbformat": 4,
 "nbformat_minor": 2
}
