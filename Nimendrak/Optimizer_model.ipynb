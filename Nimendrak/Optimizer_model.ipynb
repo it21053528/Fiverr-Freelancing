{
 "cells": [
  {
   "cell_type": "code",
   "execution_count": 1,
   "metadata": {},
   "outputs": [],
   "source": [
    "import pickle\n",
    "import numpy as np\n",
    "import pandas as pd\n",
    "import matplotlib.pyplot as plt\n",
    "import seaborn as sns\n",
    "\n",
    "import tensorflow as tf\n",
    "from tensorflow import keras\n",
    "\n",
    "from sklearn.model_selection import train_test_split\n",
    "from sklearn.preprocessing import MinMaxScaler, OneHotEncoder"
   ]
  },
  {
   "cell_type": "code",
   "execution_count": 2,
   "metadata": {},
   "outputs": [
    {
     "data": {
      "text/html": [
       "<div>\n",
       "<style scoped>\n",
       "    .dataframe tbody tr th:only-of-type {\n",
       "        vertical-align: middle;\n",
       "    }\n",
       "\n",
       "    .dataframe tbody tr th {\n",
       "        vertical-align: top;\n",
       "    }\n",
       "\n",
       "    .dataframe thead th {\n",
       "        text-align: right;\n",
       "    }\n",
       "</style>\n",
       "<table border=\"1\" class=\"dataframe\">\n",
       "  <thead>\n",
       "    <tr style=\"text-align: right;\">\n",
       "      <th></th>\n",
       "      <th>optimizer</th>\n",
       "      <th>cpu</th>\n",
       "      <th>memory</th>\n",
       "      <th>time</th>\n",
       "      <th>epochs</th>\n",
       "      <th>predictions</th>\n",
       "      <th>dataset</th>\n",
       "      <th>loss</th>\n",
       "      <th>accuracy</th>\n",
       "    </tr>\n",
       "  </thead>\n",
       "  <tbody>\n",
       "    <tr>\n",
       "      <th>0</th>\n",
       "      <td>adagrad</td>\n",
       "      <td>81.400</td>\n",
       "      <td>78.475</td>\n",
       "      <td>26.9857</td>\n",
       "      <td>2</td>\n",
       "      <td>304.5021</td>\n",
       "      <td>15</td>\n",
       "      <td>0.29111</td>\n",
       "      <td>0.86458</td>\n",
       "    </tr>\n",
       "    <tr>\n",
       "      <th>1</th>\n",
       "      <td>adam</td>\n",
       "      <td>77.775</td>\n",
       "      <td>61.225</td>\n",
       "      <td>32.0057</td>\n",
       "      <td>2</td>\n",
       "      <td>304.5021</td>\n",
       "      <td>16</td>\n",
       "      <td>0.06496</td>\n",
       "      <td>0.98438</td>\n",
       "    </tr>\n",
       "    <tr>\n",
       "      <th>2</th>\n",
       "      <td>adamax</td>\n",
       "      <td>45.275</td>\n",
       "      <td>52.975</td>\n",
       "      <td>46.2330</td>\n",
       "      <td>2</td>\n",
       "      <td>87.0006</td>\n",
       "      <td>15</td>\n",
       "      <td>0.07996</td>\n",
       "      <td>0.97396</td>\n",
       "    </tr>\n",
       "    <tr>\n",
       "      <th>3</th>\n",
       "      <td>ftrl</td>\n",
       "      <td>62.925</td>\n",
       "      <td>51.200</td>\n",
       "      <td>32.9408</td>\n",
       "      <td>2</td>\n",
       "      <td>435.0031</td>\n",
       "      <td>15</td>\n",
       "      <td>0.30984</td>\n",
       "      <td>0.86979</td>\n",
       "    </tr>\n",
       "    <tr>\n",
       "      <th>4</th>\n",
       "      <td>nadam</td>\n",
       "      <td>64.925</td>\n",
       "      <td>28.575</td>\n",
       "      <td>30.7948</td>\n",
       "      <td>2</td>\n",
       "      <td>87.0006</td>\n",
       "      <td>15</td>\n",
       "      <td>0.11819</td>\n",
       "      <td>0.95312</td>\n",
       "    </tr>\n",
       "    <tr>\n",
       "      <th>...</th>\n",
       "      <td>...</td>\n",
       "      <td>...</td>\n",
       "      <td>...</td>\n",
       "      <td>...</td>\n",
       "      <td>...</td>\n",
       "      <td>...</td>\n",
       "      <td>...</td>\n",
       "      <td>...</td>\n",
       "      <td>...</td>\n",
       "    </tr>\n",
       "    <tr>\n",
       "      <th>12983</th>\n",
       "      <td>adagrad</td>\n",
       "      <td>34.350</td>\n",
       "      <td>52.050</td>\n",
       "      <td>39.4244</td>\n",
       "      <td>2</td>\n",
       "      <td>348.0024</td>\n",
       "      <td>16</td>\n",
       "      <td>0.26609</td>\n",
       "      <td>0.92188</td>\n",
       "    </tr>\n",
       "    <tr>\n",
       "      <th>12984</th>\n",
       "      <td>adam</td>\n",
       "      <td>47.175</td>\n",
       "      <td>26.450</td>\n",
       "      <td>42.5518</td>\n",
       "      <td>2</td>\n",
       "      <td>261.0018</td>\n",
       "      <td>16</td>\n",
       "      <td>0.05710</td>\n",
       "      <td>0.97917</td>\n",
       "    </tr>\n",
       "    <tr>\n",
       "      <th>12985</th>\n",
       "      <td>adamax</td>\n",
       "      <td>41.950</td>\n",
       "      <td>55.550</td>\n",
       "      <td>34.3129</td>\n",
       "      <td>2</td>\n",
       "      <td>304.5021</td>\n",
       "      <td>16</td>\n",
       "      <td>0.13655</td>\n",
       "      <td>0.94271</td>\n",
       "    </tr>\n",
       "    <tr>\n",
       "      <th>12986</th>\n",
       "      <td>ftrl</td>\n",
       "      <td>49.975</td>\n",
       "      <td>37.400</td>\n",
       "      <td>39.8327</td>\n",
       "      <td>2</td>\n",
       "      <td>435.0031</td>\n",
       "      <td>16</td>\n",
       "      <td>0.29843</td>\n",
       "      <td>0.88542</td>\n",
       "    </tr>\n",
       "    <tr>\n",
       "      <th>12987</th>\n",
       "      <td>nadam</td>\n",
       "      <td>40.450</td>\n",
       "      <td>49.775</td>\n",
       "      <td>37.2319</td>\n",
       "      <td>2</td>\n",
       "      <td>87.0006</td>\n",
       "      <td>16</td>\n",
       "      <td>0.06524</td>\n",
       "      <td>0.97917</td>\n",
       "    </tr>\n",
       "  </tbody>\n",
       "</table>\n",
       "<p>12988 rows × 9 columns</p>\n",
       "</div>"
      ],
      "text/plain": [
       "      optimizer     cpu  memory     time  epochs  predictions  dataset  \\\n",
       "0       adagrad  81.400  78.475  26.9857       2     304.5021       15   \n",
       "1          adam  77.775  61.225  32.0057       2     304.5021       16   \n",
       "2        adamax  45.275  52.975  46.2330       2      87.0006       15   \n",
       "3          ftrl  62.925  51.200  32.9408       2     435.0031       15   \n",
       "4         nadam  64.925  28.575  30.7948       2      87.0006       15   \n",
       "...         ...     ...     ...      ...     ...          ...      ...   \n",
       "12983   adagrad  34.350  52.050  39.4244       2     348.0024       16   \n",
       "12984      adam  47.175  26.450  42.5518       2     261.0018       16   \n",
       "12985    adamax  41.950  55.550  34.3129       2     304.5021       16   \n",
       "12986      ftrl  49.975  37.400  39.8327       2     435.0031       16   \n",
       "12987     nadam  40.450  49.775  37.2319       2      87.0006       16   \n",
       "\n",
       "          loss  accuracy  \n",
       "0      0.29111   0.86458  \n",
       "1      0.06496   0.98438  \n",
       "2      0.07996   0.97396  \n",
       "3      0.30984   0.86979  \n",
       "4      0.11819   0.95312  \n",
       "...        ...       ...  \n",
       "12983  0.26609   0.92188  \n",
       "12984  0.05710   0.97917  \n",
       "12985  0.13655   0.94271  \n",
       "12986  0.29843   0.88542  \n",
       "12987  0.06524   0.97917  \n",
       "\n",
       "[12988 rows x 9 columns]"
      ]
     },
     "execution_count": 2,
     "metadata": {},
     "output_type": "execute_result"
    }
   ],
   "source": [
    "df = pd.read_csv(\"mobilenetv2v1.csv\")\n",
    "df"
   ]
  },
  {
   "cell_type": "code",
   "execution_count": 3,
   "metadata": {},
   "outputs": [
    {
     "data": {
      "text/plain": [
       "adagrad     1624\n",
       "adam        1624\n",
       "adamax      1624\n",
       "ftrl        1624\n",
       "nadam       1624\n",
       "sgd         1623\n",
       "rmsprop     1623\n",
       "adadelta    1622\n",
       "Name: optimizer, dtype: int64"
      ]
     },
     "execution_count": 3,
     "metadata": {},
     "output_type": "execute_result"
    }
   ],
   "source": [
    "df.optimizer.value_counts()"
   ]
  },
  {
   "cell_type": "code",
   "execution_count": 4,
   "metadata": {},
   "outputs": [
    {
     "name": "stdout",
     "output_type": "stream",
     "text": [
      "<class 'pandas.core.frame.DataFrame'>\n",
      "RangeIndex: 12988 entries, 0 to 12987\n",
      "Data columns (total 9 columns):\n",
      " #   Column       Non-Null Count  Dtype  \n",
      "---  ------       --------------  -----  \n",
      " 0   optimizer    12988 non-null  object \n",
      " 1   cpu          12988 non-null  float64\n",
      " 2   memory       12988 non-null  float64\n",
      " 3   time         12988 non-null  float64\n",
      " 4   epochs       12988 non-null  int64  \n",
      " 5   predictions  12988 non-null  float64\n",
      " 6   dataset      12988 non-null  int64  \n",
      " 7   loss         12988 non-null  float64\n",
      " 8   accuracy     12988 non-null  float64\n",
      "dtypes: float64(6), int64(2), object(1)\n",
      "memory usage: 913.3+ KB\n"
     ]
    }
   ],
   "source": [
    "df.info()"
   ]
  },
  {
   "cell_type": "code",
   "execution_count": 5,
   "metadata": {},
   "outputs": [
    {
     "data": {
      "text/plain": [
       "optimizer      0\n",
       "cpu            0\n",
       "memory         0\n",
       "time           0\n",
       "epochs         0\n",
       "predictions    0\n",
       "dataset        0\n",
       "loss           0\n",
       "accuracy       0\n",
       "dtype: int64"
      ]
     },
     "execution_count": 5,
     "metadata": {},
     "output_type": "execute_result"
    }
   ],
   "source": [
    "df.isnull().sum()"
   ]
  },
  {
   "cell_type": "code",
   "execution_count": 6,
   "metadata": {},
   "outputs": [
    {
     "data": {
      "text/html": [
       "<div>\n",
       "<style scoped>\n",
       "    .dataframe tbody tr th:only-of-type {\n",
       "        vertical-align: middle;\n",
       "    }\n",
       "\n",
       "    .dataframe tbody tr th {\n",
       "        vertical-align: top;\n",
       "    }\n",
       "\n",
       "    .dataframe thead th {\n",
       "        text-align: right;\n",
       "    }\n",
       "</style>\n",
       "<table border=\"1\" class=\"dataframe\">\n",
       "  <thead>\n",
       "    <tr style=\"text-align: right;\">\n",
       "      <th></th>\n",
       "      <th>cpu</th>\n",
       "      <th>memory</th>\n",
       "      <th>time</th>\n",
       "      <th>epochs</th>\n",
       "      <th>predictions</th>\n",
       "      <th>dataset</th>\n",
       "      <th>loss</th>\n",
       "      <th>accuracy</th>\n",
       "    </tr>\n",
       "  </thead>\n",
       "  <tbody>\n",
       "    <tr>\n",
       "      <th>count</th>\n",
       "      <td>12988.000000</td>\n",
       "      <td>12988.000000</td>\n",
       "      <td>12988.000000</td>\n",
       "      <td>12988.0</td>\n",
       "      <td>12988.000000</td>\n",
       "      <td>12988.000000</td>\n",
       "      <td>12988.000000</td>\n",
       "      <td>12988.000000</td>\n",
       "    </tr>\n",
       "    <tr>\n",
       "      <th>mean</th>\n",
       "      <td>54.141842</td>\n",
       "      <td>63.052446</td>\n",
       "      <td>32.533233</td>\n",
       "      <td>2.0</td>\n",
       "      <td>240.015293</td>\n",
       "      <td>14.461118</td>\n",
       "      <td>0.234340</td>\n",
       "      <td>0.885077</td>\n",
       "    </tr>\n",
       "    <tr>\n",
       "      <th>std</th>\n",
       "      <td>6.575235</td>\n",
       "      <td>17.160908</td>\n",
       "      <td>5.740987</td>\n",
       "      <td>0.0</td>\n",
       "      <td>124.391274</td>\n",
       "      <td>2.691719</td>\n",
       "      <td>0.235811</td>\n",
       "      <td>0.157746</td>\n",
       "    </tr>\n",
       "    <tr>\n",
       "      <th>min</th>\n",
       "      <td>26.125000</td>\n",
       "      <td>15.925000</td>\n",
       "      <td>22.577100</td>\n",
       "      <td>2.0</td>\n",
       "      <td>43.500300</td>\n",
       "      <td>1.000000</td>\n",
       "      <td>0.004010</td>\n",
       "      <td>0.187500</td>\n",
       "    </tr>\n",
       "    <tr>\n",
       "      <th>25%</th>\n",
       "      <td>50.450000</td>\n",
       "      <td>50.650000</td>\n",
       "      <td>27.835025</td>\n",
       "      <td>2.0</td>\n",
       "      <td>130.500900</td>\n",
       "      <td>15.000000</td>\n",
       "      <td>0.086760</td>\n",
       "      <td>0.890620</td>\n",
       "    </tr>\n",
       "    <tr>\n",
       "      <th>50%</th>\n",
       "      <td>55.325000</td>\n",
       "      <td>76.025000</td>\n",
       "      <td>30.809900</td>\n",
       "      <td>2.0</td>\n",
       "      <td>217.501500</td>\n",
       "      <td>15.000000</td>\n",
       "      <td>0.131420</td>\n",
       "      <td>0.953120</td>\n",
       "    </tr>\n",
       "    <tr>\n",
       "      <th>75%</th>\n",
       "      <td>58.600000</td>\n",
       "      <td>78.075000</td>\n",
       "      <td>36.954975</td>\n",
       "      <td>2.0</td>\n",
       "      <td>348.002400</td>\n",
       "      <td>16.000000</td>\n",
       "      <td>0.279487</td>\n",
       "      <td>0.968750</td>\n",
       "    </tr>\n",
       "    <tr>\n",
       "      <th>max</th>\n",
       "      <td>81.400000</td>\n",
       "      <td>82.925000</td>\n",
       "      <td>58.564600</td>\n",
       "      <td>2.0</td>\n",
       "      <td>435.003100</td>\n",
       "      <td>16.000000</td>\n",
       "      <td>1.291500</td>\n",
       "      <td>1.000000</td>\n",
       "    </tr>\n",
       "  </tbody>\n",
       "</table>\n",
       "</div>"
      ],
      "text/plain": [
       "                cpu        memory          time   epochs   predictions  \\\n",
       "count  12988.000000  12988.000000  12988.000000  12988.0  12988.000000   \n",
       "mean      54.141842     63.052446     32.533233      2.0    240.015293   \n",
       "std        6.575235     17.160908      5.740987      0.0    124.391274   \n",
       "min       26.125000     15.925000     22.577100      2.0     43.500300   \n",
       "25%       50.450000     50.650000     27.835025      2.0    130.500900   \n",
       "50%       55.325000     76.025000     30.809900      2.0    217.501500   \n",
       "75%       58.600000     78.075000     36.954975      2.0    348.002400   \n",
       "max       81.400000     82.925000     58.564600      2.0    435.003100   \n",
       "\n",
       "            dataset          loss      accuracy  \n",
       "count  12988.000000  12988.000000  12988.000000  \n",
       "mean      14.461118      0.234340      0.885077  \n",
       "std        2.691719      0.235811      0.157746  \n",
       "min        1.000000      0.004010      0.187500  \n",
       "25%       15.000000      0.086760      0.890620  \n",
       "50%       15.000000      0.131420      0.953120  \n",
       "75%       16.000000      0.279487      0.968750  \n",
       "max       16.000000      1.291500      1.000000  "
      ]
     },
     "execution_count": 6,
     "metadata": {},
     "output_type": "execute_result"
    }
   ],
   "source": [
    "df.describe()"
   ]
  },
  {
   "cell_type": "code",
   "execution_count": 7,
   "metadata": {},
   "outputs": [],
   "source": [
    "from sklearn.preprocessing import LabelEncoder\n",
    "\n",
    "le = LabelEncoder()\n",
    "\n",
    "df['optimizer'] = le.fit_transform(df['optimizer'])"
   ]
  },
  {
   "cell_type": "code",
   "execution_count": 8,
   "metadata": {},
   "outputs": [
    {
     "data": {
      "text/html": [
       "<div>\n",
       "<style scoped>\n",
       "    .dataframe tbody tr th:only-of-type {\n",
       "        vertical-align: middle;\n",
       "    }\n",
       "\n",
       "    .dataframe tbody tr th {\n",
       "        vertical-align: top;\n",
       "    }\n",
       "\n",
       "    .dataframe thead th {\n",
       "        text-align: right;\n",
       "    }\n",
       "</style>\n",
       "<table border=\"1\" class=\"dataframe\">\n",
       "  <thead>\n",
       "    <tr style=\"text-align: right;\">\n",
       "      <th></th>\n",
       "      <th>optimizer</th>\n",
       "      <th>cpu</th>\n",
       "      <th>memory</th>\n",
       "      <th>time</th>\n",
       "      <th>epochs</th>\n",
       "      <th>predictions</th>\n",
       "      <th>dataset</th>\n",
       "      <th>loss</th>\n",
       "      <th>accuracy</th>\n",
       "    </tr>\n",
       "  </thead>\n",
       "  <tbody>\n",
       "    <tr>\n",
       "      <th>0</th>\n",
       "      <td>1</td>\n",
       "      <td>81.400</td>\n",
       "      <td>78.475</td>\n",
       "      <td>26.9857</td>\n",
       "      <td>2</td>\n",
       "      <td>304.5021</td>\n",
       "      <td>15</td>\n",
       "      <td>0.29111</td>\n",
       "      <td>0.86458</td>\n",
       "    </tr>\n",
       "    <tr>\n",
       "      <th>1</th>\n",
       "      <td>2</td>\n",
       "      <td>77.775</td>\n",
       "      <td>61.225</td>\n",
       "      <td>32.0057</td>\n",
       "      <td>2</td>\n",
       "      <td>304.5021</td>\n",
       "      <td>16</td>\n",
       "      <td>0.06496</td>\n",
       "      <td>0.98438</td>\n",
       "    </tr>\n",
       "    <tr>\n",
       "      <th>2</th>\n",
       "      <td>3</td>\n",
       "      <td>45.275</td>\n",
       "      <td>52.975</td>\n",
       "      <td>46.2330</td>\n",
       "      <td>2</td>\n",
       "      <td>87.0006</td>\n",
       "      <td>15</td>\n",
       "      <td>0.07996</td>\n",
       "      <td>0.97396</td>\n",
       "    </tr>\n",
       "    <tr>\n",
       "      <th>3</th>\n",
       "      <td>4</td>\n",
       "      <td>62.925</td>\n",
       "      <td>51.200</td>\n",
       "      <td>32.9408</td>\n",
       "      <td>2</td>\n",
       "      <td>435.0031</td>\n",
       "      <td>15</td>\n",
       "      <td>0.30984</td>\n",
       "      <td>0.86979</td>\n",
       "    </tr>\n",
       "    <tr>\n",
       "      <th>4</th>\n",
       "      <td>5</td>\n",
       "      <td>64.925</td>\n",
       "      <td>28.575</td>\n",
       "      <td>30.7948</td>\n",
       "      <td>2</td>\n",
       "      <td>87.0006</td>\n",
       "      <td>15</td>\n",
       "      <td>0.11819</td>\n",
       "      <td>0.95312</td>\n",
       "    </tr>\n",
       "  </tbody>\n",
       "</table>\n",
       "</div>"
      ],
      "text/plain": [
       "   optimizer     cpu  memory     time  epochs  predictions  dataset     loss  \\\n",
       "0          1  81.400  78.475  26.9857       2     304.5021       15  0.29111   \n",
       "1          2  77.775  61.225  32.0057       2     304.5021       16  0.06496   \n",
       "2          3  45.275  52.975  46.2330       2      87.0006       15  0.07996   \n",
       "3          4  62.925  51.200  32.9408       2     435.0031       15  0.30984   \n",
       "4          5  64.925  28.575  30.7948       2      87.0006       15  0.11819   \n",
       "\n",
       "   accuracy  \n",
       "0   0.86458  \n",
       "1   0.98438  \n",
       "2   0.97396  \n",
       "3   0.86979  \n",
       "4   0.95312  "
      ]
     },
     "execution_count": 8,
     "metadata": {},
     "output_type": "execute_result"
    }
   ],
   "source": [
    "df.head()"
   ]
  },
  {
   "cell_type": "code",
   "execution_count": 9,
   "metadata": {},
   "outputs": [
    {
     "data": {
      "image/png": "[encoded data removed]",
      "text/plain": [
       "<Figure size 1000x1000 with 9 Axes>"
      ]
     },
     "metadata": {},
     "output_type": "display_data"
    }
   ],
   "source": [
    "plot = df.hist(figsize=(10,10))"
   ]
  },
  {
   "cell_type": "code",
   "execution_count": 10,
   "metadata": {},
   "outputs": [
    {
     "data": {
      "image/png": "[encoded data removed]",
      "text/plain": [
       "<Figure size 1000x600 with 2 Axes>"
      ]
     },
     "metadata": {},
     "output_type": "display_data"
    }
   ],
   "source": [
    "corr_matrix = df.corr()\n",
    "\n",
    "# Set figure size\n",
    "plt.figure(figsize=(10, 6))\n",
    "sns.heatmap(corr_matrix, cmap ='RdYlGn', annot=True)\n",
    "plt.show()"
   ]
  },
  {
   "cell_type": "code",
   "execution_count": 11,
   "metadata": {},
   "outputs": [],
   "source": [
    "X = df[['dataset','loss','accuracy','time','cpu','memory','predictions']]\n",
    "y = df['optimizer']"
   ]
  },
  {
   "cell_type": "code",
   "execution_count": 12,
   "metadata": {},
   "outputs": [
    {
     "data": {
      "text/html": [
       "<div>\n",
       "<style scoped>\n",
       "    .dataframe tbody tr th:only-of-type {\n",
       "        vertical-align: middle;\n",
       "    }\n",
       "\n",
       "    .dataframe tbody tr th {\n",
       "        vertical-align: top;\n",
       "    }\n",
       "\n",
       "    .dataframe thead th {\n",
       "        text-align: right;\n",
       "    }\n",
       "</style>\n",
       "<table border=\"1\" class=\"dataframe\">\n",
       "  <thead>\n",
       "    <tr style=\"text-align: right;\">\n",
       "      <th></th>\n",
       "      <th>dataset</th>\n",
       "      <th>loss</th>\n",
       "      <th>accuracy</th>\n",
       "      <th>time</th>\n",
       "      <th>cpu</th>\n",
       "      <th>memory</th>\n",
       "      <th>predictions</th>\n",
       "    </tr>\n",
       "  </thead>\n",
       "  <tbody>\n",
       "    <tr>\n",
       "      <th>0</th>\n",
       "      <td>15</td>\n",
       "      <td>0.29111</td>\n",
       "      <td>0.86458</td>\n",
       "      <td>26.9857</td>\n",
       "      <td>81.400</td>\n",
       "      <td>78.475</td>\n",
       "      <td>304.5021</td>\n",
       "    </tr>\n",
       "    <tr>\n",
       "      <th>1</th>\n",
       "      <td>16</td>\n",
       "      <td>0.06496</td>\n",
       "      <td>0.98438</td>\n",
       "      <td>32.0057</td>\n",
       "      <td>77.775</td>\n",
       "      <td>61.225</td>\n",
       "      <td>304.5021</td>\n",
       "    </tr>\n",
       "    <tr>\n",
       "      <th>2</th>\n",
       "      <td>15</td>\n",
       "      <td>0.07996</td>\n",
       "      <td>0.97396</td>\n",
       "      <td>46.2330</td>\n",
       "      <td>45.275</td>\n",
       "      <td>52.975</td>\n",
       "      <td>87.0006</td>\n",
       "    </tr>\n",
       "    <tr>\n",
       "      <th>3</th>\n",
       "      <td>15</td>\n",
       "      <td>0.30984</td>\n",
       "      <td>0.86979</td>\n",
       "      <td>32.9408</td>\n",
       "      <td>62.925</td>\n",
       "      <td>51.200</td>\n",
       "      <td>435.0031</td>\n",
       "    </tr>\n",
       "    <tr>\n",
       "      <th>4</th>\n",
       "      <td>15</td>\n",
       "      <td>0.11819</td>\n",
       "      <td>0.95312</td>\n",
       "      <td>30.7948</td>\n",
       "      <td>64.925</td>\n",
       "      <td>28.575</td>\n",
       "      <td>87.0006</td>\n",
       "    </tr>\n",
       "  </tbody>\n",
       "</table>\n",
       "</div>"
      ],
      "text/plain": [
       "   dataset     loss  accuracy     time     cpu  memory  predictions\n",
       "0       15  0.29111   0.86458  26.9857  81.400  78.475     304.5021\n",
       "1       16  0.06496   0.98438  32.0057  77.775  61.225     304.5021\n",
       "2       15  0.07996   0.97396  46.2330  45.275  52.975      87.0006\n",
       "3       15  0.30984   0.86979  32.9408  62.925  51.200     435.0031\n",
       "4       15  0.11819   0.95312  30.7948  64.925  28.575      87.0006"
      ]
     },
     "execution_count": 12,
     "metadata": {},
     "output_type": "execute_result"
    }
   ],
   "source": [
    "X.head()"
   ]
  },
  {
   "cell_type": "code",
   "execution_count": 13,
   "metadata": {},
   "outputs": [],
   "source": [
    "X_train, X_test, y_train, y_test = train_test_split(X, y)"
   ]
  },
  {
   "cell_type": "code",
   "execution_count": 14,
   "metadata": {},
   "outputs": [],
   "source": [
    "from sklearn.preprocessing import StandardScaler\n",
    "\n",
    "sc = StandardScaler()\n",
    "\n",
    "X_train =  sc.fit_transform(X_train)\n",
    "X_test = sc.fit_transform(X_test)"
   ]
  },
  {
   "cell_type": "code",
   "execution_count": 15,
   "metadata": {},
   "outputs": [
    {
     "data": {
      "text/plain": [
       "array([[ 0.57342281,  0.01940485,  0.26862072, ..., -0.2608532 ,\n",
       "        -0.38412173, -1.22482245],\n",
       "       [-0.54215769,  0.86937511, -0.42149607, ...,  0.16466826,\n",
       "         0.79947992,  1.21548151],\n",
       "       [-2.02959836,  2.51881271, -2.9520295 , ...,  0.16466826,\n",
       "         0.8663665 ,  1.56409717],\n",
       "       ...,\n",
       "       [-0.17029753,  1.00566956, -1.11167597, ...,  1.38804247,\n",
       "         0.79075558,  0.86686666],\n",
       "       [ 0.57342281, -0.5296188 ,  0.40011962, ..., -0.10128265,\n",
       "        -0.61386259,  0.51825181],\n",
       "       [ 0.57342281, -0.40993325,  0.20293438, ...,  0.59778832,\n",
       "         0.88236112,  1.56409717]])"
      ]
     },
     "execution_count": 15,
     "metadata": {},
     "output_type": "execute_result"
    }
   ],
   "source": [
    "X_train"
   ]
  },
  {
   "cell_type": "code",
   "execution_count": 16,
   "metadata": {},
   "outputs": [],
   "source": [
    "from sklearn.ensemble import RandomForestClassifier\n",
    "from sklearn.metrics import classification_report\n",
    "from xgboost import XGBClassifier\n",
    "from sklearn.tree import DecisionTreeClassifier\n",
    "from sklearn.neighbors import KNeighborsClassifier\n",
    "from sklearn.naive_bayes import GaussianNB\n",
    "from sklearn.svm import SVC"
   ]
  },
  {
   "cell_type": "code",
   "execution_count": 17,
   "metadata": {},
   "outputs": [
    {
     "name": "stdout",
     "output_type": "stream",
     "text": [
      "Train set score: 0.577\n",
      "Test set score: 0.556\n",
      "              precision    recall  f1-score   support\n",
      "\n",
      "           0       1.00      1.00      1.00       395\n",
      "           1       0.82      0.70      0.76       429\n",
      "           2       0.28      0.30      0.29       400\n",
      "           3       0.52      0.83      0.64       398\n",
      "           4       0.70      0.85      0.77       384\n",
      "           5       0.28      0.34      0.31       401\n",
      "           6       0.64      0.21      0.32       447\n",
      "           7       0.31      0.25      0.27       393\n",
      "\n",
      "    accuracy                           0.56      3247\n",
      "   macro avg       0.57      0.56      0.54      3247\n",
      "weighted avg       0.57      0.56      0.54      3247\n",
      "\n"
     ]
    }
   ],
   "source": [
    "tree = DecisionTreeClassifier(max_depth=7)\n",
    "\n",
    "tree.fit(X_train, y_train)\n",
    "\n",
    "print('Train set score: {:.3f}'.format(tree.score(X_train, y_train)))\n",
    "print('Test set score: {:.3f}'.format(tree.score(X_test, y_test)))\n",
    "\n",
    "y_pred = tree.predict(X_test)\n",
    "print(classification_report(y_test, y_pred, zero_division=0))"
   ]
  },
  {
   "cell_type": "code",
   "execution_count": 18,
   "metadata": {},
   "outputs": [
    {
     "name": "stdout",
     "output_type": "stream",
     "text": [
      "Train set score: 0.632\n",
      "Test set score: 0.568\n",
      "              precision    recall  f1-score   support\n",
      "\n",
      "           0       1.00      1.00      1.00       395\n",
      "           1       0.85      0.75      0.80       429\n",
      "           2       0.30      0.23      0.26       400\n",
      "           3       0.55      0.82      0.66       398\n",
      "           4       0.72      0.85      0.78       384\n",
      "           5       0.29      0.40      0.34       401\n",
      "           6       0.70      0.20      0.31       447\n",
      "           7       0.30      0.33      0.32       393\n",
      "\n",
      "    accuracy                           0.57      3247\n",
      "   macro avg       0.59      0.57      0.56      3247\n",
      "weighted avg       0.59      0.57      0.55      3247\n",
      "\n"
     ]
    }
   ],
   "source": [
    "rf = RandomForestClassifier(max_depth=8)\n",
    "\n",
    "rf.fit(X_train, y_train)\n",
    "\n",
    "print('Train set score: {:.3f}'.format(rf.score(X_train, y_train)))\n",
    "print('Test set score: {:.3f}'.format(rf.score(X_test, y_test)))\n",
    "\n",
    "y_pred = rf.predict(X_test)\n",
    "print(classification_report(y_test, y_pred, zero_division=0))"
   ]
  },
  {
   "cell_type": "code",
   "execution_count": 19,
   "metadata": {},
   "outputs": [
    {
     "data": {
      "text/html": [
       "<div>\n",
       "<style scoped>\n",
       "    .dataframe tbody tr th:only-of-type {\n",
       "        vertical-align: middle;\n",
       "    }\n",
       "\n",
       "    .dataframe tbody tr th {\n",
       "        vertical-align: top;\n",
       "    }\n",
       "\n",
       "    .dataframe thead th {\n",
       "        text-align: right;\n",
       "    }\n",
       "</style>\n",
       "<table border=\"1\" class=\"dataframe\">\n",
       "  <thead>\n",
       "    <tr style=\"text-align: right;\">\n",
       "      <th></th>\n",
       "      <th>Feature</th>\n",
       "      <th>Importance</th>\n",
       "    </tr>\n",
       "  </thead>\n",
       "  <tbody>\n",
       "    <tr>\n",
       "      <th>1</th>\n",
       "      <td>loss</td>\n",
       "      <td>0.548</td>\n",
       "    </tr>\n",
       "    <tr>\n",
       "      <th>2</th>\n",
       "      <td>accuracy</td>\n",
       "      <td>0.287</td>\n",
       "    </tr>\n",
       "    <tr>\n",
       "      <th>0</th>\n",
       "      <td>dataset</td>\n",
       "      <td>0.105</td>\n",
       "    </tr>\n",
       "    <tr>\n",
       "      <th>3</th>\n",
       "      <td>time</td>\n",
       "      <td>0.018</td>\n",
       "    </tr>\n",
       "    <tr>\n",
       "      <th>6</th>\n",
       "      <td>predictions</td>\n",
       "      <td>0.018</td>\n",
       "    </tr>\n",
       "    <tr>\n",
       "      <th>5</th>\n",
       "      <td>memory</td>\n",
       "      <td>0.013</td>\n",
       "    </tr>\n",
       "    <tr>\n",
       "      <th>4</th>\n",
       "      <td>cpu</td>\n",
       "      <td>0.011</td>\n",
       "    </tr>\n",
       "  </tbody>\n",
       "</table>\n",
       "</div>"
      ],
      "text/plain": [
       "       Feature  Importance\n",
       "1         loss       0.548\n",
       "2     accuracy       0.287\n",
       "0      dataset       0.105\n",
       "3         time       0.018\n",
       "6  predictions       0.018\n",
       "5       memory       0.013\n",
       "4          cpu       0.011"
      ]
     },
     "execution_count": 19,
     "metadata": {},
     "output_type": "execute_result"
    }
   ],
   "source": [
    "importances = pd.DataFrame({'Feature':X.columns,'Importance':np.round(rf.feature_importances_,3)})\n",
    "importances = importances.sort_values('Importance',ascending=False)\n",
    "\n",
    "importances"
   ]
  },
  {
   "cell_type": "code",
   "execution_count": 20,
   "metadata": {},
   "outputs": [
    {
     "name": "stdout",
     "output_type": "stream",
     "text": [
      "Train set score: 0.739\n",
      "Test set score: 0.582\n",
      "              precision    recall  f1-score   support\n",
      "\n",
      "           0       1.00      1.00      1.00       395\n",
      "           1       0.85      0.77      0.81       429\n",
      "           2       0.29      0.26      0.27       400\n",
      "           3       0.61      0.83      0.70       398\n",
      "           4       0.76      0.87      0.81       384\n",
      "           5       0.28      0.34      0.31       401\n",
      "           6       0.63      0.26      0.37       447\n",
      "           7       0.31      0.36      0.34       393\n",
      "\n",
      "    accuracy                           0.58      3247\n",
      "   macro avg       0.59      0.59      0.58      3247\n",
      "weighted avg       0.59      0.58      0.57      3247\n",
      "\n"
     ]
    }
   ],
   "source": [
    "xg = XGBClassifier(n_estimators=29)\n",
    "\n",
    "xg.fit(X_train, y_train)\n",
    "\n",
    "print('Train set score: {:.3f}'.format(xg.score(X_train, y_train)))\n",
    "print('Test set score: {:.3f}'.format(xg.score(X_test, y_test)))\n",
    "\n",
    "y_pred = xg.predict(X_test)\n",
    "print(classification_report(y_test, y_pred))"
   ]
  },
  {
   "cell_type": "code",
   "execution_count": 21,
   "metadata": {},
   "outputs": [
    {
     "data": {
      "text/html": [
       "<div>\n",
       "<style scoped>\n",
       "    .dataframe tbody tr th:only-of-type {\n",
       "        vertical-align: middle;\n",
       "    }\n",
       "\n",
       "    .dataframe tbody tr th {\n",
       "        vertical-align: top;\n",
       "    }\n",
       "\n",
       "    .dataframe thead th {\n",
       "        text-align: right;\n",
       "    }\n",
       "</style>\n",
       "<table border=\"1\" class=\"dataframe\">\n",
       "  <thead>\n",
       "    <tr style=\"text-align: right;\">\n",
       "      <th></th>\n",
       "      <th>Feature</th>\n",
       "      <th>Importance</th>\n",
       "    </tr>\n",
       "  </thead>\n",
       "  <tbody>\n",
       "    <tr>\n",
       "      <th>1</th>\n",
       "      <td>loss</td>\n",
       "      <td>0.529</td>\n",
       "    </tr>\n",
       "    <tr>\n",
       "      <th>2</th>\n",
       "      <td>accuracy</td>\n",
       "      <td>0.188</td>\n",
       "    </tr>\n",
       "    <tr>\n",
       "      <th>6</th>\n",
       "      <td>predictions</td>\n",
       "      <td>0.106</td>\n",
       "    </tr>\n",
       "    <tr>\n",
       "      <th>0</th>\n",
       "      <td>dataset</td>\n",
       "      <td>0.076</td>\n",
       "    </tr>\n",
       "    <tr>\n",
       "      <th>3</th>\n",
       "      <td>time</td>\n",
       "      <td>0.037</td>\n",
       "    </tr>\n",
       "    <tr>\n",
       "      <th>5</th>\n",
       "      <td>memory</td>\n",
       "      <td>0.033</td>\n",
       "    </tr>\n",
       "    <tr>\n",
       "      <th>4</th>\n",
       "      <td>cpu</td>\n",
       "      <td>0.031</td>\n",
       "    </tr>\n",
       "  </tbody>\n",
       "</table>\n",
       "</div>"
      ],
      "text/plain": [
       "       Feature  Importance\n",
       "1         loss       0.529\n",
       "2     accuracy       0.188\n",
       "6  predictions       0.106\n",
       "0      dataset       0.076\n",
       "3         time       0.037\n",
       "5       memory       0.033\n",
       "4          cpu       0.031"
      ]
     },
     "execution_count": 21,
     "metadata": {},
     "output_type": "execute_result"
    }
   ],
   "source": [
    "importances = pd.DataFrame({'Feature':X.columns,'Importance':np.round(xg.feature_importances_,3)})\n",
    "importances = importances.sort_values('Importance',ascending=False)\n",
    "\n",
    "importances"
   ]
  },
  {
   "cell_type": "code",
   "execution_count": 22,
   "metadata": {},
   "outputs": [
    {
     "name": "stdout",
     "output_type": "stream",
     "text": [
      "Train set score: 0.550\n",
      "Test set score: 0.537\n",
      "              precision    recall  f1-score   support\n",
      "\n",
      "           0       1.00      0.99      0.99       395\n",
      "           1       0.83      0.77      0.80       429\n",
      "           2       0.23      0.19      0.21       400\n",
      "           3       0.56      0.79      0.66       398\n",
      "           4       0.74      0.84      0.79       384\n",
      "           5       0.31      0.31      0.31       401\n",
      "           6       0.21      0.15      0.18       447\n",
      "           7       0.29      0.30      0.29       393\n",
      "\n",
      "    accuracy                           0.54      3247\n",
      "   macro avg       0.52      0.54      0.53      3247\n",
      "weighted avg       0.52      0.54      0.52      3247\n",
      "\n"
     ]
    }
   ],
   "source": [
    "from sklearn.linear_model import LogisticRegression\n",
    "\n",
    "log = LogisticRegression(C=0.6, max_iter=500)\n",
    "\n",
    "log.fit(X_train, y_train)\n",
    "\n",
    "print('Train set score: {:.3f}'.format(log.score(X_train, y_train)))\n",
    "print('Test set score: {:.3f}'.format(log.score(X_test, y_test)))\n",
    "\n",
    "y_pred = log.predict(X_test)\n",
    "print(classification_report(y_test, y_pred))"
   ]
  },
  {
   "attachments": {},
   "cell_type": "markdown",
   "metadata": {},
   "source": [
    "Neural Networks"
   ]
  },
  {
   "cell_type": "code",
   "execution_count": 23,
   "metadata": {},
   "outputs": [],
   "source": [
    "# Scale the input features\n",
    "scaler = MinMaxScaler()\n",
    "X_scaled = scaler.fit_transform(X)\n",
    "\n",
    "# One-hot encode the optimizer labels\n",
    "encoder = OneHotEncoder()\n",
    "y_encoded = encoder.fit_transform(y.values.reshape(-1, 1)).toarray()\n",
    "num_classes = y_encoded.shape[1]\n",
    "\n",
    "# Split the data into training and testing sets\n",
    "X_train_nn, X_test_nn, y_train_nn, y_test_nn = train_test_split(X_scaled, y_encoded)"
   ]
  },
  {
   "cell_type": "code",
   "execution_count": 24,
   "metadata": {},
   "outputs": [],
   "source": [
    "\n",
    "# Define the model architecture\n",
    "model = keras.Sequential([\n",
    "    keras.layers.Dense(64, input_dim=X.shape[1],activation='relu'),\n",
    "    keras.layers.BatchNormalization(),\n",
    "    keras.layers.Dense(128, activation='relu'),\n",
    "    keras.layers.Dropout(0.2),\n",
    "    keras.layers.BatchNormalization(),\n",
    "    keras.layers.Dense(128, activation='relu'),\n",
    "    keras.layers.Dropout(0.2),\n",
    "    keras.layers.BatchNormalization(),\n",
    "    keras.layers.Dense(256, activation='relu'),\n",
    "    keras.layers.Dropout(0.2),\n",
    "    keras.layers.BatchNormalization(),\n",
    "    keras.layers.Dropout(0.2),\n",
    "    keras.layers.Dense(num_classes, activation='softmax')\n",
    "])\n",
    "\n",
    "# Compile the model\n",
    "model.compile(optimizer='adam',\n",
    "              loss='categorical_crossentropy',\n",
    "              metrics='accuracy')"
   ]
  },
  {
   "cell_type": "code",
   "execution_count": 25,
   "metadata": {},
   "outputs": [
    {
     "name": "stdout",
     "output_type": "stream",
     "text": [
      "Epoch 1/200\n",
      "153/153 [==============================] - 5s 11ms/step - loss: 1.6810 - accuracy: 0.3664 - val_loss: 2.2028 - val_accuracy: 0.1217\n",
      "Epoch 2/200\n",
      "153/153 [==============================] - 1s 8ms/step - loss: 1.2581 - accuracy: 0.4584 - val_loss: 1.8975 - val_accuracy: 0.2036\n",
      "Epoch 3/200\n",
      "153/153 [==============================] - 1s 7ms/step - loss: 1.1428 - accuracy: 0.4957 - val_loss: 1.3749 - val_accuracy: 0.3717\n",
      "Epoch 4/200\n",
      "153/153 [==============================] - 1s 7ms/step - loss: 1.0952 - accuracy: 0.5190 - val_loss: 1.2692 - val_accuracy: 0.4536\n",
      "Epoch 5/200\n",
      "153/153 [==============================] - 1s 7ms/step - loss: 1.0525 - accuracy: 0.5300 - val_loss: 0.9761 - val_accuracy: 0.5667\n",
      "Epoch 6/200\n",
      "153/153 [==============================] - 1s 7ms/step - loss: 1.0460 - accuracy: 0.5290 - val_loss: 0.9948 - val_accuracy: 0.5476\n",
      "Epoch 7/200\n",
      "153/153 [==============================] - 1s 7ms/step - loss: 1.0234 - accuracy: 0.5465 - val_loss: 1.1662 - val_accuracy: 0.5029\n",
      "Epoch 8/200\n",
      "153/153 [==============================] - 1s 7ms/step - loss: 1.0261 - accuracy: 0.5458 - val_loss: 0.9835 - val_accuracy: 0.5621\n",
      "Epoch 9/200\n",
      "153/153 [==============================] - 1s 8ms/step - loss: 1.0176 - accuracy: 0.5469 - val_loss: 1.0313 - val_accuracy: 0.5359\n",
      "Epoch 10/200\n",
      "153/153 [==============================] - 1s 7ms/step - loss: 1.0033 - accuracy: 0.5490 - val_loss: 0.9390 - val_accuracy: 0.5716\n",
      "Epoch 11/200\n",
      "153/153 [==============================] - 1s 7ms/step - loss: 1.0034 - accuracy: 0.5547 - val_loss: 1.1093 - val_accuracy: 0.5149\n",
      "Epoch 12/200\n",
      "153/153 [==============================] - 1s 7ms/step - loss: 0.9958 - accuracy: 0.5524 - val_loss: 1.3731 - val_accuracy: 0.4469\n",
      "Epoch 13/200\n",
      "153/153 [==============================] - 1s 8ms/step - loss: 0.9958 - accuracy: 0.5555 - val_loss: 1.0637 - val_accuracy: 0.5146\n",
      "Epoch 14/200\n",
      "153/153 [==============================] - 1s 8ms/step - loss: 0.9881 - accuracy: 0.5565 - val_loss: 1.0033 - val_accuracy: 0.5504\n",
      "Epoch 15/200\n",
      "153/153 [==============================] - 1s 8ms/step - loss: 0.9876 - accuracy: 0.5622 - val_loss: 0.9738 - val_accuracy: 0.5624\n",
      "Epoch 16/200\n",
      "153/153 [==============================] - 1s 8ms/step - loss: 0.9864 - accuracy: 0.5586 - val_loss: 1.1408 - val_accuracy: 0.5063\n",
      "Epoch 17/200\n",
      "153/153 [==============================] - 1s 8ms/step - loss: 0.9933 - accuracy: 0.5552 - val_loss: 0.9582 - val_accuracy: 0.5624\n",
      "Epoch 18/200\n",
      "153/153 [==============================] - 1s 8ms/step - loss: 0.9826 - accuracy: 0.5588 - val_loss: 1.0142 - val_accuracy: 0.5460\n",
      "Epoch 19/200\n",
      "153/153 [==============================] - 1s 8ms/step - loss: 0.9817 - accuracy: 0.5624 - val_loss: 1.1578 - val_accuracy: 0.5097\n",
      "Epoch 20/200\n",
      "153/153 [==============================] - 1s 8ms/step - loss: 0.9746 - accuracy: 0.5648 - val_loss: 0.9591 - val_accuracy: 0.5611\n",
      "Epoch 21/200\n",
      "153/153 [==============================] - 1s 8ms/step - loss: 0.9652 - accuracy: 0.5742 - val_loss: 0.9210 - val_accuracy: 0.5762\n",
      "Epoch 22/200\n",
      "153/153 [==============================] - 1s 9ms/step - loss: 0.9759 - accuracy: 0.5692 - val_loss: 0.9283 - val_accuracy: 0.5845\n",
      "Epoch 23/200\n",
      "153/153 [==============================] - 1s 7ms/step - loss: 0.9667 - accuracy: 0.5672 - val_loss: 0.9390 - val_accuracy: 0.5784\n",
      "Epoch 24/200\n",
      "153/153 [==============================] - 1s 7ms/step - loss: 0.9652 - accuracy: 0.5687 - val_loss: 0.9137 - val_accuracy: 0.5904\n",
      "Epoch 25/200\n",
      "153/153 [==============================] - 1s 7ms/step - loss: 0.9643 - accuracy: 0.5662 - val_loss: 0.9219 - val_accuracy: 0.5759\n",
      "Epoch 26/200\n",
      "153/153 [==============================] - 1s 7ms/step - loss: 0.9660 - accuracy: 0.5631 - val_loss: 1.0475 - val_accuracy: 0.5464\n",
      "Epoch 27/200\n",
      "153/153 [==============================] - 1s 8ms/step - loss: 0.9538 - accuracy: 0.5668 - val_loss: 0.9216 - val_accuracy: 0.5802\n",
      "Epoch 28/200\n",
      "153/153 [==============================] - 1s 8ms/step - loss: 0.9553 - accuracy: 0.5707 - val_loss: 1.2244 - val_accuracy: 0.4915\n",
      "Epoch 29/200\n",
      "153/153 [==============================] - 1s 7ms/step - loss: 0.9621 - accuracy: 0.5692 - val_loss: 0.9495 - val_accuracy: 0.5805\n",
      "Epoch 30/200\n",
      "153/153 [==============================] - 1s 8ms/step - loss: 0.9601 - accuracy: 0.5727 - val_loss: 1.0730 - val_accuracy: 0.5233\n",
      "Epoch 31/200\n",
      "153/153 [==============================] - 1s 7ms/step - loss: 0.9498 - accuracy: 0.5707 - val_loss: 1.0524 - val_accuracy: 0.5380\n",
      "Epoch 32/200\n",
      "153/153 [==============================] - 1s 7ms/step - loss: 0.9600 - accuracy: 0.5682 - val_loss: 0.9481 - val_accuracy: 0.5759\n",
      "Epoch 33/200\n",
      "153/153 [==============================] - 1s 7ms/step - loss: 0.9502 - accuracy: 0.5720 - val_loss: 0.9502 - val_accuracy: 0.5682\n",
      "Epoch 34/200\n",
      "153/153 [==============================] - 1s 7ms/step - loss: 0.9509 - accuracy: 0.5706 - val_loss: 0.9173 - val_accuracy: 0.5808\n",
      "Epoch 35/200\n",
      "153/153 [==============================] - 1s 7ms/step - loss: 0.9473 - accuracy: 0.5719 - val_loss: 0.9144 - val_accuracy: 0.5762\n",
      "Epoch 36/200\n",
      "153/153 [==============================] - 1s 8ms/step - loss: 0.9521 - accuracy: 0.5691 - val_loss: 0.9324 - val_accuracy: 0.5698\n",
      "Epoch 37/200\n",
      "153/153 [==============================] - 1s 7ms/step - loss: 0.9503 - accuracy: 0.5721 - val_loss: 0.9770 - val_accuracy: 0.5556\n",
      "Epoch 38/200\n",
      "153/153 [==============================] - 1s 7ms/step - loss: 0.9571 - accuracy: 0.5718 - val_loss: 0.9274 - val_accuracy: 0.5848\n",
      "Epoch 39/200\n",
      "153/153 [==============================] - 1s 8ms/step - loss: 0.9503 - accuracy: 0.5696 - val_loss: 0.9708 - val_accuracy: 0.5565\n",
      "Epoch 40/200\n",
      "153/153 [==============================] - 1s 8ms/step - loss: 0.9491 - accuracy: 0.5749 - val_loss: 0.9154 - val_accuracy: 0.5910\n",
      "Epoch 41/200\n",
      "153/153 [==============================] - 1s 9ms/step - loss: 0.9442 - accuracy: 0.5712 - val_loss: 0.9414 - val_accuracy: 0.5735\n",
      "Epoch 42/200\n",
      "153/153 [==============================] - 1s 9ms/step - loss: 0.9465 - accuracy: 0.5726 - val_loss: 0.9154 - val_accuracy: 0.5731\n",
      "Epoch 43/200\n",
      "153/153 [==============================] - 1s 9ms/step - loss: 0.9340 - accuracy: 0.5804 - val_loss: 1.3390 - val_accuracy: 0.5011\n",
      "Epoch 44/200\n",
      "153/153 [==============================] - 1s 8ms/step - loss: 0.9423 - accuracy: 0.5732 - val_loss: 0.9393 - val_accuracy: 0.5691\n",
      "102/102 [==============================] - 0s 3ms/step - loss: 0.9137 - accuracy: 0.5904\n",
      "Test accuracy: 0.5903911590576172\n"
     ]
    }
   ],
   "source": [
    "from keras.callbacks import EarlyStopping\n",
    "\n",
    "early_stopping = EarlyStopping(min_delta=0.001, # minimium amount of change to count as an improvement\n",
    "    patience=20, # how many epochs to wait before stopping\n",
    "    restore_best_weights=True,)\n",
    "\n",
    "# Fit the model to the training data\n",
    "history = model.fit(X_train_nn, y_train_nn, epochs=200, batch_size=64, callbacks=[early_stopping], validation_data=(X_test_nn, y_test_nn))\n",
    "\n",
    "# Evaluate the model on the test data\n",
    "test_loss, test_acc = model.evaluate(X_test_nn, y_test_nn)\n",
    "\n",
    "# Print the test accuracy\n",
    "print('Test accuracy:', test_acc)"
   ]
  },
  {
   "cell_type": "code",
   "execution_count": 26,
   "metadata": {},
   "outputs": [
    {
     "name": "stdout",
     "output_type": "stream",
     "text": [
      "Minimum validation loss: 0.914\n"
     ]
    },
    {
     "data": {
      "image/png": "[encoded data removed]",
      "text/plain": [
       "<Figure size 640x480 with 1 Axes>"
      ]
     },
     "metadata": {},
     "output_type": "display_data"
    }
   ],
   "source": [
    "# convert the training history to a dataframe\n",
    "history_df = pd.DataFrame(history.history)\n",
    "# use Pandas native plot method\n",
    "history_df.loc[:, ['loss', 'val_loss']].plot()\n",
    "print(\"Minimum validation loss: {:.3f}\".format(history_df['val_loss'].min()))"
   ]
  },
  {
   "cell_type": "code",
   "execution_count": 27,
   "metadata": {},
   "outputs": [
    {
     "name": "stdout",
     "output_type": "stream",
     "text": [
      "Max val_accuracy: 0.591\n"
     ]
    },
    {
     "data": {
      "image/png": "[encoded data removed]",
      "text/plain": [
       "<Figure size 640x480 with 1 Axes>"
      ]
     },
     "metadata": {},
     "output_type": "display_data"
    }
   ],
   "source": [
    "# convert the training history to a dataframe\n",
    "history_df = pd.DataFrame(history.history)\n",
    "# use Pandas native plot method\n",
    "history_df.loc[:, ['accuracy', 'val_accuracy']].plot()\n",
    "print(\"Max val_accuracy: {:.3f}\".format(history_df['val_accuracy'].max()))"
   ]
  },
  {
   "attachments": {},
   "cell_type": "markdown",
   "metadata": {},
   "source": [
    "Saving the model"
   ]
  },
  {
   "cell_type": "code",
   "execution_count": 41,
   "metadata": {},
   "outputs": [
    {
     "name": "stderr",
     "output_type": "stream",
     "text": [
      "c:\\Users\\surit\\AppData\\Local\\Programs\\Python\\Python310\\lib\\site-packages\\sklearn\\base.py:450: UserWarning: X does not have valid feature names, but MinMaxScaler was fitted with feature names\n",
      "  warnings.warn(\n"
     ]
    },
    {
     "name": "stdout",
     "output_type": "stream",
     "text": [
      "1/1 [==============================] - 0s 180ms/step\n",
      "Best optimizer: 4\n"
     ]
    }
   ],
   "source": [
    "import os\n",
    "from keras.models import load_model\n",
    "\n",
    "# Save the trained model\n",
    "model.save('model.h5')\n",
    "\n",
    "# Save the fitted scaler and encoder objects\n",
    "with open('scaler.pkl', 'wb') as f:\n",
    "    pickle.dump(scaler, f)\n",
    "with open('encoder.pkl', 'wb') as f:\n",
    "    pickle.dump(encoder, f)\n",
    "\n",
    "# model.summary()\n",
    "\n",
    "# Make predictions\n",
    "def predict_best_optimizer(model, cpu, memory, dataset, loss, accuracy, time, predictions):\n",
    "    input_data = np.array([[cpu, memory, dataset, loss, accuracy, time, predictions]])\n",
    "    input_scaled = scaler.transform(input_data)\n",
    "    probabilities = model.predict(input_scaled)\n",
    "    best_optimizer_idx = np.argmax(probabilities)\n",
    "    best_optimizer_onehot = np.zeros((1, probabilities.shape[1]))\n",
    "    best_optimizer_onehot[0, best_optimizer_idx] = 1\n",
    "    best_optimizer = encoder.inverse_transform(best_optimizer_onehot)[0][0]\n",
    "    return best_optimizer\n",
    "\n",
    "# Load the saved model\n",
    "loaded_model = load_model('model.h5')\n",
    "# Example usage\n",
    "best_optimizer = predict_best_optimizer(loaded_model, cpu=81.4, memory=80, dataset=300,loss=0.09, accuracy=0.9, time=25, predictions=300)\n",
    "print(\"Best optimizer:\", best_optimizer)\n",
    "\n",
    "\n",
    "if os.path.exists('scaler.pkl'):\n",
    "  os.remove('scaler.pkl')\n",
    "\n",
    "if os.path.exists('encoder.pkl'):\n",
    "  os.remove('encoder.pkl')"
   ]
  },
  {
   "cell_type": "code",
   "execution_count": 52,
   "metadata": {},
   "outputs": [
    {
     "name": "stdout",
     "output_type": "stream",
     "text": [
      "1/1 [==============================] - 0s 135ms/step\n"
     ]
    },
    {
     "name": "stderr",
     "output_type": "stream",
     "text": [
      "c:\\Users\\surit\\AppData\\Local\\Programs\\Python\\Python310\\lib\\site-packages\\sklearn\\base.py:450: UserWarning: X does not have valid feature names, but MinMaxScaler was fitted with feature names\n",
      "  warnings.warn(\n",
      "c:\\Users\\surit\\AppData\\Local\\Programs\\Python\\Python310\\lib\\site-packages\\sklearn\\base.py:450: UserWarning: X does not have valid feature names, but MinMaxScaler was fitted with feature names\n",
      "  warnings.warn(\n"
     ]
    },
    {
     "name": "stdout",
     "output_type": "stream",
     "text": [
      "cpu: 40, memory: 62, dataset: 300, loss: 0.09, accuracy: 0.9, time: 19, predictions: 14 | optimizer #0: 6\n",
      "1/1 [==============================] - 0s 24ms/step\n",
      "cpu: 57, memory: 79, dataset: 300, loss: 0.09, accuracy: 0.9, time: 60, predictions: 16 | optimizer #1: 6\n",
      "1/1 [==============================] - 0s 40ms/step\n",
      "cpu: 53, memory: 51, dataset: 360, loss: 0.09, accuracy: 0.9, time: 31, predictions: 15 | optimizer #2: 6\n",
      "1/1 [==============================] - 0s 29ms/step\n"
     ]
    },
    {
     "name": "stderr",
     "output_type": "stream",
     "text": [
      "c:\\Users\\surit\\AppData\\Local\\Programs\\Python\\Python310\\lib\\site-packages\\sklearn\\base.py:450: UserWarning: X does not have valid feature names, but MinMaxScaler was fitted with feature names\n",
      "  warnings.warn(\n",
      "c:\\Users\\surit\\AppData\\Local\\Programs\\Python\\Python310\\lib\\site-packages\\sklearn\\base.py:450: UserWarning: X does not have valid feature names, but MinMaxScaler was fitted with feature names\n",
      "  warnings.warn(\n",
      "c:\\Users\\surit\\AppData\\Local\\Programs\\Python\\Python310\\lib\\site-packages\\sklearn\\base.py:450: UserWarning: X does not have valid feature names, but MinMaxScaler was fitted with feature names\n",
      "  warnings.warn(\n"
     ]
    },
    {
     "name": "stdout",
     "output_type": "stream",
     "text": [
      "cpu: 77, memory: 54, dataset: 240, loss: 0.09, accuracy: 0.9, time: 22, predictions: 16 | optimizer #3: 6\n",
      "1/1 [==============================] - 0s 27ms/step\n",
      "cpu: 71, memory: 32, dataset: 60, loss: 0.09, accuracy: 0.9, time: 28, predictions: 15 | optimizer #4: 6\n",
      "1/1 [==============================] - 0s 34ms/step\n",
      "cpu: 76, memory: 66, dataset: 420, loss: 0.09, accuracy: 0.9, time: 26, predictions: 14 | optimizer #5: 6\n",
      "1/1 [==============================] - ETA: 0s"
     ]
    },
    {
     "name": "stderr",
     "output_type": "stream",
     "text": [
      "c:\\Users\\surit\\AppData\\Local\\Programs\\Python\\Python310\\lib\\site-packages\\sklearn\\base.py:450: UserWarning: X does not have valid feature names, but MinMaxScaler was fitted with feature names\n",
      "  warnings.warn(\n",
      "c:\\Users\\surit\\AppData\\Local\\Programs\\Python\\Python310\\lib\\site-packages\\sklearn\\base.py:450: UserWarning: X does not have valid feature names, but MinMaxScaler was fitted with feature names\n",
      "  warnings.warn(\n"
     ]
    },
    {
     "name": "stdout",
     "output_type": "stream",
     "text": [
      "1/1 [==============================] - 0s 35ms/step\n",
      "cpu: 75, memory: 33, dataset: 240, loss: 0.09, accuracy: 0.9, time: 15, predictions: 15 | optimizer #6: 6\n",
      "1/1 [==============================] - 0s 28ms/step\n",
      "cpu: 67, memory: 36, dataset: 300, loss: 0.09, accuracy: 0.9, time: 50, predictions: 15 | optimizer #7: 6\n",
      "1/1 [==============================] - 0s 27ms/step\n",
      "cpu: 48, memory: 61, dataset: 300, loss: 0.09, accuracy: 0.9, time: 33, predictions: 15 | optimizer #8: 6\n"
     ]
    },
    {
     "name": "stderr",
     "output_type": "stream",
     "text": [
      "c:\\Users\\surit\\AppData\\Local\\Programs\\Python\\Python310\\lib\\site-packages\\sklearn\\base.py:450: UserWarning: X does not have valid feature names, but MinMaxScaler was fitted with feature names\n",
      "  warnings.warn(\n",
      "c:\\Users\\surit\\AppData\\Local\\Programs\\Python\\Python310\\lib\\site-packages\\sklearn\\base.py:450: UserWarning: X does not have valid feature names, but MinMaxScaler was fitted with feature names\n",
      "  warnings.warn(\n",
      "c:\\Users\\surit\\AppData\\Local\\Programs\\Python\\Python310\\lib\\site-packages\\sklearn\\base.py:450: UserWarning: X does not have valid feature names, but MinMaxScaler was fitted with feature names\n",
      "  warnings.warn(\n"
     ]
    },
    {
     "name": "stdout",
     "output_type": "stream",
     "text": [
      "1/1 [==============================] - 0s 30ms/step\n",
      "cpu: 32, memory: 47, dataset: 60, loss: 0.09, accuracy: 0.9, time: 36, predictions: 14 | optimizer #9: 6\n",
      "1/1 [==============================] - 0s 29ms/step\n",
      "cpu: 62, memory: 68, dataset: 540, loss: 0.09, accuracy: 0.9, time: 15, predictions: 15 | optimizer #10: 6\n",
      "1/1 [==============================] - 0s 27ms/step\n",
      "cpu: 70, memory: 64, dataset: 360, loss: 0.09, accuracy: 0.9, time: 44, predictions: 16 | optimizer #11: 6\n"
     ]
    },
    {
     "name": "stderr",
     "output_type": "stream",
     "text": [
      "c:\\Users\\surit\\AppData\\Local\\Programs\\Python\\Python310\\lib\\site-packages\\sklearn\\base.py:450: UserWarning: X does not have valid feature names, but MinMaxScaler was fitted with feature names\n",
      "  warnings.warn(\n",
      "c:\\Users\\surit\\AppData\\Local\\Programs\\Python\\Python310\\lib\\site-packages\\sklearn\\base.py:450: UserWarning: X does not have valid feature names, but MinMaxScaler was fitted with feature names\n",
      "  warnings.warn(\n",
      "c:\\Users\\surit\\AppData\\Local\\Programs\\Python\\Python310\\lib\\site-packages\\sklearn\\base.py:450: UserWarning: X does not have valid feature names, but MinMaxScaler was fitted with feature names\n",
      "  warnings.warn(\n"
     ]
    },
    {
     "name": "stdout",
     "output_type": "stream",
     "text": [
      "1/1 [==============================] - 0s 28ms/step\n",
      "cpu: 47, memory: 33, dataset: 60, loss: 0.09, accuracy: 0.9, time: 13, predictions: 16 | optimizer #12: 6\n",
      "1/1 [==============================] - 0s 26ms/step\n",
      "cpu: 48, memory: 71, dataset: 120, loss: 0.09, accuracy: 0.9, time: 19, predictions: 16 | optimizer #13: 6\n",
      "1/1 [==============================] - 0s 26ms/step\n",
      "cpu: 56, memory: 55, dataset: 540, loss: 0.09, accuracy: 0.9, time: 19, predictions: 14 | optimizer #14: 6\n"
     ]
    },
    {
     "name": "stderr",
     "output_type": "stream",
     "text": [
      "c:\\Users\\surit\\AppData\\Local\\Programs\\Python\\Python310\\lib\\site-packages\\sklearn\\base.py:450: UserWarning: X does not have valid feature names, but MinMaxScaler was fitted with feature names\n",
      "  warnings.warn(\n",
      "c:\\Users\\surit\\AppData\\Local\\Programs\\Python\\Python310\\lib\\site-packages\\sklearn\\base.py:450: UserWarning: X does not have valid feature names, but MinMaxScaler was fitted with feature names\n",
      "  warnings.warn(\n",
      "c:\\Users\\surit\\AppData\\Local\\Programs\\Python\\Python310\\lib\\site-packages\\sklearn\\base.py:450: UserWarning: X does not have valid feature names, but MinMaxScaler was fitted with feature names\n",
      "  warnings.warn(\n"
     ]
    },
    {
     "name": "stdout",
     "output_type": "stream",
     "text": [
      "1/1 [==============================] - 0s 33ms/step\n",
      "cpu: 55, memory: 43, dataset: 480, loss: 0.09, accuracy: 0.9, time: 23, predictions: 14 | optimizer #15: 6\n",
      "1/1 [==============================] - 0s 42ms/step\n",
      "cpu: 59, memory: 38, dataset: 240, loss: 0.09, accuracy: 0.9, time: 43, predictions: 15 | optimizer #16: 6\n",
      "1/1 [==============================] - ETA: 0s"
     ]
    },
    {
     "name": "stderr",
     "output_type": "stream",
     "text": [
      "c:\\Users\\surit\\AppData\\Local\\Programs\\Python\\Python310\\lib\\site-packages\\sklearn\\base.py:450: UserWarning: X does not have valid feature names, but MinMaxScaler was fitted with feature names\n",
      "  warnings.warn(\n",
      "c:\\Users\\surit\\AppData\\Local\\Programs\\Python\\Python310\\lib\\site-packages\\sklearn\\base.py:450: UserWarning: X does not have valid feature names, but MinMaxScaler was fitted with feature names\n",
      "  warnings.warn(\n"
     ]
    },
    {
     "name": "stdout",
     "output_type": "stream",
     "text": [
      "1/1 [==============================] - 0s 31ms/step\n",
      "cpu: 54, memory: 68, dataset: 120, loss: 0.09, accuracy: 0.9, time: 45, predictions: 14 | optimizer #17: 6\n",
      "1/1 [==============================] - 0s 34ms/step\n",
      "cpu: 65, memory: 37, dataset: 120, loss: 0.09, accuracy: 0.9, time: 26, predictions: 14 | optimizer #18: 4\n",
      "1/1 [==============================] - 0s 31ms/step\n"
     ]
    },
    {
     "name": "stderr",
     "output_type": "stream",
     "text": [
      "c:\\Users\\surit\\AppData\\Local\\Programs\\Python\\Python310\\lib\\site-packages\\sklearn\\base.py:450: UserWarning: X does not have valid feature names, but MinMaxScaler was fitted with feature names\n",
      "  warnings.warn(\n",
      "c:\\Users\\surit\\AppData\\Local\\Programs\\Python\\Python310\\lib\\site-packages\\sklearn\\base.py:450: UserWarning: X does not have valid feature names, but MinMaxScaler was fitted with feature names\n",
      "  warnings.warn(\n"
     ]
    },
    {
     "name": "stdout",
     "output_type": "stream",
     "text": [
      "cpu: 34, memory: 42, dataset: 540, loss: 0.09, accuracy: 0.9, time: 22, predictions: 14 | optimizer #19: 6\n",
      "1/1 [==============================] - 0s 28ms/step\n",
      "cpu: 75, memory: 50, dataset: 240, loss: 0.09, accuracy: 0.9, time: 43, predictions: 15 | optimizer #20: 6\n",
      "1/1 [==============================] - 0s 31ms/step\n"
     ]
    },
    {
     "name": "stderr",
     "output_type": "stream",
     "text": [
      "c:\\Users\\surit\\AppData\\Local\\Programs\\Python\\Python310\\lib\\site-packages\\sklearn\\base.py:450: UserWarning: X does not have valid feature names, but MinMaxScaler was fitted with feature names\n",
      "  warnings.warn(\n",
      "c:\\Users\\surit\\AppData\\Local\\Programs\\Python\\Python310\\lib\\site-packages\\sklearn\\base.py:450: UserWarning: X does not have valid feature names, but MinMaxScaler was fitted with feature names\n",
      "  warnings.warn(\n",
      "c:\\Users\\surit\\AppData\\Local\\Programs\\Python\\Python310\\lib\\site-packages\\sklearn\\base.py:450: UserWarning: X does not have valid feature names, but MinMaxScaler was fitted with feature names\n",
      "  warnings.warn(\n"
     ]
    },
    {
     "name": "stdout",
     "output_type": "stream",
     "text": [
      "cpu: 46, memory: 41, dataset: 480, loss: 0.09, accuracy: 0.9, time: 11, predictions: 16 | optimizer #21: 6\n",
      "1/1 [==============================] - 0s 31ms/step\n",
      "cpu: 57, memory: 40, dataset: 240, loss: 0.09, accuracy: 0.9, time: 13, predictions: 16 | optimizer #22: 6\n",
      "1/1 [==============================] - 0s 26ms/step\n",
      "cpu: 59, memory: 55, dataset: 360, loss: 0.09, accuracy: 0.9, time: 19, predictions: 15 | optimizer #23: 6\n",
      "1/1 [==============================] - 0s 34ms/step\n",
      "cpu: 30, memory: 42, dataset: 300, loss: 0.09, accuracy: 0.9, time: 53, predictions: 15 | optimizer #24: 6\n"
     ]
    },
    {
     "name": "stderr",
     "output_type": "stream",
     "text": [
      "c:\\Users\\surit\\AppData\\Local\\Programs\\Python\\Python310\\lib\\site-packages\\sklearn\\base.py:450: UserWarning: X does not have valid feature names, but MinMaxScaler was fitted with feature names\n",
      "  warnings.warn(\n",
      "c:\\Users\\surit\\AppData\\Local\\Programs\\Python\\Python310\\lib\\site-packages\\sklearn\\base.py:450: UserWarning: X does not have valid feature names, but MinMaxScaler was fitted with feature names\n",
      "  warnings.warn(\n",
      "c:\\Users\\surit\\AppData\\Local\\Programs\\Python\\Python310\\lib\\site-packages\\sklearn\\base.py:450: UserWarning: X does not have valid feature names, but MinMaxScaler was fitted with feature names\n",
      "  warnings.warn(\n"
     ]
    },
    {
     "name": "stdout",
     "output_type": "stream",
     "text": [
      "1/1 [==============================] - 0s 35ms/step\n",
      "cpu: 32, memory: 38, dataset: 360, loss: 0.09, accuracy: 0.9, time: 52, predictions: 16 | optimizer #25: 6\n",
      "1/1 [==============================] - 0s 29ms/step\n",
      "cpu: 58, memory: 47, dataset: 480, loss: 0.09, accuracy: 0.9, time: 16, predictions: 14 | optimizer #26: 6\n",
      "1/1 [==============================] - 0s 27ms/step\n",
      "cpu: 44, memory: 52, dataset: 300, loss: 0.09, accuracy: 0.9, time: 34, predictions: 14 | optimizer #27: 6\n"
     ]
    },
    {
     "name": "stderr",
     "output_type": "stream",
     "text": [
      "c:\\Users\\surit\\AppData\\Local\\Programs\\Python\\Python310\\lib\\site-packages\\sklearn\\base.py:450: UserWarning: X does not have valid feature names, but MinMaxScaler was fitted with feature names\n",
      "  warnings.warn(\n",
      "c:\\Users\\surit\\AppData\\Local\\Programs\\Python\\Python310\\lib\\site-packages\\sklearn\\base.py:450: UserWarning: X does not have valid feature names, but MinMaxScaler was fitted with feature names\n",
      "  warnings.warn(\n",
      "c:\\Users\\surit\\AppData\\Local\\Programs\\Python\\Python310\\lib\\site-packages\\sklearn\\base.py:450: UserWarning: X does not have valid feature names, but MinMaxScaler was fitted with feature names\n",
      "  warnings.warn(\n"
     ]
    },
    {
     "name": "stdout",
     "output_type": "stream",
     "text": [
      "1/1 [==============================] - 0s 30ms/step\n",
      "cpu: 76, memory: 80, dataset: 480, loss: 0.09, accuracy: 0.9, time: 52, predictions: 16 | optimizer #28: 6\n",
      "1/1 [==============================] - 0s 28ms/step\n",
      "cpu: 54, memory: 51, dataset: 540, loss: 0.09, accuracy: 0.9, time: 18, predictions: 16 | optimizer #29: 6\n",
      "1/1 [==============================] - 0s 29ms/step\n",
      "cpu: 45, memory: 61, dataset: 120, loss: 0.09, accuracy: 0.9, time: 14, predictions: 15 | optimizer #30:"
     ]
    },
    {
     "name": "stderr",
     "output_type": "stream",
     "text": [
      "c:\\Users\\surit\\AppData\\Local\\Programs\\Python\\Python310\\lib\\site-packages\\sklearn\\base.py:450: UserWarning: X does not have valid feature names, but MinMaxScaler was fitted with feature names\n",
      "  warnings.warn(\n",
      "c:\\Users\\surit\\AppData\\Local\\Programs\\Python\\Python310\\lib\\site-packages\\sklearn\\base.py:450: UserWarning: X does not have valid feature names, but MinMaxScaler was fitted with feature names\n",
      "  warnings.warn(\n",
      "c:\\Users\\surit\\AppData\\Local\\Programs\\Python\\Python310\\lib\\site-packages\\sklearn\\base.py:450: UserWarning: X does not have valid feature names, but MinMaxScaler was fitted with feature names\n",
      "  warnings.warn(\n"
     ]
    },
    {
     "name": "stdout",
     "output_type": "stream",
     "text": [
      " 6\n",
      "1/1 [==============================] - 0s 28ms/step\n",
      "cpu: 41, memory: 78, dataset: 540, loss: 0.09, accuracy: 0.9, time: 13, predictions: 16 | optimizer #31: 6\n",
      "1/1 [==============================] - 0s 36ms/step\n",
      "cpu: 78, memory: 31, dataset: 180, loss: 0.09, accuracy: 0.9, time: 33, predictions: 14 | optimizer #32: 6\n"
     ]
    },
    {
     "name": "stderr",
     "output_type": "stream",
     "text": [
      "c:\\Users\\surit\\AppData\\Local\\Programs\\Python\\Python310\\lib\\site-packages\\sklearn\\base.py:450: UserWarning: X does not have valid feature names, but MinMaxScaler was fitted with feature names\n",
      "  warnings.warn(\n",
      "c:\\Users\\surit\\AppData\\Local\\Programs\\Python\\Python310\\lib\\site-packages\\sklearn\\base.py:450: UserWarning: X does not have valid feature names, but MinMaxScaler was fitted with feature names\n",
      "  warnings.warn(\n"
     ]
    },
    {
     "name": "stdout",
     "output_type": "stream",
     "text": [
      "1/1 [==============================] - 0s 30ms/step\n",
      "cpu: 37, memory: 51, dataset: 120, loss: 0.09, accuracy: 0.9, time: 32, predictions: 16 | optimizer #33: 6\n",
      "1/1 [==============================] - 0s 30ms/step\n",
      "cpu: 59, memory: 38, dataset: 360, loss: 0.09, accuracy: 0.9, time: 21, predictions: 14 | optimizer #34: 6\n",
      "1/1 [==============================] - 0s 34ms/step\n",
      "cpu: 45, memory: 32, dataset: 120, loss: 0.09, accuracy: 0.9, time: 51, predictions: 14 | optimizer #35: 6\n"
     ]
    },
    {
     "name": "stderr",
     "output_type": "stream",
     "text": [
      "c:\\Users\\surit\\AppData\\Local\\Programs\\Python\\Python310\\lib\\site-packages\\sklearn\\base.py:450: UserWarning: X does not have valid feature names, but MinMaxScaler was fitted with feature names\n",
      "  warnings.warn(\n",
      "c:\\Users\\surit\\AppData\\Local\\Programs\\Python\\Python310\\lib\\site-packages\\sklearn\\base.py:450: UserWarning: X does not have valid feature names, but MinMaxScaler was fitted with feature names\n",
      "  warnings.warn(\n",
      "c:\\Users\\surit\\AppData\\Local\\Programs\\Python\\Python310\\lib\\site-packages\\sklearn\\base.py:450: UserWarning: X does not have valid feature names, but MinMaxScaler was fitted with feature names\n",
      "  warnings.warn(\n"
     ]
    },
    {
     "name": "stdout",
     "output_type": "stream",
     "text": [
      "1/1 [==============================] - 0s 29ms/step\n",
      "cpu: 43, memory: 31, dataset: 240, loss: 0.09, accuracy: 0.9, time: 38, predictions: 15 | optimizer #36: 6\n",
      "1/1 [==============================] - 0s 27ms/step\n",
      "cpu: 69, memory: 40, dataset: 420, loss: 0.09, accuracy: 0.9, time: 39, predictions: 16 | optimizer #37: 6\n",
      "1/1 [==============================] - 0s 26ms/step\n",
      "cpu: 80, memory: 63, dataset: 480, loss: 0.09, accuracy: 0.9, time: 23, predictions: 15 | optimizer #38: 6\n"
     ]
    },
    {
     "name": "stderr",
     "output_type": "stream",
     "text": [
      "c:\\Users\\surit\\AppData\\Local\\Programs\\Python\\Python310\\lib\\site-packages\\sklearn\\base.py:450: UserWarning: X does not have valid feature names, but MinMaxScaler was fitted with feature names\n",
      "  warnings.warn(\n",
      "c:\\Users\\surit\\AppData\\Local\\Programs\\Python\\Python310\\lib\\site-packages\\sklearn\\base.py:450: UserWarning: X does not have valid feature names, but MinMaxScaler was fitted with feature names\n",
      "  warnings.warn(\n",
      "c:\\Users\\surit\\AppData\\Local\\Programs\\Python\\Python310\\lib\\site-packages\\sklearn\\base.py:450: UserWarning: X does not have valid feature names, but MinMaxScaler was fitted with feature names\n",
      "  warnings.warn(\n"
     ]
    },
    {
     "name": "stdout",
     "output_type": "stream",
     "text": [
      "1/1 [==============================] - 0s 34ms/step\n",
      "cpu: 32, memory: 76, dataset: 120, loss: 0.09, accuracy: 0.9, time: 25, predictions: 14 | optimizer #39: 6\n",
      "1/1 [==============================] - 0s 27ms/step\n",
      "cpu: 80, memory: 75, dataset: 480, loss: 0.09, accuracy: 0.9, time: 58, predictions: 16 | optimizer #40: 6\n",
      "1/1 [==============================] - ETA: 0s"
     ]
    },
    {
     "name": "stderr",
     "output_type": "stream",
     "text": [
      "c:\\Users\\surit\\AppData\\Local\\Programs\\Python\\Python310\\lib\\site-packages\\sklearn\\base.py:450: UserWarning: X does not have valid feature names, but MinMaxScaler was fitted with feature names\n",
      "  warnings.warn(\n",
      "c:\\Users\\surit\\AppData\\Local\\Programs\\Python\\Python310\\lib\\site-packages\\sklearn\\base.py:450: UserWarning: X does not have valid feature names, but MinMaxScaler was fitted with feature names\n",
      "  warnings.warn(\n"
     ]
    },
    {
     "name": "stdout",
     "output_type": "stream",
     "text": [
      "1/1 [==============================] - 0s 31ms/step\n",
      "cpu: 37, memory: 42, dataset: 240, loss: 0.09, accuracy: 0.9, time: 23, predictions: 14 | optimizer #41: 6\n",
      "1/1 [==============================] - 0s 29ms/step\n",
      "cpu: 50, memory: 30, dataset: 240, loss: 0.09, accuracy: 0.9, time: 39, predictions: 15 | optimizer #42: 6\n",
      "1/1 [==============================] - 0s 26ms/step\n",
      "cpu: 68, memory: 74, dataset: 480, loss: 0.09, accuracy: 0.9, time: 15, predictions: 14 | optimizer #43: 6\n"
     ]
    },
    {
     "name": "stderr",
     "output_type": "stream",
     "text": [
      "c:\\Users\\surit\\AppData\\Local\\Programs\\Python\\Python310\\lib\\site-packages\\sklearn\\base.py:450: UserWarning: X does not have valid feature names, but MinMaxScaler was fitted with feature names\n",
      "  warnings.warn(\n",
      "c:\\Users\\surit\\AppData\\Local\\Programs\\Python\\Python310\\lib\\site-packages\\sklearn\\base.py:450: UserWarning: X does not have valid feature names, but MinMaxScaler was fitted with feature names\n",
      "  warnings.warn(\n",
      "c:\\Users\\surit\\AppData\\Local\\Programs\\Python\\Python310\\lib\\site-packages\\sklearn\\base.py:450: UserWarning: X does not have valid feature names, but MinMaxScaler was fitted with feature names\n",
      "  warnings.warn(\n"
     ]
    },
    {
     "name": "stdout",
     "output_type": "stream",
     "text": [
      "1/1 [==============================] - 0s 29ms/step\n",
      "cpu: 77, memory: 64, dataset: 180, loss: 0.09, accuracy: 0.9, time: 28, predictions: 14 | optimizer #44: 6\n",
      "1/1 [==============================] - 0s 28ms/step\n",
      "cpu: 68, memory: 61, dataset: 120, loss: 0.09, accuracy: 0.9, time: 54, predictions: 15 | optimizer #45: 6\n",
      "1/1 [==============================] - 0s 31ms/step\n",
      "cpu: 60, memory: 69, dataset: 300, loss: 0.09, accuracy: 0.9, time: 18, predictions: 14 | optimizer #46: 6\n"
     ]
    },
    {
     "name": "stderr",
     "output_type": "stream",
     "text": [
      "c:\\Users\\surit\\AppData\\Local\\Programs\\Python\\Python310\\lib\\site-packages\\sklearn\\base.py:450: UserWarning: X does not have valid feature names, but MinMaxScaler was fitted with feature names\n",
      "  warnings.warn(\n",
      "c:\\Users\\surit\\AppData\\Local\\Programs\\Python\\Python310\\lib\\site-packages\\sklearn\\base.py:450: UserWarning: X does not have valid feature names, but MinMaxScaler was fitted with feature names\n",
      "  warnings.warn(\n",
      "c:\\Users\\surit\\AppData\\Local\\Programs\\Python\\Python310\\lib\\site-packages\\sklearn\\base.py:450: UserWarning: X does not have valid feature names, but MinMaxScaler was fitted with feature names\n",
      "  warnings.warn(\n"
     ]
    },
    {
     "name": "stdout",
     "output_type": "stream",
     "text": [
      "1/1 [==============================] - 0s 36ms/step\n",
      "cpu: 60, memory: 66, dataset: 420, loss: 0.09, accuracy: 0.9, time: 12, predictions: 16 | optimizer #47: 6\n",
      "1/1 [==============================] - 0s 32ms/step\n",
      "cpu: 33, memory: 32, dataset: 420, loss: 0.09, accuracy: 0.9, time: 58, predictions: 16 | optimizer #48: 6\n",
      "1/1 [==============================] - 0s 27ms/step\n",
      "cpu: 62, memory: 33, dataset: 360, loss: 0.09, accuracy: 0.9, time: 60, predictions: 14 | optimizer #49: 6\n"
     ]
    },
    {
     "name": "stderr",
     "output_type": "stream",
     "text": [
      "c:\\Users\\surit\\AppData\\Local\\Programs\\Python\\Python310\\lib\\site-packages\\sklearn\\base.py:450: UserWarning: X does not have valid feature names, but MinMaxScaler was fitted with feature names\n",
      "  warnings.warn(\n",
      "c:\\Users\\surit\\AppData\\Local\\Programs\\Python\\Python310\\lib\\site-packages\\sklearn\\base.py:450: UserWarning: X does not have valid feature names, but MinMaxScaler was fitted with feature names\n",
      "  warnings.warn(\n",
      "c:\\Users\\surit\\AppData\\Local\\Programs\\Python\\Python310\\lib\\site-packages\\sklearn\\base.py:450: UserWarning: X does not have valid feature names, but MinMaxScaler was fitted with feature names\n",
      "  warnings.warn(\n"
     ]
    },
    {
     "name": "stdout",
     "output_type": "stream",
     "text": [
      "1/1 [==============================] - 0s 30ms/step\n",
      "cpu: 76, memory: 30, dataset: 480, loss: 0.09, accuracy: 0.9, time: 11, predictions: 15 | optimizer #50: 6\n",
      "1/1 [==============================] - 0s 29ms/step\n",
      "cpu: 72, memory: 37, dataset: 180, loss: 0.09, accuracy: 0.9, time: 31, predictions: 14 | optimizer #51: 6\n",
      "1/1 [==============================] - 0s 31ms/step\n",
      "cpu: 56, memory: 56, dataset: 480, loss: 0.09, accuracy: 0.9, time: 50, predictions: 15 | optimizer #52: 6\n"
     ]
    },
    {
     "name": "stderr",
     "output_type": "stream",
     "text": [
      "c:\\Users\\surit\\AppData\\Local\\Programs\\Python\\Python310\\lib\\site-packages\\sklearn\\base.py:450: UserWarning: X does not have valid feature names, but MinMaxScaler was fitted with feature names\n",
      "  warnings.warn(\n",
      "c:\\Users\\surit\\AppData\\Local\\Programs\\Python\\Python310\\lib\\site-packages\\sklearn\\base.py:450: UserWarning: X does not have valid feature names, but MinMaxScaler was fitted with feature names\n",
      "  warnings.warn(\n",
      "c:\\Users\\surit\\AppData\\Local\\Programs\\Python\\Python310\\lib\\site-packages\\sklearn\\base.py:450: UserWarning: X does not have valid feature names, but MinMaxScaler was fitted with feature names\n",
      "  warnings.warn(\n"
     ]
    },
    {
     "name": "stdout",
     "output_type": "stream",
     "text": [
      "1/1 [==============================] - 0s 33ms/step\n",
      "cpu: 69, memory: 48, dataset: 120, loss: 0.09, accuracy: 0.9, time: 18, predictions: 16 | optimizer #53: 6\n",
      "1/1 [==============================] - 0s 28ms/step\n",
      "cpu: 54, memory: 70, dataset: 180, loss: 0.09, accuracy: 0.9, time: 26, predictions: 16 | optimizer #54: 6\n",
      "1/1 [==============================] - 0s 28ms/step\n",
      "cpu: 54, memory: 43, dataset: 120, loss: 0.09, accuracy: 0.9, time: 29, predictions: 14 | optimizer #55: 6\n"
     ]
    },
    {
     "name": "stderr",
     "output_type": "stream",
     "text": [
      "c:\\Users\\surit\\AppData\\Local\\Programs\\Python\\Python310\\lib\\site-packages\\sklearn\\base.py:450: UserWarning: X does not have valid feature names, but MinMaxScaler was fitted with feature names\n",
      "  warnings.warn(\n",
      "c:\\Users\\surit\\AppData\\Local\\Programs\\Python\\Python310\\lib\\site-packages\\sklearn\\base.py:450: UserWarning: X does not have valid feature names, but MinMaxScaler was fitted with feature names\n",
      "  warnings.warn(\n",
      "c:\\Users\\surit\\AppData\\Local\\Programs\\Python\\Python310\\lib\\site-packages\\sklearn\\base.py:450: UserWarning: X does not have valid feature names, but MinMaxScaler was fitted with feature names\n",
      "  warnings.warn(\n"
     ]
    },
    {
     "name": "stdout",
     "output_type": "stream",
     "text": [
      "1/1 [==============================] - 0s 27ms/step\n",
      "cpu: 58, memory: 58, dataset: 300, loss: 0.09, accuracy: 0.9, time: 52, predictions: 14 | optimizer #56: 6\n",
      "1/1 [==============================] - 0s 29ms/step\n",
      "cpu: 36, memory: 40, dataset: 240, loss: 0.09, accuracy: 0.9, time: 46, predictions: 16 | optimizer #57: 6\n",
      "1/1 [==============================] - 0s 29ms/step\n",
      "cpu: 75, memory: 65, dataset: 240, loss: 0.09, accuracy: 0.9, time: 51, predictions: 16 | optimizer #58: 6\n"
     ]
    },
    {
     "name": "stderr",
     "output_type": "stream",
     "text": [
      "c:\\Users\\surit\\AppData\\Local\\Programs\\Python\\Python310\\lib\\site-packages\\sklearn\\base.py:450: UserWarning: X does not have valid feature names, but MinMaxScaler was fitted with feature names\n",
      "  warnings.warn(\n",
      "c:\\Users\\surit\\AppData\\Local\\Programs\\Python\\Python310\\lib\\site-packages\\sklearn\\base.py:450: UserWarning: X does not have valid feature names, but MinMaxScaler was fitted with feature names\n",
      "  warnings.warn(\n",
      "c:\\Users\\surit\\AppData\\Local\\Programs\\Python\\Python310\\lib\\site-packages\\sklearn\\base.py:450: UserWarning: X does not have valid feature names, but MinMaxScaler was fitted with feature names\n",
      "  warnings.warn(\n"
     ]
    },
    {
     "name": "stdout",
     "output_type": "stream",
     "text": [
      "1/1 [==============================] - 0s 29ms/step\n",
      "cpu: 36, memory: 76, dataset: 420, loss: 0.09, accuracy: 0.9, time: 30, predictions: 16 | optimizer #59: 6\n",
      "1/1 [==============================] - 0s 32ms/step\n",
      "cpu: 47, memory: 71, dataset: 480, loss: 0.09, accuracy: 0.9, time: 57, predictions: 15 | optimizer #60: 6\n",
      "1/1 [==============================] - ETA: 0s"
     ]
    },
    {
     "name": "stderr",
     "output_type": "stream",
     "text": [
      "c:\\Users\\surit\\AppData\\Local\\Programs\\Python\\Python310\\lib\\site-packages\\sklearn\\base.py:450: UserWarning: X does not have valid feature names, but MinMaxScaler was fitted with feature names\n",
      "  warnings.warn(\n",
      "c:\\Users\\surit\\AppData\\Local\\Programs\\Python\\Python310\\lib\\site-packages\\sklearn\\base.py:450: UserWarning: X does not have valid feature names, but MinMaxScaler was fitted with feature names\n",
      "  warnings.warn(\n"
     ]
    },
    {
     "name": "stdout",
     "output_type": "stream",
     "text": [
      "1/1 [==============================] - 0s 30ms/step\n",
      "cpu: 51, memory: 34, dataset: 480, loss: 0.09, accuracy: 0.9, time: 59, predictions: 14 | optimizer #61: 6\n",
      "1/1 [==============================] - 0s 35ms/step\n",
      "cpu: 59, memory: 80, dataset: 300, loss: 0.09, accuracy: 0.9, time: 58, predictions: 15 | optimizer #62: 6\n"
     ]
    },
    {
     "name": "stderr",
     "output_type": "stream",
     "text": [
      "c:\\Users\\surit\\AppData\\Local\\Programs\\Python\\Python310\\lib\\site-packages\\sklearn\\base.py:450: UserWarning: X does not have valid feature names, but MinMaxScaler was fitted with feature names\n",
      "  warnings.warn(\n",
      "c:\\Users\\surit\\AppData\\Local\\Programs\\Python\\Python310\\lib\\site-packages\\sklearn\\base.py:450: UserWarning: X does not have valid feature names, but MinMaxScaler was fitted with feature names\n",
      "  warnings.warn(\n"
     ]
    },
    {
     "name": "stdout",
     "output_type": "stream",
     "text": [
      "1/1 [==============================] - 0s 27ms/step\n",
      "cpu: 67, memory: 67, dataset: 240, loss: 0.09, accuracy: 0.9, time: 54, predictions: 15 | optimizer #63: 6\n",
      "1/1 [==============================] - 0s 28ms/step\n",
      "cpu: 58, memory: 39, dataset: 120, loss: 0.09, accuracy: 0.9, time: 56, predictions: 15 | optimizer #64: 6\n",
      "1/1 [==============================] - 0s 28ms/step\n"
     ]
    },
    {
     "name": "stderr",
     "output_type": "stream",
     "text": [
      "c:\\Users\\surit\\AppData\\Local\\Programs\\Python\\Python310\\lib\\site-packages\\sklearn\\base.py:450: UserWarning: X does not have valid feature names, but MinMaxScaler was fitted with feature names\n",
      "  warnings.warn(\n",
      "c:\\Users\\surit\\AppData\\Local\\Programs\\Python\\Python310\\lib\\site-packages\\sklearn\\base.py:450: UserWarning: X does not have valid feature names, but MinMaxScaler was fitted with feature names\n",
      "  warnings.warn(\n",
      "c:\\Users\\surit\\AppData\\Local\\Programs\\Python\\Python310\\lib\\site-packages\\sklearn\\base.py:450: UserWarning: X does not have valid feature names, but MinMaxScaler was fitted with feature names\n",
      "  warnings.warn(\n"
     ]
    },
    {
     "name": "stdout",
     "output_type": "stream",
     "text": [
      "cpu: 37, memory: 68, dataset: 420, loss: 0.09, accuracy: 0.9, time: 29, predictions: 15 | optimizer #65: 6\n",
      "1/1 [==============================] - 0s 32ms/step\n",
      "cpu: 38, memory: 50, dataset: 480, loss: 0.09, accuracy: 0.9, time: 25, predictions: 14 | optimizer #66: 6\n",
      "1/1 [==============================] - 0s 34ms/step\n",
      "cpu: 74, memory: 33, dataset: 120, loss: 0.09, accuracy: 0.9, time: 29, predictions: 16 | optimizer #67: 4\n",
      "1/1 [==============================] - ETA: 0s"
     ]
    },
    {
     "name": "stderr",
     "output_type": "stream",
     "text": [
      "c:\\Users\\surit\\AppData\\Local\\Programs\\Python\\Python310\\lib\\site-packages\\sklearn\\base.py:450: UserWarning: X does not have valid feature names, but MinMaxScaler was fitted with feature names\n",
      "  warnings.warn(\n",
      "c:\\Users\\surit\\AppData\\Local\\Programs\\Python\\Python310\\lib\\site-packages\\sklearn\\base.py:450: UserWarning: X does not have valid feature names, but MinMaxScaler was fitted with feature names\n",
      "  warnings.warn(\n"
     ]
    },
    {
     "name": "stdout",
     "output_type": "stream",
     "text": [
      "1/1 [==============================] - 0s 28ms/step\n",
      "cpu: 60, memory: 49, dataset: 60, loss: 0.09, accuracy: 0.9, time: 39, predictions: 16 | optimizer #68: 6\n",
      "1/1 [==============================] - 0s 29ms/step\n",
      "cpu: 68, memory: 68, dataset: 480, loss: 0.09, accuracy: 0.9, time: 33, predictions: 16 | optimizer #69: 6\n",
      "1/1 [==============================] - 0s 29ms/step\n",
      "cpu: 64, memory: 62, dataset: 240, loss: 0.09, accuracy: 0.9, time: 11, predictions: 14 | optimizer #70: 6\n"
     ]
    },
    {
     "name": "stderr",
     "output_type": "stream",
     "text": [
      "c:\\Users\\surit\\AppData\\Local\\Programs\\Python\\Python310\\lib\\site-packages\\sklearn\\base.py:450: UserWarning: X does not have valid feature names, but MinMaxScaler was fitted with feature names\n",
      "  warnings.warn(\n",
      "c:\\Users\\surit\\AppData\\Local\\Programs\\Python\\Python310\\lib\\site-packages\\sklearn\\base.py:450: UserWarning: X does not have valid feature names, but MinMaxScaler was fitted with feature names\n",
      "  warnings.warn(\n",
      "c:\\Users\\surit\\AppData\\Local\\Programs\\Python\\Python310\\lib\\site-packages\\sklearn\\base.py:450: UserWarning: X does not have valid feature names, but MinMaxScaler was fitted with feature names\n",
      "  warnings.warn(\n"
     ]
    },
    {
     "name": "stdout",
     "output_type": "stream",
     "text": [
      "1/1 [==============================] - 0s 33ms/step\n",
      "cpu: 58, memory: 68, dataset: 240, loss: 0.09, accuracy: 0.9, time: 57, predictions: 14 | optimizer #71: 6\n",
      "1/1 [==============================] - 0s 26ms/step\n",
      "cpu: 41, memory: 56, dataset: 120, loss: 0.09, accuracy: 0.9, time: 13, predictions: 14 | optimizer #72: 6\n",
      "1/1 [==============================] - 0s 25ms/step\n",
      "cpu: 58, memory: 42, dataset: 480, loss: 0.09, accuracy: 0.9, time: 52, predictions: 15 | optimizer #73: 6\n"
     ]
    },
    {
     "name": "stderr",
     "output_type": "stream",
     "text": [
      "c:\\Users\\surit\\AppData\\Local\\Programs\\Python\\Python310\\lib\\site-packages\\sklearn\\base.py:450: UserWarning: X does not have valid feature names, but MinMaxScaler was fitted with feature names\n",
      "  warnings.warn(\n",
      "c:\\Users\\surit\\AppData\\Local\\Programs\\Python\\Python310\\lib\\site-packages\\sklearn\\base.py:450: UserWarning: X does not have valid feature names, but MinMaxScaler was fitted with feature names\n",
      "  warnings.warn(\n",
      "c:\\Users\\surit\\AppData\\Local\\Programs\\Python\\Python310\\lib\\site-packages\\sklearn\\base.py:450: UserWarning: X does not have valid feature names, but MinMaxScaler was fitted with feature names\n",
      "  warnings.warn(\n"
     ]
    },
    {
     "name": "stdout",
     "output_type": "stream",
     "text": [
      "1/1 [==============================] - 0s 28ms/step\n",
      "cpu: 58, memory: 35, dataset: 180, loss: 0.09, accuracy: 0.9, time: 46, predictions: 14 | optimizer #74: 6\n",
      "1/1 [==============================] - 0s 38ms/step\n",
      "cpu: 76, memory: 78, dataset: 360, loss: 0.09, accuracy: 0.9, time: 45, predictions: 16 | optimizer #75: 6\n",
      "1/1 [==============================] - ETA: 0s"
     ]
    },
    {
     "name": "stderr",
     "output_type": "stream",
     "text": [
      "c:\\Users\\surit\\AppData\\Local\\Programs\\Python\\Python310\\lib\\site-packages\\sklearn\\base.py:450: UserWarning: X does not have valid feature names, but MinMaxScaler was fitted with feature names\n",
      "  warnings.warn(\n",
      "c:\\Users\\surit\\AppData\\Local\\Programs\\Python\\Python310\\lib\\site-packages\\sklearn\\base.py:450: UserWarning: X does not have valid feature names, but MinMaxScaler was fitted with feature names\n",
      "  warnings.warn(\n"
     ]
    },
    {
     "name": "stdout",
     "output_type": "stream",
     "text": [
      "1/1 [==============================] - 0s 32ms/step\n",
      "cpu: 76, memory: 61, dataset: 240, loss: 0.09, accuracy: 0.9, time: 46, predictions: 15 | optimizer #76: 6\n",
      "1/1 [==============================] - 0s 45ms/step\n",
      "cpu: 48, memory: 74, dataset: 360, loss: 0.09, accuracy: 0.9, time: 57, predictions: 16 | optimizer #77: 6\n",
      "1/1 [==============================] - 0s 29ms/step\n",
      "cpu: 61, memory: 38, dataset: 540, loss: 0.09, accuracy: 0.9, time: 40, predictions: 16 | optimizer #78:"
     ]
    },
    {
     "name": "stderr",
     "output_type": "stream",
     "text": [
      "c:\\Users\\surit\\AppData\\Local\\Programs\\Python\\Python310\\lib\\site-packages\\sklearn\\base.py:450: UserWarning: X does not have valid feature names, but MinMaxScaler was fitted with feature names\n",
      "  warnings.warn(\n",
      "c:\\Users\\surit\\AppData\\Local\\Programs\\Python\\Python310\\lib\\site-packages\\sklearn\\base.py:450: UserWarning: X does not have valid feature names, but MinMaxScaler was fitted with feature names\n",
      "  warnings.warn(\n"
     ]
    },
    {
     "name": "stdout",
     "output_type": "stream",
     "text": [
      " 6\n",
      "1/1 [==============================] - 0s 34ms/step\n",
      "cpu: 51, memory: 71, dataset: 120, loss: 0.09, accuracy: 0.9, time: 51, predictions: 16 | optimizer #79: 6\n",
      "1/1 [==============================] - 0s 29ms/step\n",
      "cpu: 39, memory: 47, dataset: 540, loss: 0.09, accuracy: 0.9, time: 45, predictions: 15 | optimizer #80: 6\n"
     ]
    },
    {
     "name": "stderr",
     "output_type": "stream",
     "text": [
      "c:\\Users\\surit\\AppData\\Local\\Programs\\Python\\Python310\\lib\\site-packages\\sklearn\\base.py:450: UserWarning: X does not have valid feature names, but MinMaxScaler was fitted with feature names\n",
      "  warnings.warn(\n",
      "c:\\Users\\surit\\AppData\\Local\\Programs\\Python\\Python310\\lib\\site-packages\\sklearn\\base.py:450: UserWarning: X does not have valid feature names, but MinMaxScaler was fitted with feature names\n",
      "  warnings.warn(\n",
      "c:\\Users\\surit\\AppData\\Local\\Programs\\Python\\Python310\\lib\\site-packages\\sklearn\\base.py:450: UserWarning: X does not have valid feature names, but MinMaxScaler was fitted with feature names\n",
      "  warnings.warn(\n"
     ]
    },
    {
     "name": "stdout",
     "output_type": "stream",
     "text": [
      "1/1 [==============================] - 0s 31ms/step\n",
      "cpu: 49, memory: 56, dataset: 300, loss: 0.09, accuracy: 0.9, time: 40, predictions: 16 | optimizer #81: 6\n",
      "1/1 [==============================] - 0s 28ms/step\n",
      "cpu: 77, memory: 62, dataset: 360, loss: 0.09, accuracy: 0.9, time: 24, predictions: 16 | optimizer #82: 6\n",
      "1/1 [==============================] - ETA: 0s"
     ]
    },
    {
     "name": "stderr",
     "output_type": "stream",
     "text": [
      "c:\\Users\\surit\\AppData\\Local\\Programs\\Python\\Python310\\lib\\site-packages\\sklearn\\base.py:450: UserWarning: X does not have valid feature names, but MinMaxScaler was fitted with feature names\n",
      "  warnings.warn(\n",
      "c:\\Users\\surit\\AppData\\Local\\Programs\\Python\\Python310\\lib\\site-packages\\sklearn\\base.py:450: UserWarning: X does not have valid feature names, but MinMaxScaler was fitted with feature names\n",
      "  warnings.warn(\n"
     ]
    },
    {
     "name": "stdout",
     "output_type": "stream",
     "text": [
      "1/1 [==============================] - 0s 31ms/step\n",
      "cpu: 68, memory: 70, dataset: 420, loss: 0.09, accuracy: 0.9, time: 60, predictions: 15 | optimizer #83: 6\n",
      "1/1 [==============================] - 0s 27ms/step\n",
      "cpu: 54, memory: 44, dataset: 360, loss: 0.09, accuracy: 0.9, time: 40, predictions: 15 | optimizer #84: 6\n",
      "1/1 [==============================] - 0s 26ms/step\n",
      "cpu: 49, memory: 78, dataset: 360, loss: 0.09, accuracy: 0.9, time: 18, predictions: 15 | optimizer #85: 6\n"
     ]
    },
    {
     "name": "stderr",
     "output_type": "stream",
     "text": [
      "c:\\Users\\surit\\AppData\\Local\\Programs\\Python\\Python310\\lib\\site-packages\\sklearn\\base.py:450: UserWarning: X does not have valid feature names, but MinMaxScaler was fitted with feature names\n",
      "  warnings.warn(\n",
      "c:\\Users\\surit\\AppData\\Local\\Programs\\Python\\Python310\\lib\\site-packages\\sklearn\\base.py:450: UserWarning: X does not have valid feature names, but MinMaxScaler was fitted with feature names\n",
      "  warnings.warn(\n",
      "c:\\Users\\surit\\AppData\\Local\\Programs\\Python\\Python310\\lib\\site-packages\\sklearn\\base.py:450: UserWarning: X does not have valid feature names, but MinMaxScaler was fitted with feature names\n",
      "  warnings.warn(\n"
     ]
    },
    {
     "name": "stdout",
     "output_type": "stream",
     "text": [
      "1/1 [==============================] - 0s 30ms/step\n",
      "cpu: 69, memory: 69, dataset: 480, loss: 0.09, accuracy: 0.9, time: 47, predictions: 16 | optimizer #86: 6\n",
      "1/1 [==============================] - 0s 31ms/step\n",
      "cpu: 70, memory: 71, dataset: 360, loss: 0.09, accuracy: 0.9, time: 35, predictions: 15 | optimizer #87: 6\n",
      "1/1 [==============================] - 0s 34ms/step\n",
      "cpu: 64, memory: 47, dataset: 240, loss: 0.09, accuracy: 0.9, time: 57, predictions: 15 | optimizer #88: 6\n"
     ]
    },
    {
     "name": "stderr",
     "output_type": "stream",
     "text": [
      "c:\\Users\\surit\\AppData\\Local\\Programs\\Python\\Python310\\lib\\site-packages\\sklearn\\base.py:450: UserWarning: X does not have valid feature names, but MinMaxScaler was fitted with feature names\n",
      "  warnings.warn(\n",
      "c:\\Users\\surit\\AppData\\Local\\Programs\\Python\\Python310\\lib\\site-packages\\sklearn\\base.py:450: UserWarning: X does not have valid feature names, but MinMaxScaler was fitted with feature names\n",
      "  warnings.warn(\n",
      "c:\\Users\\surit\\AppData\\Local\\Programs\\Python\\Python310\\lib\\site-packages\\sklearn\\base.py:450: UserWarning: X does not have valid feature names, but MinMaxScaler was fitted with feature names\n",
      "  warnings.warn(\n"
     ]
    },
    {
     "name": "stdout",
     "output_type": "stream",
     "text": [
      "1/1 [==============================] - 0s 30ms/step\n",
      "cpu: 45, memory: 40, dataset: 180, loss: 0.09, accuracy: 0.9, time: 53, predictions: 15 | optimizer #89: 6\n",
      "1/1 [==============================] - 0s 29ms/step\n",
      "cpu: 44, memory: 79, dataset: 120, loss: 0.09, accuracy: 0.9, time: 23, predictions: 14 | optimizer #90: 6\n",
      "1/1 [==============================] - 0s 27ms/step\n",
      "cpu: 50, memory: 76, dataset: 300, loss: 0.09, accuracy: 0.9, time: 25, predictions: 15 | optimizer #91: 6\n"
     ]
    },
    {
     "name": "stderr",
     "output_type": "stream",
     "text": [
      "c:\\Users\\surit\\AppData\\Local\\Programs\\Python\\Python310\\lib\\site-packages\\sklearn\\base.py:450: UserWarning: X does not have valid feature names, but MinMaxScaler was fitted with feature names\n",
      "  warnings.warn(\n",
      "c:\\Users\\surit\\AppData\\Local\\Programs\\Python\\Python310\\lib\\site-packages\\sklearn\\base.py:450: UserWarning: X does not have valid feature names, but MinMaxScaler was fitted with feature names\n",
      "  warnings.warn(\n",
      "c:\\Users\\surit\\AppData\\Local\\Programs\\Python\\Python310\\lib\\site-packages\\sklearn\\base.py:450: UserWarning: X does not have valid feature names, but MinMaxScaler was fitted with feature names\n",
      "  warnings.warn(\n"
     ]
    },
    {
     "name": "stdout",
     "output_type": "stream",
     "text": [
      "1/1 [==============================] - 0s 45ms/step\n",
      "cpu: 37, memory: 43, dataset: 480, loss: 0.09, accuracy: 0.9, time: 46, predictions: 14 | optimizer #92: 6\n",
      "1/1 [==============================] - 0s 25ms/step\n",
      "cpu: 68, memory: 52, dataset: 480, loss: 0.09, accuracy: 0.9, time: 30, predictions: 15 | optimizer #93: 6\n",
      "1/1 [==============================] - 0s 26ms/step\n",
      "cpu: 68, memory: 59, dataset: 540, loss: 0.09, accuracy: 0.9, time: 12, predictions: 15 | optimizer #94: 6\n"
     ]
    },
    {
     "name": "stderr",
     "output_type": "stream",
     "text": [
      "c:\\Users\\surit\\AppData\\Local\\Programs\\Python\\Python310\\lib\\site-packages\\sklearn\\base.py:450: UserWarning: X does not have valid feature names, but MinMaxScaler was fitted with feature names\n",
      "  warnings.warn(\n",
      "c:\\Users\\surit\\AppData\\Local\\Programs\\Python\\Python310\\lib\\site-packages\\sklearn\\base.py:450: UserWarning: X does not have valid feature names, but MinMaxScaler was fitted with feature names\n",
      "  warnings.warn(\n",
      "c:\\Users\\surit\\AppData\\Local\\Programs\\Python\\Python310\\lib\\site-packages\\sklearn\\base.py:450: UserWarning: X does not have valid feature names, but MinMaxScaler was fitted with feature names\n",
      "  warnings.warn(\n"
     ]
    },
    {
     "name": "stdout",
     "output_type": "stream",
     "text": [
      "1/1 [==============================] - 0s 28ms/step\n",
      "cpu: 73, memory: 69, dataset: 240, loss: 0.09, accuracy: 0.9, time: 15, predictions: 16 | optimizer #95: 6\n",
      "1/1 [==============================] - 0s 28ms/step\n",
      "cpu: 39, memory: 72, dataset: 540, loss: 0.09, accuracy: 0.9, time: 38, predictions: 15 | optimizer #96: 6\n",
      "1/1 [==============================] - 0s 26ms/step\n",
      "cpu: 31, memory: 45, dataset: 180, loss: 0.09, accuracy: 0.9, time: 21, predictions: 14 | optimizer #97: 6\n"
     ]
    },
    {
     "name": "stderr",
     "output_type": "stream",
     "text": [
      "c:\\Users\\surit\\AppData\\Local\\Programs\\Python\\Python310\\lib\\site-packages\\sklearn\\base.py:450: UserWarning: X does not have valid feature names, but MinMaxScaler was fitted with feature names\n",
      "  warnings.warn(\n",
      "c:\\Users\\surit\\AppData\\Local\\Programs\\Python\\Python310\\lib\\site-packages\\sklearn\\base.py:450: UserWarning: X does not have valid feature names, but MinMaxScaler was fitted with feature names\n",
      "  warnings.warn(\n",
      "c:\\Users\\surit\\AppData\\Local\\Programs\\Python\\Python310\\lib\\site-packages\\sklearn\\base.py:450: UserWarning: X does not have valid feature names, but MinMaxScaler was fitted with feature names\n",
      "  warnings.warn(\n"
     ]
    },
    {
     "name": "stdout",
     "output_type": "stream",
     "text": [
      "1/1 [==============================] - 0s 29ms/step\n",
      "cpu: 41, memory: 80, dataset: 420, loss: 0.09, accuracy: 0.9, time: 47, predictions: 16 | optimizer #98: 6\n",
      "1/1 [==============================] - 0s 31ms/step\n",
      "cpu: 77, memory: 76, dataset: 480, loss: 0.09, accuracy: 0.9, time: 11, predictions: 16 | optimizer #99: 6\n"
     ]
    },
    {
     "name": "stderr",
     "output_type": "stream",
     "text": [
      "c:\\Users\\surit\\AppData\\Local\\Programs\\Python\\Python310\\lib\\site-packages\\sklearn\\base.py:450: UserWarning: X does not have valid feature names, but MinMaxScaler was fitted with feature names\n",
      "  warnings.warn(\n"
     ]
    }
   ],
   "source": [
    "import random\n",
    "# Load the saved model\n",
    "loaded_model = load_model('model.h5')\n",
    "# Example usage\n",
    "for i in range(0, 100):\n",
    "    cpu = random.randint(30, 80)\n",
    "    memory = random.randint(30, 80)\n",
    "    dataset = random.randrange(60, 600, 60)\n",
    "    time = random.randint(10, 60)\n",
    "    predictions=random.randint(14, 16)\n",
    "    loss, accuracy = 0.09, 0.9\n",
    "    best_optimizer = predict_best_optimizer(loaded_model, cpu=cpu, memory=memory, dataset=dataset, loss=0.8, accuracy=0.5, time=time, predictions=predictions)\n",
    "    print(f\"cpu: {cpu}, memory: {memory}, dataset: {dataset}, loss: {loss}, accuracy: {accuracy}, time: {time}, predictions: {predictions} | optimizer #{i}:\", best_optimizer)"
   ]
  }
 ],
 "metadata": {
  "kernelspec": {
   "display_name": "Python 3",
   "language": "python",
   "name": "python3"
  },
  "language_info": {
   "codemirror_mode": {
    "name": "ipython",
    "version": 3
   },
   "file_extension": ".py",
   "mimetype": "text/x-python",
   "name": "python",
   "nbconvert_exporter": "python",
   "pygments_lexer": "ipython3",
   "version": "3.10.7"
  },
  "orig_nbformat": 4
 },
 "nbformat": 4,
 "nbformat_minor": 2
}
