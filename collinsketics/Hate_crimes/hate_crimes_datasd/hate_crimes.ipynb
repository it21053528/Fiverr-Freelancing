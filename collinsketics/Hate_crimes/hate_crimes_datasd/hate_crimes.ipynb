{
 "cells": [
  {
   "cell_type": "code",
   "execution_count": 40,
   "metadata": {},
   "outputs": [],
   "source": [
    "import pandas as pd\n",
    "import numpy as np\n",
    "from sklearn.cluster import KMeans, DBSCAN, AgglomerativeClustering\n",
    "from sklearn.mixture import GaussianMixture\n",
    "from sklearn.preprocessing import StandardScaler\n",
    "from sklearn.ensemble import IsolationForest, RandomForestClassifier\n",
    "from sklearn.neighbors import LocalOutlierFactor, KNeighborsClassifier\n",
    "from sklearn.neural_network import MLPClassifier\n",
    "from sklearn.svm import OneClassSVM\n",
    "from sklearn.metrics import confusion_matrix\n",
    "import matplotlib.pyplot as plt\n",
    "import seaborn as sns\n",
    "from sklearn.decomposition import PCA\n",
    "from sklearn.discriminant_analysis import LinearDiscriminantAnalysis\n",
    "from sklearn.model_selection import train_test_split\n",
    "from sklearn.metrics import classification_report\n",
    "from imblearn.under_sampling import RandomUnderSampler\n",
    "from imblearn.over_sampling import RandomOverSampler\n",
    "from imblearn.over_sampling import SMOTE\n",
    "from sklearn.tree import DecisionTreeClassifier \n",
    "\n",
    "%matplotlib inline"
   ]
  },
  {
   "cell_type": "code",
   "execution_count": 41,
   "metadata": {},
   "outputs": [
    {
     "data": {
      "text/html": [
       "<div>\n",
       "<style scoped>\n",
       "    .dataframe tbody tr th:only-of-type {\n",
       "        vertical-align: middle;\n",
       "    }\n",
       "\n",
       "    .dataframe tbody tr th {\n",
       "        vertical-align: top;\n",
       "    }\n",
       "\n",
       "    .dataframe thead th {\n",
       "        text-align: right;\n",
       "    }\n",
       "</style>\n",
       "<table border=\"1\" class=\"dataframe\">\n",
       "  <thead>\n",
       "    <tr style=\"text-align: right;\">\n",
       "      <th></th>\n",
       "      <th>case_number</th>\n",
       "      <th>date</th>\n",
       "      <th>year</th>\n",
       "      <th>month</th>\n",
       "      <th>time</th>\n",
       "      <th>date_time</th>\n",
       "      <th>crime_code</th>\n",
       "      <th>crime</th>\n",
       "      <th>block</th>\n",
       "      <th>street</th>\n",
       "      <th>...</th>\n",
       "      <th>suspect_sex_1</th>\n",
       "      <th>suspect_sex_2</th>\n",
       "      <th>victim_race_0</th>\n",
       "      <th>victim_race_1</th>\n",
       "      <th>victim_race_2</th>\n",
       "      <th>victim_race_3</th>\n",
       "      <th>victim_sex_0</th>\n",
       "      <th>victim_sex_1</th>\n",
       "      <th>victim_sex_2</th>\n",
       "      <th>victim_sex_3</th>\n",
       "    </tr>\n",
       "  </thead>\n",
       "  <tbody>\n",
       "    <tr>\n",
       "      <th>0</th>\n",
       "      <td>16000456</td>\n",
       "      <td>2016-01-04</td>\n",
       "      <td>2016</td>\n",
       "      <td>1</td>\n",
       "      <td>2:00:00 AM</td>\n",
       "      <td>2016-01-04</td>\n",
       "      <td>243(D)M</td>\n",
       "      <td>Assault, No Weapon</td>\n",
       "      <td>500.0</td>\n",
       "      <td>G</td>\n",
       "      <td>...</td>\n",
       "      <td>M</td>\n",
       "      <td>M</td>\n",
       "      <td>O</td>\n",
       "      <td>NaN</td>\n",
       "      <td>NaN</td>\n",
       "      <td>NaN</td>\n",
       "      <td>M</td>\n",
       "      <td>NaN</td>\n",
       "      <td>NaN</td>\n",
       "      <td>NaN</td>\n",
       "    </tr>\n",
       "    <tr>\n",
       "      <th>1</th>\n",
       "      <td>16001278</td>\n",
       "      <td>2016-01-10</td>\n",
       "      <td>2016</td>\n",
       "      <td>1</td>\n",
       "      <td>1:30:00 AM</td>\n",
       "      <td>2016-01-10</td>\n",
       "      <td>245A1</td>\n",
       "      <td>Assault, w/Weapon</td>\n",
       "      <td>3400.0</td>\n",
       "      <td>30th</td>\n",
       "      <td>...</td>\n",
       "      <td>M</td>\n",
       "      <td>M</td>\n",
       "      <td>B</td>\n",
       "      <td>NaN</td>\n",
       "      <td>NaN</td>\n",
       "      <td>NaN</td>\n",
       "      <td>M</td>\n",
       "      <td>NaN</td>\n",
       "      <td>NaN</td>\n",
       "      <td>NaN</td>\n",
       "    </tr>\n",
       "    <tr>\n",
       "      <th>2</th>\n",
       "      <td>16004522</td>\n",
       "      <td>2016-01-31</td>\n",
       "      <td>2016</td>\n",
       "      <td>1</td>\n",
       "      <td>02:30:00</td>\n",
       "      <td>2016-01-31</td>\n",
       "      <td>594(B)(4)</td>\n",
       "      <td>Vandalism</td>\n",
       "      <td>1400.0</td>\n",
       "      <td>Imperial</td>\n",
       "      <td>...</td>\n",
       "      <td>NaN</td>\n",
       "      <td>NaN</td>\n",
       "      <td>H</td>\n",
       "      <td>W</td>\n",
       "      <td>NaN</td>\n",
       "      <td>NaN</td>\n",
       "      <td>F</td>\n",
       "      <td>M</td>\n",
       "      <td>NaN</td>\n",
       "      <td>NaN</td>\n",
       "    </tr>\n",
       "    <tr>\n",
       "      <th>3</th>\n",
       "      <td>16005962</td>\n",
       "      <td>2016-02-09</td>\n",
       "      <td>2016</td>\n",
       "      <td>2</td>\n",
       "      <td>4:30:00 PM</td>\n",
       "      <td>2016-02-09</td>\n",
       "      <td>422.22(a)(4)</td>\n",
       "      <td>Threat, Phone Call</td>\n",
       "      <td>4100.0</td>\n",
       "      <td>Ute</td>\n",
       "      <td>...</td>\n",
       "      <td>NaN</td>\n",
       "      <td>NaN</td>\n",
       "      <td>B</td>\n",
       "      <td>NaN</td>\n",
       "      <td>NaN</td>\n",
       "      <td>NaN</td>\n",
       "      <td>M</td>\n",
       "      <td>NaN</td>\n",
       "      <td>NaN</td>\n",
       "      <td>NaN</td>\n",
       "    </tr>\n",
       "    <tr>\n",
       "      <th>4</th>\n",
       "      <td>16005900</td>\n",
       "      <td>2016-02-10</td>\n",
       "      <td>2016</td>\n",
       "      <td>2</td>\n",
       "      <td>00:45:00</td>\n",
       "      <td>2016-02-10</td>\n",
       "      <td>417A1:M</td>\n",
       "      <td>Threat</td>\n",
       "      <td>100.0</td>\n",
       "      <td>University</td>\n",
       "      <td>...</td>\n",
       "      <td>NaN</td>\n",
       "      <td>NaN</td>\n",
       "      <td>B</td>\n",
       "      <td>A</td>\n",
       "      <td>NaN</td>\n",
       "      <td>NaN</td>\n",
       "      <td>M</td>\n",
       "      <td>F</td>\n",
       "      <td>NaN</td>\n",
       "      <td>NaN</td>\n",
       "    </tr>\n",
       "    <tr>\n",
       "      <th>...</th>\n",
       "      <td>...</td>\n",
       "      <td>...</td>\n",
       "      <td>...</td>\n",
       "      <td>...</td>\n",
       "      <td>...</td>\n",
       "      <td>...</td>\n",
       "      <td>...</td>\n",
       "      <td>...</td>\n",
       "      <td>...</td>\n",
       "      <td>...</td>\n",
       "      <td>...</td>\n",
       "      <td>...</td>\n",
       "      <td>...</td>\n",
       "      <td>...</td>\n",
       "      <td>...</td>\n",
       "      <td>...</td>\n",
       "      <td>...</td>\n",
       "      <td>...</td>\n",
       "      <td>...</td>\n",
       "      <td>...</td>\n",
       "      <td>...</td>\n",
       "    </tr>\n",
       "    <tr>\n",
       "      <th>261</th>\n",
       "      <td>22039475</td>\n",
       "      <td>2022-09-11</td>\n",
       "      <td>2022</td>\n",
       "      <td>9</td>\n",
       "      <td>17:28:57</td>\n",
       "      <td>2022-09-11</td>\n",
       "      <td>243(A)/422.6(A) PC</td>\n",
       "      <td>Battery</td>\n",
       "      <td>300.0</td>\n",
       "      <td>Date</td>\n",
       "      <td>...</td>\n",
       "      <td>M</td>\n",
       "      <td>NaN</td>\n",
       "      <td>H</td>\n",
       "      <td>NaN</td>\n",
       "      <td>NaN</td>\n",
       "      <td>NaN</td>\n",
       "      <td>M</td>\n",
       "      <td>NaN</td>\n",
       "      <td>NaN</td>\n",
       "      <td>NaN</td>\n",
       "    </tr>\n",
       "    <tr>\n",
       "      <th>262</th>\n",
       "      <td>22041551</td>\n",
       "      <td>2022-09-25</td>\n",
       "      <td>2022</td>\n",
       "      <td>9</td>\n",
       "      <td>19:19:19</td>\n",
       "      <td>2022-09-25</td>\n",
       "      <td>243D/368 PC/422.6(A)</td>\n",
       "      <td>Battery</td>\n",
       "      <td>12000.0</td>\n",
       "      <td>Scripps Summit</td>\n",
       "      <td>...</td>\n",
       "      <td>NaN</td>\n",
       "      <td>NaN</td>\n",
       "      <td>M</td>\n",
       "      <td>NaN</td>\n",
       "      <td>NaN</td>\n",
       "      <td>NaN</td>\n",
       "      <td>M</td>\n",
       "      <td>NaN</td>\n",
       "      <td>NaN</td>\n",
       "      <td>NaN</td>\n",
       "    </tr>\n",
       "    <tr>\n",
       "      <th>263</th>\n",
       "      <td>22042944</td>\n",
       "      <td>2022-10-04</td>\n",
       "      <td>2022</td>\n",
       "      <td>10</td>\n",
       "      <td>05:23:41</td>\n",
       "      <td>2022-10-04</td>\n",
       "      <td>245/422.6/3056 PC</td>\n",
       "      <td>Assault</td>\n",
       "      <td>7600.0</td>\n",
       "      <td>Hazard Center</td>\n",
       "      <td>...</td>\n",
       "      <td>NaN</td>\n",
       "      <td>NaN</td>\n",
       "      <td>H</td>\n",
       "      <td>NaN</td>\n",
       "      <td>NaN</td>\n",
       "      <td>NaN</td>\n",
       "      <td>M</td>\n",
       "      <td>NaN</td>\n",
       "      <td>NaN</td>\n",
       "      <td>NaN</td>\n",
       "    </tr>\n",
       "    <tr>\n",
       "      <th>264</th>\n",
       "      <td>22043518</td>\n",
       "      <td>2022-10-07</td>\n",
       "      <td>2022</td>\n",
       "      <td>10</td>\n",
       "      <td>07:50:00</td>\n",
       "      <td>2022-10-07</td>\n",
       "      <td>422 PC</td>\n",
       "      <td>Threat</td>\n",
       "      <td>5300.0</td>\n",
       "      <td>Javier</td>\n",
       "      <td>...</td>\n",
       "      <td>NaN</td>\n",
       "      <td>NaN</td>\n",
       "      <td>H</td>\n",
       "      <td>H</td>\n",
       "      <td>NaN</td>\n",
       "      <td>NaN</td>\n",
       "      <td>F</td>\n",
       "      <td>M</td>\n",
       "      <td>NaN</td>\n",
       "      <td>NaN</td>\n",
       "    </tr>\n",
       "    <tr>\n",
       "      <th>265</th>\n",
       "      <td>22044696</td>\n",
       "      <td>2022-10-14</td>\n",
       "      <td>2022</td>\n",
       "      <td>10</td>\n",
       "      <td>13:30:00</td>\n",
       "      <td>2022-10-14</td>\n",
       "      <td>243(A) PC</td>\n",
       "      <td>Battery</td>\n",
       "      <td>1200.0</td>\n",
       "      <td>Market</td>\n",
       "      <td>...</td>\n",
       "      <td>NaN</td>\n",
       "      <td>NaN</td>\n",
       "      <td>B</td>\n",
       "      <td>NaN</td>\n",
       "      <td>NaN</td>\n",
       "      <td>NaN</td>\n",
       "      <td>F</td>\n",
       "      <td>NaN</td>\n",
       "      <td>NaN</td>\n",
       "      <td>NaN</td>\n",
       "    </tr>\n",
       "  </tbody>\n",
       "</table>\n",
       "<p>266 rows × 34 columns</p>\n",
       "</div>"
      ],
      "text/plain": [
       "     case_number        date  year  month        time   date_time  \\\n",
       "0       16000456  2016-01-04  2016      1  2:00:00 AM  2016-01-04   \n",
       "1       16001278  2016-01-10  2016      1  1:30:00 AM  2016-01-10   \n",
       "2       16004522  2016-01-31  2016      1    02:30:00  2016-01-31   \n",
       "3       16005962  2016-02-09  2016      2  4:30:00 PM  2016-02-09   \n",
       "4       16005900  2016-02-10  2016      2    00:45:00  2016-02-10   \n",
       "..           ...         ...   ...    ...         ...         ...   \n",
       "261     22039475  2022-09-11  2022      9    17:28:57  2022-09-11   \n",
       "262     22041551  2022-09-25  2022      9    19:19:19  2022-09-25   \n",
       "263     22042944  2022-10-04  2022     10    05:23:41  2022-10-04   \n",
       "264     22043518  2022-10-07  2022     10    07:50:00  2022-10-07   \n",
       "265     22044696  2022-10-14  2022     10    13:30:00  2022-10-14   \n",
       "\n",
       "               crime_code               crime    block          street  ...  \\\n",
       "0                 243(D)M  Assault, No Weapon    500.0               G  ...   \n",
       "1                   245A1   Assault, w/Weapon   3400.0            30th  ...   \n",
       "2               594(B)(4)           Vandalism   1400.0        Imperial  ...   \n",
       "3            422.22(a)(4)  Threat, Phone Call   4100.0             Ute  ...   \n",
       "4                 417A1:M              Threat    100.0      University  ...   \n",
       "..                    ...                 ...      ...             ...  ...   \n",
       "261    243(A)/422.6(A) PC             Battery    300.0            Date  ...   \n",
       "262  243D/368 PC/422.6(A)             Battery  12000.0  Scripps Summit  ...   \n",
       "263     245/422.6/3056 PC             Assault   7600.0   Hazard Center  ...   \n",
       "264                422 PC              Threat   5300.0          Javier  ...   \n",
       "265             243(A) PC             Battery   1200.0          Market  ...   \n",
       "\n",
       "    suspect_sex_1  suspect_sex_2 victim_race_0 victim_race_1 victim_race_2  \\\n",
       "0               M              M             O           NaN           NaN   \n",
       "1               M              M             B           NaN           NaN   \n",
       "2             NaN            NaN             H             W           NaN   \n",
       "3             NaN            NaN             B           NaN           NaN   \n",
       "4             NaN            NaN             B             A           NaN   \n",
       "..            ...            ...           ...           ...           ...   \n",
       "261             M            NaN             H           NaN           NaN   \n",
       "262           NaN            NaN             M           NaN           NaN   \n",
       "263           NaN            NaN             H           NaN           NaN   \n",
       "264           NaN            NaN             H             H           NaN   \n",
       "265           NaN            NaN             B           NaN           NaN   \n",
       "\n",
       "    victim_race_3 victim_sex_0  victim_sex_1 victim_sex_2 victim_sex_3  \n",
       "0             NaN            M           NaN          NaN          NaN  \n",
       "1             NaN            M           NaN          NaN          NaN  \n",
       "2             NaN            F             M          NaN          NaN  \n",
       "3             NaN            M           NaN          NaN          NaN  \n",
       "4             NaN            M             F          NaN          NaN  \n",
       "..            ...          ...           ...          ...          ...  \n",
       "261           NaN            M           NaN          NaN          NaN  \n",
       "262           NaN            M           NaN          NaN          NaN  \n",
       "263           NaN            M           NaN          NaN          NaN  \n",
       "264           NaN            F             M          NaN          NaN  \n",
       "265           NaN            F           NaN          NaN          NaN  \n",
       "\n",
       "[266 rows x 34 columns]"
      ]
     },
     "execution_count": 41,
     "metadata": {},
     "output_type": "execute_result"
    }
   ],
   "source": [
    "df = pd.read_csv(\"hate_crimes_datasd.csv\")\n",
    "df"
   ]
  },
  {
   "cell_type": "code",
   "execution_count": 42,
   "metadata": {},
   "outputs": [
    {
     "data": {
      "text/plain": [
       "Index(['case_number', 'date', 'year', 'month', 'time', 'date_time',\n",
       "       'crime_code', 'crime', 'block', 'street', 'type', 'beat', 'command',\n",
       "       'weapon', 'motivation', 'number_of_suspects', 'suspect', 'victim_count',\n",
       "       'victim_other', 'injury', 'suspect_race_0', 'suspect_race_1',\n",
       "       'suspect_race_2', 'suspect_sex_0', 'suspect_sex_1', 'suspect_sex_2',\n",
       "       'victim_race_0', 'victim_race_1', 'victim_race_2', 'victim_race_3',\n",
       "       'victim_sex_0', 'victim_sex_1', 'victim_sex_2', 'victim_sex_3'],\n",
       "      dtype='object')"
      ]
     },
     "execution_count": 42,
     "metadata": {},
     "output_type": "execute_result"
    }
   ],
   "source": [
    "df.columns"
   ]
  },
  {
   "cell_type": "code",
   "execution_count": 43,
   "metadata": {},
   "outputs": [
    {
     "data": {
      "text/plain": [
       "Race                       133\n",
       "Sexual Orientation          65\n",
       "Religion                    46\n",
       "Sex                          8\n",
       "Gender                       3\n",
       "Sexuality                    2\n",
       "Race/Religion                2\n",
       "Race/Sex                     2\n",
       "Race/Sexual Orientation      1\n",
       "Race/Disability              1\n",
       "Anti-Transgender             1\n",
       "Anti-Religion                1\n",
       "Rel/Sex                      1\n",
       "Name: motivation, dtype: int64"
      ]
     },
     "execution_count": 43,
     "metadata": {},
     "output_type": "execute_result"
    }
   ],
   "source": [
    "df.motivation.value_counts()"
   ]
  },
  {
   "cell_type": "code",
   "execution_count": 44,
   "metadata": {},
   "outputs": [
    {
     "name": "stdout",
     "output_type": "stream",
     "text": [
      "<class 'pandas.core.frame.DataFrame'>\n",
      "RangeIndex: 266 entries, 0 to 265\n",
      "Data columns (total 34 columns):\n",
      " #   Column              Non-Null Count  Dtype  \n",
      "---  ------              --------------  -----  \n",
      " 0   case_number         266 non-null    int64  \n",
      " 1   date                266 non-null    object \n",
      " 2   year                266 non-null    int64  \n",
      " 3   month               266 non-null    int64  \n",
      " 4   time                266 non-null    object \n",
      " 5   date_time           266 non-null    object \n",
      " 6   crime_code          266 non-null    object \n",
      " 7   crime               266 non-null    object \n",
      " 8   block               258 non-null    float64\n",
      " 9   street              266 non-null    object \n",
      " 10  type                252 non-null    object \n",
      " 11  beat                266 non-null    int64  \n",
      " 12  command             266 non-null    object \n",
      " 13  weapon              266 non-null    object \n",
      " 14  motivation          266 non-null    object \n",
      " 15  number_of_suspects  266 non-null    object \n",
      " 16  suspect             266 non-null    object \n",
      " 17  victim_count        265 non-null    float64\n",
      " 18  victim_other        55 non-null     object \n",
      " 19  injury              265 non-null    object \n",
      " 20  suspect_race_0      266 non-null    object \n",
      " 21  suspect_race_1      33 non-null     object \n",
      " 22  suspect_race_2      15 non-null     object \n",
      " 23  suspect_sex_0       265 non-null    object \n",
      " 24  suspect_sex_1       33 non-null     object \n",
      " 25  suspect_sex_2       15 non-null     object \n",
      " 26  victim_race_0       227 non-null    object \n",
      " 27  victim_race_1       41 non-null     object \n",
      " 28  victim_race_2       8 non-null      object \n",
      " 29  victim_race_3       1 non-null      object \n",
      " 30  victim_sex_0        228 non-null    object \n",
      " 31  victim_sex_1        41 non-null     object \n",
      " 32  victim_sex_2        8 non-null      object \n",
      " 33  victim_sex_3        1 non-null      object \n",
      "dtypes: float64(2), int64(4), object(28)\n",
      "memory usage: 70.8+ KB\n"
     ]
    }
   ],
   "source": [
    "df.info()"
   ]
  },
  {
   "attachments": {},
   "cell_type": "markdown",
   "metadata": {},
   "source": [
    "Handling missing values"
   ]
  },
  {
   "cell_type": "code",
   "execution_count": 45,
   "metadata": {},
   "outputs": [
    {
     "data": {
      "text/plain": [
       "case_number             0\n",
       "date                    0\n",
       "year                    0\n",
       "month                   0\n",
       "time                    0\n",
       "date_time               0\n",
       "crime_code              0\n",
       "crime                   0\n",
       "block                   8\n",
       "street                  0\n",
       "type                   14\n",
       "beat                    0\n",
       "command                 0\n",
       "weapon                  0\n",
       "motivation              0\n",
       "number_of_suspects      0\n",
       "suspect                 0\n",
       "victim_count            1\n",
       "victim_other          211\n",
       "injury                  1\n",
       "suspect_race_0          0\n",
       "suspect_race_1        233\n",
       "suspect_race_2        251\n",
       "suspect_sex_0           1\n",
       "suspect_sex_1         233\n",
       "suspect_sex_2         251\n",
       "victim_race_0          39\n",
       "victim_race_1         225\n",
       "victim_race_2         258\n",
       "victim_race_3         265\n",
       "victim_sex_0           38\n",
       "victim_sex_1          225\n",
       "victim_sex_2          258\n",
       "victim_sex_3          265\n",
       "dtype: int64"
      ]
     },
     "execution_count": 45,
     "metadata": {},
     "output_type": "execute_result"
    }
   ],
   "source": [
    "df.isnull().sum()"
   ]
  },
  {
   "cell_type": "code",
   "execution_count": 46,
   "metadata": {},
   "outputs": [],
   "source": [
    "df.drop(columns=['victim_other','suspect_race_1','suspect_race_2','suspect_sex_1','suspect_sex_2','victim_race_1','victim_race_2','victim_race_3','victim_sex_1','victim_sex_2','victim_sex_3'],inplace=True)"
   ]
  },
  {
   "cell_type": "code",
   "execution_count": 47,
   "metadata": {},
   "outputs": [
    {
     "data": {
      "text/html": [
       "<div>\n",
       "<style scoped>\n",
       "    .dataframe tbody tr th:only-of-type {\n",
       "        vertical-align: middle;\n",
       "    }\n",
       "\n",
       "    .dataframe tbody tr th {\n",
       "        vertical-align: top;\n",
       "    }\n",
       "\n",
       "    .dataframe thead th {\n",
       "        text-align: right;\n",
       "    }\n",
       "</style>\n",
       "<table border=\"1\" class=\"dataframe\">\n",
       "  <thead>\n",
       "    <tr style=\"text-align: right;\">\n",
       "      <th></th>\n",
       "      <th>case_number</th>\n",
       "      <th>date</th>\n",
       "      <th>year</th>\n",
       "      <th>month</th>\n",
       "      <th>time</th>\n",
       "      <th>date_time</th>\n",
       "      <th>crime_code</th>\n",
       "      <th>crime</th>\n",
       "      <th>block</th>\n",
       "      <th>street</th>\n",
       "      <th>...</th>\n",
       "      <th>weapon</th>\n",
       "      <th>motivation</th>\n",
       "      <th>number_of_suspects</th>\n",
       "      <th>suspect</th>\n",
       "      <th>victim_count</th>\n",
       "      <th>injury</th>\n",
       "      <th>suspect_race_0</th>\n",
       "      <th>suspect_sex_0</th>\n",
       "      <th>victim_race_0</th>\n",
       "      <th>victim_sex_0</th>\n",
       "    </tr>\n",
       "  </thead>\n",
       "  <tbody>\n",
       "    <tr>\n",
       "      <th>0</th>\n",
       "      <td>16000456</td>\n",
       "      <td>2016-01-04</td>\n",
       "      <td>2016</td>\n",
       "      <td>1</td>\n",
       "      <td>2:00:00 AM</td>\n",
       "      <td>2016-01-04</td>\n",
       "      <td>243(D)M</td>\n",
       "      <td>Assault, No Weapon</td>\n",
       "      <td>500.0</td>\n",
       "      <td>G</td>\n",
       "      <td>...</td>\n",
       "      <td>Hands, Fists, Feet</td>\n",
       "      <td>Race</td>\n",
       "      <td>3</td>\n",
       "      <td>Unknown</td>\n",
       "      <td>1.0</td>\n",
       "      <td>Hospital</td>\n",
       "      <td>O</td>\n",
       "      <td>M</td>\n",
       "      <td>O</td>\n",
       "      <td>M</td>\n",
       "    </tr>\n",
       "    <tr>\n",
       "      <th>1</th>\n",
       "      <td>16001278</td>\n",
       "      <td>2016-01-10</td>\n",
       "      <td>2016</td>\n",
       "      <td>1</td>\n",
       "      <td>1:30:00 AM</td>\n",
       "      <td>2016-01-10</td>\n",
       "      <td>245A1</td>\n",
       "      <td>Assault, w/Weapon</td>\n",
       "      <td>3400.0</td>\n",
       "      <td>30th</td>\n",
       "      <td>...</td>\n",
       "      <td>Stick</td>\n",
       "      <td>Race</td>\n",
       "      <td>3</td>\n",
       "      <td>Unknown</td>\n",
       "      <td>1.0</td>\n",
       "      <td>No Treat.</td>\n",
       "      <td>Unk</td>\n",
       "      <td>M</td>\n",
       "      <td>B</td>\n",
       "      <td>M</td>\n",
       "    </tr>\n",
       "    <tr>\n",
       "      <th>2</th>\n",
       "      <td>16004522</td>\n",
       "      <td>2016-01-31</td>\n",
       "      <td>2016</td>\n",
       "      <td>1</td>\n",
       "      <td>02:30:00</td>\n",
       "      <td>2016-01-31</td>\n",
       "      <td>594(B)(4)</td>\n",
       "      <td>Vandalism</td>\n",
       "      <td>1400.0</td>\n",
       "      <td>Imperial</td>\n",
       "      <td>...</td>\n",
       "      <td>Marker</td>\n",
       "      <td>Race</td>\n",
       "      <td>Unk</td>\n",
       "      <td>Unknown</td>\n",
       "      <td>2.0</td>\n",
       "      <td>None</td>\n",
       "      <td>Unk</td>\n",
       "      <td>Unk</td>\n",
       "      <td>H</td>\n",
       "      <td>F</td>\n",
       "    </tr>\n",
       "    <tr>\n",
       "      <th>3</th>\n",
       "      <td>16005962</td>\n",
       "      <td>2016-02-09</td>\n",
       "      <td>2016</td>\n",
       "      <td>2</td>\n",
       "      <td>4:30:00 PM</td>\n",
       "      <td>2016-02-09</td>\n",
       "      <td>422.22(a)(4)</td>\n",
       "      <td>Threat, Phone Call</td>\n",
       "      <td>4100.0</td>\n",
       "      <td>Ute</td>\n",
       "      <td>...</td>\n",
       "      <td>Phone</td>\n",
       "      <td>Race</td>\n",
       "      <td>1</td>\n",
       "      <td>Known</td>\n",
       "      <td>1.0</td>\n",
       "      <td>None</td>\n",
       "      <td>H</td>\n",
       "      <td>M</td>\n",
       "      <td>B</td>\n",
       "      <td>M</td>\n",
       "    </tr>\n",
       "    <tr>\n",
       "      <th>4</th>\n",
       "      <td>16005900</td>\n",
       "      <td>2016-02-10</td>\n",
       "      <td>2016</td>\n",
       "      <td>2</td>\n",
       "      <td>00:45:00</td>\n",
       "      <td>2016-02-10</td>\n",
       "      <td>417A1:M</td>\n",
       "      <td>Threat</td>\n",
       "      <td>100.0</td>\n",
       "      <td>University</td>\n",
       "      <td>...</td>\n",
       "      <td>Knife</td>\n",
       "      <td>Race</td>\n",
       "      <td>1</td>\n",
       "      <td>Unknown</td>\n",
       "      <td>2.0</td>\n",
       "      <td>None</td>\n",
       "      <td>W</td>\n",
       "      <td>M</td>\n",
       "      <td>B</td>\n",
       "      <td>M</td>\n",
       "    </tr>\n",
       "  </tbody>\n",
       "</table>\n",
       "<p>5 rows × 23 columns</p>\n",
       "</div>"
      ],
      "text/plain": [
       "   case_number        date  year  month        time   date_time    crime_code  \\\n",
       "0     16000456  2016-01-04  2016      1  2:00:00 AM  2016-01-04       243(D)M   \n",
       "1     16001278  2016-01-10  2016      1  1:30:00 AM  2016-01-10         245A1   \n",
       "2     16004522  2016-01-31  2016      1    02:30:00  2016-01-31     594(B)(4)   \n",
       "3     16005962  2016-02-09  2016      2  4:30:00 PM  2016-02-09  422.22(a)(4)   \n",
       "4     16005900  2016-02-10  2016      2    00:45:00  2016-02-10       417A1:M   \n",
       "\n",
       "                crime   block      street  ...              weapon  \\\n",
       "0  Assault, No Weapon   500.0           G  ...  Hands, Fists, Feet   \n",
       "1   Assault, w/Weapon  3400.0        30th  ...               Stick   \n",
       "2           Vandalism  1400.0    Imperial  ...              Marker   \n",
       "3  Threat, Phone Call  4100.0         Ute  ...               Phone   \n",
       "4              Threat   100.0  University  ...               Knife   \n",
       "\n",
       "   motivation number_of_suspects  suspect victim_count     injury  \\\n",
       "0        Race                  3  Unknown          1.0   Hospital   \n",
       "1        Race                  3  Unknown          1.0  No Treat.   \n",
       "2        Race                Unk  Unknown          2.0       None   \n",
       "3        Race                  1    Known          1.0       None   \n",
       "4        Race                  1  Unknown          2.0       None   \n",
       "\n",
       "  suspect_race_0  suspect_sex_0 victim_race_0 victim_sex_0  \n",
       "0              O              M             O            M  \n",
       "1            Unk              M             B            M  \n",
       "2            Unk            Unk             H            F  \n",
       "3              H              M             B            M  \n",
       "4              W              M             B            M  \n",
       "\n",
       "[5 rows x 23 columns]"
      ]
     },
     "execution_count": 47,
     "metadata": {},
     "output_type": "execute_result"
    }
   ],
   "source": [
    "df.head()"
   ]
  },
  {
   "cell_type": "code",
   "execution_count": 48,
   "metadata": {},
   "outputs": [
    {
     "data": {
      "text/plain": [
       "case_number            0\n",
       "date                   0\n",
       "year                   0\n",
       "month                  0\n",
       "time                   0\n",
       "date_time              0\n",
       "crime_code             0\n",
       "crime                  0\n",
       "block                  8\n",
       "street                 0\n",
       "type                  14\n",
       "beat                   0\n",
       "command                0\n",
       "weapon                 0\n",
       "motivation             0\n",
       "number_of_suspects     0\n",
       "suspect                0\n",
       "victim_count           1\n",
       "injury                 1\n",
       "suspect_race_0         0\n",
       "suspect_sex_0          1\n",
       "victim_race_0         39\n",
       "victim_sex_0          38\n",
       "dtype: int64"
      ]
     },
     "execution_count": 48,
     "metadata": {},
     "output_type": "execute_result"
    }
   ],
   "source": [
    "df.isnull().sum()"
   ]
  },
  {
   "cell_type": "code",
   "execution_count": 49,
   "metadata": {},
   "outputs": [
    {
     "data": {
      "text/plain": [
       "St         82\n",
       "Av         51\n",
       "Dr         28\n",
       "Rd         23\n",
       "Ave        20\n",
       "Bl         15\n",
       "Wy          8\n",
       "Blvd        6\n",
       "Pl          4\n",
       "Way         2\n",
       "Ln          2\n",
       "Ct          2\n",
       "Av/St       1\n",
       "Pky         1\n",
       "Pkw         1\n",
       "Pz          1\n",
       "Pky/Way     1\n",
       "Wk          1\n",
       "Dr/Rd       1\n",
       "St/Av       1\n",
       "St          1\n",
       "Name: type, dtype: int64"
      ]
     },
     "execution_count": 49,
     "metadata": {},
     "output_type": "execute_result"
    }
   ],
   "source": [
    "df.type.value_counts()"
   ]
  },
  {
   "cell_type": "code",
   "execution_count": 50,
   "metadata": {},
   "outputs": [],
   "source": [
    "df.dropna(subset=['type', 'victim_count','injury','suspect_sex_0','victim_race_0','victim_race_0','victim_sex_0'],inplace=True)\n",
    "df['block'].fillna(df['block'].mean(), inplace=True)"
   ]
  },
  {
   "cell_type": "code",
   "execution_count": 51,
   "metadata": {},
   "outputs": [
    {
     "data": {
      "text/plain": [
       "case_number           0\n",
       "date                  0\n",
       "year                  0\n",
       "month                 0\n",
       "time                  0\n",
       "date_time             0\n",
       "crime_code            0\n",
       "crime                 0\n",
       "block                 0\n",
       "street                0\n",
       "type                  0\n",
       "beat                  0\n",
       "command               0\n",
       "weapon                0\n",
       "motivation            0\n",
       "number_of_suspects    0\n",
       "suspect               0\n",
       "victim_count          0\n",
       "injury                0\n",
       "suspect_race_0        0\n",
       "suspect_sex_0         0\n",
       "victim_race_0         0\n",
       "victim_sex_0          0\n",
       "dtype: int64"
      ]
     },
     "execution_count": 51,
     "metadata": {},
     "output_type": "execute_result"
    }
   ],
   "source": [
    "df.isnull().sum()"
   ]
  },
  {
   "cell_type": "code",
   "execution_count": 52,
   "metadata": {},
   "outputs": [
    {
     "data": {
      "text/plain": [
       "(214, 23)"
      ]
     },
     "execution_count": 52,
     "metadata": {},
     "output_type": "execute_result"
    }
   ],
   "source": [
    "df.shape"
   ]
  },
  {
   "cell_type": "code",
   "execution_count": 53,
   "metadata": {},
   "outputs": [],
   "source": [
    "from sklearn.preprocessing import LabelEncoder\n",
    "\n",
    "cols = df.select_dtypes(include=['object']).columns\n",
    "\n",
    "for col in cols:\n",
    "    le = LabelEncoder()\n",
    "    df[col] = le.fit_transform(df[col])\n"
   ]
  },
  {
   "cell_type": "code",
   "execution_count": 54,
   "metadata": {},
   "outputs": [
    {
     "data": {
      "text/html": [
       "<div>\n",
       "<style scoped>\n",
       "    .dataframe tbody tr th:only-of-type {\n",
       "        vertical-align: middle;\n",
       "    }\n",
       "\n",
       "    .dataframe tbody tr th {\n",
       "        vertical-align: top;\n",
       "    }\n",
       "\n",
       "    .dataframe thead th {\n",
       "        text-align: right;\n",
       "    }\n",
       "</style>\n",
       "<table border=\"1\" class=\"dataframe\">\n",
       "  <thead>\n",
       "    <tr style=\"text-align: right;\">\n",
       "      <th></th>\n",
       "      <th>case_number</th>\n",
       "      <th>date</th>\n",
       "      <th>year</th>\n",
       "      <th>month</th>\n",
       "      <th>time</th>\n",
       "      <th>date_time</th>\n",
       "      <th>crime_code</th>\n",
       "      <th>crime</th>\n",
       "      <th>block</th>\n",
       "      <th>street</th>\n",
       "      <th>...</th>\n",
       "      <th>weapon</th>\n",
       "      <th>motivation</th>\n",
       "      <th>number_of_suspects</th>\n",
       "      <th>suspect</th>\n",
       "      <th>victim_count</th>\n",
       "      <th>injury</th>\n",
       "      <th>suspect_race_0</th>\n",
       "      <th>suspect_sex_0</th>\n",
       "      <th>victim_race_0</th>\n",
       "      <th>victim_sex_0</th>\n",
       "    </tr>\n",
       "  </thead>\n",
       "  <tbody>\n",
       "    <tr>\n",
       "      <th>0</th>\n",
       "      <td>16000456</td>\n",
       "      <td>0</td>\n",
       "      <td>2016</td>\n",
       "      <td>1</td>\n",
       "      <td>149</td>\n",
       "      <td>0</td>\n",
       "      <td>19</td>\n",
       "      <td>2</td>\n",
       "      <td>500.0</td>\n",
       "      <td>80</td>\n",
       "      <td>...</td>\n",
       "      <td>21</td>\n",
       "      <td>1</td>\n",
       "      <td>2</td>\n",
       "      <td>1</td>\n",
       "      <td>1.0</td>\n",
       "      <td>0</td>\n",
       "      <td>5</td>\n",
       "      <td>2</td>\n",
       "      <td>7</td>\n",
       "      <td>2</td>\n",
       "    </tr>\n",
       "    <tr>\n",
       "      <th>1</th>\n",
       "      <td>16001278</td>\n",
       "      <td>1</td>\n",
       "      <td>2016</td>\n",
       "      <td>1</td>\n",
       "      <td>119</td>\n",
       "      <td>1</td>\n",
       "      <td>34</td>\n",
       "      <td>3</td>\n",
       "      <td>3400.0</td>\n",
       "      <td>12</td>\n",
       "      <td>...</td>\n",
       "      <td>47</td>\n",
       "      <td>1</td>\n",
       "      <td>2</td>\n",
       "      <td>1</td>\n",
       "      <td>1.0</td>\n",
       "      <td>3</td>\n",
       "      <td>6</td>\n",
       "      <td>2</td>\n",
       "      <td>1</td>\n",
       "      <td>2</td>\n",
       "    </tr>\n",
       "    <tr>\n",
       "      <th>2</th>\n",
       "      <td>16004522</td>\n",
       "      <td>2</td>\n",
       "      <td>2016</td>\n",
       "      <td>1</td>\n",
       "      <td>11</td>\n",
       "      <td>2</td>\n",
       "      <td>76</td>\n",
       "      <td>14</td>\n",
       "      <td>1400.0</td>\n",
       "      <td>88</td>\n",
       "      <td>...</td>\n",
       "      <td>28</td>\n",
       "      <td>1</td>\n",
       "      <td>6</td>\n",
       "      <td>1</td>\n",
       "      <td>2.0</td>\n",
       "      <td>4</td>\n",
       "      <td>6</td>\n",
       "      <td>4</td>\n",
       "      <td>4</td>\n",
       "      <td>0</td>\n",
       "    </tr>\n",
       "    <tr>\n",
       "      <th>3</th>\n",
       "      <td>16005962</td>\n",
       "      <td>3</td>\n",
       "      <td>2016</td>\n",
       "      <td>2</td>\n",
       "      <td>150</td>\n",
       "      <td>3</td>\n",
       "      <td>45</td>\n",
       "      <td>13</td>\n",
       "      <td>4100.0</td>\n",
       "      <td>155</td>\n",
       "      <td>...</td>\n",
       "      <td>38</td>\n",
       "      <td>1</td>\n",
       "      <td>0</td>\n",
       "      <td>0</td>\n",
       "      <td>1.0</td>\n",
       "      <td>4</td>\n",
       "      <td>3</td>\n",
       "      <td>2</td>\n",
       "      <td>1</td>\n",
       "      <td>2</td>\n",
       "    </tr>\n",
       "    <tr>\n",
       "      <th>4</th>\n",
       "      <td>16005900</td>\n",
       "      <td>4</td>\n",
       "      <td>2016</td>\n",
       "      <td>2</td>\n",
       "      <td>5</td>\n",
       "      <td>4</td>\n",
       "      <td>41</td>\n",
       "      <td>12</td>\n",
       "      <td>100.0</td>\n",
       "      <td>154</td>\n",
       "      <td>...</td>\n",
       "      <td>23</td>\n",
       "      <td>1</td>\n",
       "      <td>0</td>\n",
       "      <td>1</td>\n",
       "      <td>2.0</td>\n",
       "      <td>4</td>\n",
       "      <td>7</td>\n",
       "      <td>2</td>\n",
       "      <td>1</td>\n",
       "      <td>2</td>\n",
       "    </tr>\n",
       "  </tbody>\n",
       "</table>\n",
       "<p>5 rows × 23 columns</p>\n",
       "</div>"
      ],
      "text/plain": [
       "   case_number  date  year  month  time  date_time  crime_code  crime   block  \\\n",
       "0     16000456     0  2016      1   149          0          19      2   500.0   \n",
       "1     16001278     1  2016      1   119          1          34      3  3400.0   \n",
       "2     16004522     2  2016      1    11          2          76     14  1400.0   \n",
       "3     16005962     3  2016      2   150          3          45     13  4100.0   \n",
       "4     16005900     4  2016      2     5          4          41     12   100.0   \n",
       "\n",
       "   street  ...  weapon  motivation  number_of_suspects  suspect  victim_count  \\\n",
       "0      80  ...      21           1                   2        1           1.0   \n",
       "1      12  ...      47           1                   2        1           1.0   \n",
       "2      88  ...      28           1                   6        1           2.0   \n",
       "3     155  ...      38           1                   0        0           1.0   \n",
       "4     154  ...      23           1                   0        1           2.0   \n",
       "\n",
       "   injury  suspect_race_0  suspect_sex_0  victim_race_0  victim_sex_0  \n",
       "0       0               5              2              7             2  \n",
       "1       3               6              2              1             2  \n",
       "2       4               6              4              4             0  \n",
       "3       4               3              2              1             2  \n",
       "4       4               7              2              1             2  \n",
       "\n",
       "[5 rows x 23 columns]"
      ]
     },
     "execution_count": 54,
     "metadata": {},
     "output_type": "execute_result"
    }
   ],
   "source": [
    "df.head()"
   ]
  },
  {
   "cell_type": "code",
   "execution_count": 55,
   "metadata": {},
   "outputs": [
    {
     "data": {
      "image/png": "[encoded data removed]",
      "text/plain": [
       "<Figure size 2200x2200 with 25 Axes>"
      ]
     },
     "metadata": {},
     "output_type": "display_data"
    }
   ],
   "source": [
    "plot = df.hist(figsize=(22,22))"
   ]
  },
  {
   "cell_type": "code",
   "execution_count": 56,
   "metadata": {},
   "outputs": [],
   "source": [
    "X = df.drop(columns='motivation')\n",
    "y = df['motivation']"
   ]
  },
  {
   "attachments": {},
   "cell_type": "markdown",
   "metadata": {},
   "source": [
    "Scaling"
   ]
  },
  {
   "cell_type": "code",
   "execution_count": 57,
   "metadata": {},
   "outputs": [],
   "source": [
    "# scale features\n",
    "from sklearn.preprocessing import StandardScaler\n",
    "scaler = StandardScaler()\n",
    "X = scaler.fit_transform(X)"
   ]
  },
  {
   "attachments": {},
   "cell_type": "markdown",
   "metadata": {},
   "source": [
    "Train Test Split"
   ]
  },
  {
   "cell_type": "code",
   "execution_count": 58,
   "metadata": {},
   "outputs": [],
   "source": [
    "from sklearn.model_selection import train_test_split\n",
    "\n",
    "X_train, X_test, y_train, y_test = train_test_split(X, y)"
   ]
  },
  {
   "attachments": {},
   "cell_type": "markdown",
   "metadata": {},
   "source": [
    "### KNN"
   ]
  },
  {
   "attachments": {},
   "cell_type": "markdown",
   "metadata": {},
   "source": [
    "Original"
   ]
  },
  {
   "cell_type": "code",
   "execution_count": 59,
   "metadata": {},
   "outputs": [
    {
     "name": "stdout",
     "output_type": "stream",
     "text": [
      "Test score: 0.648\n",
      "              precision    recall  f1-score   support\n",
      "\n",
      "           0       0.00      0.00      0.00         2\n",
      "           1       0.68      0.86      0.76        29\n",
      "           5       0.25      0.20      0.22         5\n",
      "           6       0.00      0.00      0.00         1\n",
      "           7       0.75      0.53      0.62        17\n",
      "\n",
      "    accuracy                           0.65        54\n",
      "   macro avg       0.34      0.32      0.32        54\n",
      "weighted avg       0.62      0.65      0.62        54\n",
      "\n"
     ]
    },
    {
     "name": "stderr",
     "output_type": "stream",
     "text": [
      "c:\\Users\\suritha\\AppData\\Local\\Programs\\Python\\Python311\\Lib\\site-packages\\sklearn\\metrics\\_classification.py:1344: UndefinedMetricWarning: Precision and F-score are ill-defined and being set to 0.0 in labels with no predicted samples. Use `zero_division` parameter to control this behavior.\n",
      "  _warn_prf(average, modifier, msg_start, len(result))\n",
      "c:\\Users\\suritha\\AppData\\Local\\Programs\\Python\\Python311\\Lib\\site-packages\\sklearn\\metrics\\_classification.py:1344: UndefinedMetricWarning: Precision and F-score are ill-defined and being set to 0.0 in labels with no predicted samples. Use `zero_division` parameter to control this behavior.\n",
      "  _warn_prf(average, modifier, msg_start, len(result))\n",
      "c:\\Users\\suritha\\AppData\\Local\\Programs\\Python\\Python311\\Lib\\site-packages\\sklearn\\metrics\\_classification.py:1344: UndefinedMetricWarning: Precision and F-score are ill-defined and being set to 0.0 in labels with no predicted samples. Use `zero_division` parameter to control this behavior.\n",
      "  _warn_prf(average, modifier, msg_start, len(result))\n"
     ]
    }
   ],
   "source": [
    "# Fit your KNN model to the training data\n",
    "knn = KNeighborsClassifier(n_neighbors=5)\n",
    "knn.fit(X_train, y_train)\n",
    "\n",
    "# Predict on the testing data\n",
    "y_pred = knn.predict(X_test)\n",
    "\n",
    "print(\"Test score: {:.3f}\".format(knn.score(X_test,y_test)))\n",
    "\n",
    "# Generate a classification report\n",
    "print(classification_report(y_test, y_pred))"
   ]
  },
  {
   "attachments": {},
   "cell_type": "markdown",
   "metadata": {},
   "source": [
    "PCA"
   ]
  },
  {
   "cell_type": "code",
   "execution_count": 60,
   "metadata": {},
   "outputs": [
    {
     "name": "stdout",
     "output_type": "stream",
     "text": [
      "Test score: 1.000\n",
      "              precision    recall  f1-score   support\n",
      "\n",
      "           0       0.00      0.00      0.00         2\n",
      "           1       0.68      0.86      0.76        29\n",
      "           5       0.25      0.20      0.22         5\n",
      "           6       0.00      0.00      0.00         1\n",
      "           7       0.75      0.53      0.62        17\n",
      "\n",
      "    accuracy                           0.65        54\n",
      "   macro avg       0.34      0.32      0.32        54\n",
      "weighted avg       0.62      0.65      0.62        54\n",
      "\n"
     ]
    },
    {
     "name": "stderr",
     "output_type": "stream",
     "text": [
      "c:\\Users\\suritha\\AppData\\Local\\Programs\\Python\\Python311\\Lib\\site-packages\\sklearn\\metrics\\_classification.py:1344: UndefinedMetricWarning: Precision and F-score are ill-defined and being set to 0.0 in labels with no predicted samples. Use `zero_division` parameter to control this behavior.\n",
      "  _warn_prf(average, modifier, msg_start, len(result))\n",
      "c:\\Users\\suritha\\AppData\\Local\\Programs\\Python\\Python311\\Lib\\site-packages\\sklearn\\metrics\\_classification.py:1344: UndefinedMetricWarning: Precision and F-score are ill-defined and being set to 0.0 in labels with no predicted samples. Use `zero_division` parameter to control this behavior.\n",
      "  _warn_prf(average, modifier, msg_start, len(result))\n",
      "c:\\Users\\suritha\\AppData\\Local\\Programs\\Python\\Python311\\Lib\\site-packages\\sklearn\\metrics\\_classification.py:1344: UndefinedMetricWarning: Precision and F-score are ill-defined and being set to 0.0 in labels with no predicted samples. Use `zero_division` parameter to control this behavior.\n",
      "  _warn_prf(average, modifier, msg_start, len(result))\n"
     ]
    }
   ],
   "source": [
    "# Apply PCA to the training data\n",
    "pca = PCA()\n",
    "X_train_pca = pca.fit_transform(X_train)\n",
    "\n",
    "# Fit your KNN model to the PCA-transformed training data\n",
    "knn_pca = KNeighborsClassifier(n_neighbors=5)\n",
    "knn_pca.fit(X_train_pca, y_train)\n",
    "\n",
    "# Apply PCA to the testing data\n",
    "X_test_pca = pca.transform(X_test)\n",
    "\n",
    "# Predict on the PCA-transformed testing data\n",
    "y_pred_pca = knn_pca.predict(X_test_pca)\n",
    "\n",
    "print(\"Test score: {:.3f}\".format(knn_pca.score(X_test_pca,y_pred_pca)))\n",
    "\n",
    "# Generate a classification report\n",
    "print(classification_report(y_test, y_pred_pca))"
   ]
  },
  {
   "attachments": {},
   "cell_type": "markdown",
   "metadata": {},
   "source": [
    "LDA"
   ]
  },
  {
   "cell_type": "code",
   "execution_count": 61,
   "metadata": {},
   "outputs": [
    {
     "name": "stdout",
     "output_type": "stream",
     "text": [
      "Test score: 1.000\n",
      "              precision    recall  f1-score   support\n",
      "\n",
      "           0       0.00      0.00      0.00         2\n",
      "           1       0.62      0.90      0.73        29\n",
      "           5       0.25      0.20      0.22         5\n",
      "           6       0.00      0.00      0.00         1\n",
      "           7       0.25      0.12      0.16        17\n",
      "\n",
      "    accuracy                           0.54        54\n",
      "   macro avg       0.22      0.24      0.22        54\n",
      "weighted avg       0.43      0.54      0.46        54\n",
      "\n"
     ]
    },
    {
     "name": "stderr",
     "output_type": "stream",
     "text": [
      "c:\\Users\\suritha\\AppData\\Local\\Programs\\Python\\Python311\\Lib\\site-packages\\sklearn\\metrics\\_classification.py:1344: UndefinedMetricWarning: Precision and F-score are ill-defined and being set to 0.0 in labels with no predicted samples. Use `zero_division` parameter to control this behavior.\n",
      "  _warn_prf(average, modifier, msg_start, len(result))\n",
      "c:\\Users\\suritha\\AppData\\Local\\Programs\\Python\\Python311\\Lib\\site-packages\\sklearn\\metrics\\_classification.py:1344: UndefinedMetricWarning: Precision and F-score are ill-defined and being set to 0.0 in labels with no predicted samples. Use `zero_division` parameter to control this behavior.\n",
      "  _warn_prf(average, modifier, msg_start, len(result))\n",
      "c:\\Users\\suritha\\AppData\\Local\\Programs\\Python\\Python311\\Lib\\site-packages\\sklearn\\metrics\\_classification.py:1344: UndefinedMetricWarning: Precision and F-score are ill-defined and being set to 0.0 in labels with no predicted samples. Use `zero_division` parameter to control this behavior.\n",
      "  _warn_prf(average, modifier, msg_start, len(result))\n"
     ]
    }
   ],
   "source": [
    "# Apply LDA to the training data\n",
    "lda = LinearDiscriminantAnalysis(n_components=1)\n",
    "X_train_lda = lda.fit_transform(X_train, y_train)\n",
    "\n",
    "# Fit your KNN model to the LDA-transformed training data\n",
    "knn_lda = KNeighborsClassifier(n_neighbors=5)\n",
    "knn_lda.fit(X_train_lda, y_train)\n",
    "\n",
    "# Apply LDA to the testing data\n",
    "X_test_lda = lda.transform(X_test)\n",
    "\n",
    "# Predict on the LDA-transformed testing data\n",
    "y_pred_lda = knn_lda.predict(X_test_lda)\n",
    "\n",
    "print(\"Test score: {:.3f}\".format(knn_lda.score(X_test_lda,y_pred_lda)))\n",
    "\n",
    "# Generate a classification report\n",
    "print(classification_report(y_test, y_pred_lda))"
   ]
  },
  {
   "attachments": {},
   "cell_type": "markdown",
   "metadata": {},
   "source": [
    "Undersampling"
   ]
  },
  {
   "cell_type": "code",
   "execution_count": 62,
   "metadata": {},
   "outputs": [
    {
     "name": "stdout",
     "output_type": "stream",
     "text": [
      "              precision    recall  f1-score   support\n",
      "\n",
      "           0       0.06      1.00      0.12         2\n",
      "           1       0.84      0.55      0.67        29\n",
      "           2       0.00      0.00      0.00         0\n",
      "           3       0.00      0.00      0.00         0\n",
      "           5       0.00      0.00      0.00         5\n",
      "           6       0.00      0.00      0.00         1\n",
      "           7       0.00      0.00      0.00        17\n",
      "\n",
      "    accuracy                           0.33        54\n",
      "   macro avg       0.13      0.22      0.11        54\n",
      "weighted avg       0.45      0.33      0.36        54\n",
      "\n"
     ]
    },
    {
     "name": "stderr",
     "output_type": "stream",
     "text": [
      "c:\\Users\\suritha\\AppData\\Local\\Programs\\Python\\Python311\\Lib\\site-packages\\sklearn\\metrics\\_classification.py:1344: UndefinedMetricWarning: Precision and F-score are ill-defined and being set to 0.0 in labels with no predicted samples. Use `zero_division` parameter to control this behavior.\n",
      "  _warn_prf(average, modifier, msg_start, len(result))\n",
      "c:\\Users\\suritha\\AppData\\Local\\Programs\\Python\\Python311\\Lib\\site-packages\\sklearn\\metrics\\_classification.py:1344: UndefinedMetricWarning: Recall and F-score are ill-defined and being set to 0.0 in labels with no true samples. Use `zero_division` parameter to control this behavior.\n",
      "  _warn_prf(average, modifier, msg_start, len(result))\n",
      "c:\\Users\\suritha\\AppData\\Local\\Programs\\Python\\Python311\\Lib\\site-packages\\sklearn\\metrics\\_classification.py:1344: UndefinedMetricWarning: Precision and F-score are ill-defined and being set to 0.0 in labels with no predicted samples. Use `zero_division` parameter to control this behavior.\n",
      "  _warn_prf(average, modifier, msg_start, len(result))\n",
      "c:\\Users\\suritha\\AppData\\Local\\Programs\\Python\\Python311\\Lib\\site-packages\\sklearn\\metrics\\_classification.py:1344: UndefinedMetricWarning: Recall and F-score are ill-defined and being set to 0.0 in labels with no true samples. Use `zero_division` parameter to control this behavior.\n",
      "  _warn_prf(average, modifier, msg_start, len(result))\n",
      "c:\\Users\\suritha\\AppData\\Local\\Programs\\Python\\Python311\\Lib\\site-packages\\sklearn\\metrics\\_classification.py:1344: UndefinedMetricWarning: Precision and F-score are ill-defined and being set to 0.0 in labels with no predicted samples. Use `zero_division` parameter to control this behavior.\n",
      "  _warn_prf(average, modifier, msg_start, len(result))\n",
      "c:\\Users\\suritha\\AppData\\Local\\Programs\\Python\\Python311\\Lib\\site-packages\\sklearn\\metrics\\_classification.py:1344: UndefinedMetricWarning: Recall and F-score are ill-defined and being set to 0.0 in labels with no true samples. Use `zero_division` parameter to control this behavior.\n",
      "  _warn_prf(average, modifier, msg_start, len(result))\n"
     ]
    }
   ],
   "source": [
    "# Apply RandomUnderSampler to the training data\n",
    "rus = RandomUnderSampler(random_state=42)\n",
    "X_train_rus, y_train_rus = rus.fit_resample(X_train, y_train)\n",
    "\n",
    "# Fit your KNN model to the undersampled training data\n",
    "knn_rus = KNeighborsClassifier(n_neighbors=5)\n",
    "knn_rus.fit(X_train_rus, y_train_rus)\n",
    "\n",
    "# Predict on the testing data\n",
    "y_pred_rus = knn_rus.predict(X_test)\n",
    "\n",
    "# Generate a classification report\n",
    "print(classification_report(y_test, y_pred_rus))\n"
   ]
  },
  {
   "attachments": {},
   "cell_type": "markdown",
   "metadata": {},
   "source": [
    "Oversampling "
   ]
  },
  {
   "cell_type": "code",
   "execution_count": 63,
   "metadata": {},
   "outputs": [
    {
     "name": "stdout",
     "output_type": "stream",
     "text": [
      "              precision    recall  f1-score   support\n",
      "\n",
      "           0       0.00      0.00      0.00         2\n",
      "           1       0.83      0.34      0.49        29\n",
      "           2       0.00      0.00      0.00         0\n",
      "           3       0.00      0.00      0.00         0\n",
      "           4       0.00      0.00      0.00         0\n",
      "           5       0.30      0.60      0.40         5\n",
      "           6       0.33      1.00      0.50         1\n",
      "           7       0.50      0.53      0.51        17\n",
      "           8       0.00      0.00      0.00         0\n",
      "\n",
      "    accuracy                           0.43        54\n",
      "   macro avg       0.22      0.27      0.21        54\n",
      "weighted avg       0.64      0.43      0.47        54\n",
      "\n"
     ]
    },
    {
     "name": "stderr",
     "output_type": "stream",
     "text": [
      "c:\\Users\\suritha\\AppData\\Local\\Programs\\Python\\Python311\\Lib\\site-packages\\sklearn\\metrics\\_classification.py:1344: UndefinedMetricWarning: Recall and F-score are ill-defined and being set to 0.0 in labels with no true samples. Use `zero_division` parameter to control this behavior.\n",
      "  _warn_prf(average, modifier, msg_start, len(result))\n",
      "c:\\Users\\suritha\\AppData\\Local\\Programs\\Python\\Python311\\Lib\\site-packages\\sklearn\\metrics\\_classification.py:1344: UndefinedMetricWarning: Recall and F-score are ill-defined and being set to 0.0 in labels with no true samples. Use `zero_division` parameter to control this behavior.\n",
      "  _warn_prf(average, modifier, msg_start, len(result))\n",
      "c:\\Users\\suritha\\AppData\\Local\\Programs\\Python\\Python311\\Lib\\site-packages\\sklearn\\metrics\\_classification.py:1344: UndefinedMetricWarning: Recall and F-score are ill-defined and being set to 0.0 in labels with no true samples. Use `zero_division` parameter to control this behavior.\n",
      "  _warn_prf(average, modifier, msg_start, len(result))\n"
     ]
    }
   ],
   "source": [
    "# Apply RandomOverSampler to the training data\n",
    "ros = RandomOverSampler(random_state=42)\n",
    "X_train_ros, y_train_ros = ros.fit_resample(X_train, y_train)\n",
    "\n",
    "# Fit your KNN model to the oversampled training data\n",
    "knn_ros = KNeighborsClassifier(n_neighbors=5)\n",
    "knn_ros.fit(X_train_ros, y_train_ros)\n",
    "\n",
    "# Predict on the testing data\n",
    "y_pred_ros = knn_ros.predict(X_test)\n",
    "\n",
    "# Generate a classification report\n",
    "print(classification_report(y_test, y_pred_ros))\n"
   ]
  },
  {
   "cell_type": "code",
   "execution_count": 64,
   "metadata": {},
   "outputs": [],
   "source": [
    "# # Apply SMOTE to the training data\n",
    "# smote = SMOTE(k_neighbors=2)\n",
    "# X_train_smote, y_train_smote = smote.fit_resample(X_train, y_train)\n",
    "\n",
    "# # Fit your KNN model to the SMOTE-transformed training data\n",
    "# knn_smote = KNeighborsClassifier(n_neighbors=3)\n",
    "# knn_smote.fit(X_train_smote, y_train_smote)\n",
    "\n",
    "# # Predict on the testing data\n",
    "# y_pred_smote = knn_smote.predict(X_test)\n",
    "\n",
    "# # Generate a classification report\n",
    "# print(classification_report(y_test, y_pred_smote))\n"
   ]
  },
  {
   "attachments": {},
   "cell_type": "markdown",
   "metadata": {},
   "source": [
    "### Decision Tree"
   ]
  },
  {
   "attachments": {},
   "cell_type": "markdown",
   "metadata": {},
   "source": [
    "Original"
   ]
  },
  {
   "cell_type": "code",
   "execution_count": 65,
   "metadata": {},
   "outputs": [
    {
     "name": "stdout",
     "output_type": "stream",
     "text": [
      "Classification Report - Original:\n",
      "              precision    recall  f1-score   support\n",
      "\n",
      "           0       0.12      0.50      0.20         2\n",
      "           1       0.75      0.10      0.18        29\n",
      "           4       0.00      0.00      0.00         0\n",
      "           5       0.50      0.20      0.29         5\n",
      "           6       0.00      0.00      0.00         1\n",
      "           7       0.30      0.18      0.22        17\n",
      "           8       0.00      0.00      0.00         0\n",
      "\n",
      "    accuracy                           0.15        54\n",
      "   macro avg       0.24      0.14      0.13        54\n",
      "weighted avg       0.55      0.15      0.20        54\n",
      "\n"
     ]
    },
    {
     "name": "stderr",
     "output_type": "stream",
     "text": [
      "c:\\Users\\suritha\\AppData\\Local\\Programs\\Python\\Python311\\Lib\\site-packages\\sklearn\\metrics\\_classification.py:1344: UndefinedMetricWarning: Recall and F-score are ill-defined and being set to 0.0 in labels with no true samples. Use `zero_division` parameter to control this behavior.\n",
      "  _warn_prf(average, modifier, msg_start, len(result))\n",
      "c:\\Users\\suritha\\AppData\\Local\\Programs\\Python\\Python311\\Lib\\site-packages\\sklearn\\metrics\\_classification.py:1344: UndefinedMetricWarning: Recall and F-score are ill-defined and being set to 0.0 in labels with no true samples. Use `zero_division` parameter to control this behavior.\n",
      "  _warn_prf(average, modifier, msg_start, len(result))\n",
      "c:\\Users\\suritha\\AppData\\Local\\Programs\\Python\\Python311\\Lib\\site-packages\\sklearn\\metrics\\_classification.py:1344: UndefinedMetricWarning: Recall and F-score are ill-defined and being set to 0.0 in labels with no true samples. Use `zero_division` parameter to control this behavior.\n",
      "  _warn_prf(average, modifier, msg_start, len(result))\n"
     ]
    }
   ],
   "source": [
    "# Define your decision tree model\n",
    "dtc = DecisionTreeClassifier(random_state=42)\n",
    "\n",
    "# Apply random undersampling to the training data\n",
    "rus = RandomUnderSampler(random_state=42)\n",
    "X_train_rt, y_train_rt = rus.fit_resample(X_train, y_train)\n",
    "\n",
    "# Fit your decision tree model to the undersampled training data\n",
    "dtc = DecisionTreeClassifier(random_state=42)\n",
    "dtc.fit(X_train_rus, y_train_rus)\n",
    "\n",
    "# Predict on the testing data\n",
    "y_pred_rus = dtc.predict(X_test)\n",
    "\n",
    "# Generate a classification report\n",
    "print(\"Classification Report - Original:\")\n",
    "print(classification_report(y_test, y_pred_rus))"
   ]
  },
  {
   "attachments": {},
   "cell_type": "markdown",
   "metadata": {},
   "source": [
    "Undersampling"
   ]
  },
  {
   "cell_type": "code",
   "execution_count": 66,
   "metadata": {},
   "outputs": [
    {
     "name": "stdout",
     "output_type": "stream",
     "text": [
      "Classification Report - Random Undersampling:\n",
      "              precision    recall  f1-score   support\n",
      "\n",
      "           0       0.12      0.50      0.20         2\n",
      "           1       0.75      0.10      0.18        29\n",
      "           4       0.00      0.00      0.00         0\n",
      "           5       0.50      0.20      0.29         5\n",
      "           6       0.00      0.00      0.00         1\n",
      "           7       0.30      0.18      0.22        17\n",
      "           8       0.00      0.00      0.00         0\n",
      "\n",
      "    accuracy                           0.15        54\n",
      "   macro avg       0.24      0.14      0.13        54\n",
      "weighted avg       0.55      0.15      0.20        54\n",
      "\n"
     ]
    },
    {
     "name": "stderr",
     "output_type": "stream",
     "text": [
      "c:\\Users\\suritha\\AppData\\Local\\Programs\\Python\\Python311\\Lib\\site-packages\\sklearn\\metrics\\_classification.py:1344: UndefinedMetricWarning: Recall and F-score are ill-defined and being set to 0.0 in labels with no true samples. Use `zero_division` parameter to control this behavior.\n",
      "  _warn_prf(average, modifier, msg_start, len(result))\n",
      "c:\\Users\\suritha\\AppData\\Local\\Programs\\Python\\Python311\\Lib\\site-packages\\sklearn\\metrics\\_classification.py:1344: UndefinedMetricWarning: Recall and F-score are ill-defined and being set to 0.0 in labels with no true samples. Use `zero_division` parameter to control this behavior.\n",
      "  _warn_prf(average, modifier, msg_start, len(result))\n",
      "c:\\Users\\suritha\\AppData\\Local\\Programs\\Python\\Python311\\Lib\\site-packages\\sklearn\\metrics\\_classification.py:1344: UndefinedMetricWarning: Recall and F-score are ill-defined and being set to 0.0 in labels with no true samples. Use `zero_division` parameter to control this behavior.\n",
      "  _warn_prf(average, modifier, msg_start, len(result))\n"
     ]
    }
   ],
   "source": [
    "\n",
    "# Define your decision tree model\n",
    "dtc = DecisionTreeClassifier(random_state=42)\n",
    "\n",
    "# Apply random undersampling to the training data\n",
    "rus = RandomUnderSampler(random_state=42)\n",
    "X_train_rus, y_train_rus = rus.fit_resample(X_train, y_train)\n",
    "\n",
    "# Fit your decision tree model to the undersampled training data\n",
    "dtc_rus = DecisionTreeClassifier(random_state=42)\n",
    "dtc_rus.fit(X_train_rus, y_train_rus)\n",
    "\n",
    "# Predict on the testing data\n",
    "y_pred_rus = dtc_rus.predict(X_test)\n",
    "\n",
    "# Generate a classification report\n",
    "print(\"Classification Report - Random Undersampling:\")\n",
    "print(classification_report(y_test, y_pred_rus))"
   ]
  },
  {
   "attachments": {},
   "cell_type": "markdown",
   "metadata": {},
   "source": [
    "Oversampling"
   ]
  },
  {
   "cell_type": "code",
   "execution_count": 67,
   "metadata": {},
   "outputs": [
    {
     "name": "stdout",
     "output_type": "stream",
     "text": [
      "Classification Report - Random Oversampling:\n",
      "              precision    recall  f1-score   support\n",
      "\n",
      "           0       0.00      0.00      0.00         2\n",
      "           1       0.65      0.76      0.70        29\n",
      "           2       0.00      0.00      0.00         0\n",
      "           3       0.00      0.00      0.00         0\n",
      "           4       0.00      0.00      0.00         0\n",
      "           5       0.33      0.20      0.25         5\n",
      "           6       0.50      1.00      0.67         1\n",
      "           7       0.60      0.35      0.44        17\n",
      "\n",
      "    accuracy                           0.56        54\n",
      "   macro avg       0.26      0.29      0.26        54\n",
      "weighted avg       0.58      0.56      0.55        54\n",
      "\n"
     ]
    },
    {
     "name": "stderr",
     "output_type": "stream",
     "text": [
      "c:\\Users\\suritha\\AppData\\Local\\Programs\\Python\\Python311\\Lib\\site-packages\\sklearn\\metrics\\_classification.py:1344: UndefinedMetricWarning: Recall and F-score are ill-defined and being set to 0.0 in labels with no true samples. Use `zero_division` parameter to control this behavior.\n",
      "  _warn_prf(average, modifier, msg_start, len(result))\n",
      "c:\\Users\\suritha\\AppData\\Local\\Programs\\Python\\Python311\\Lib\\site-packages\\sklearn\\metrics\\_classification.py:1344: UndefinedMetricWarning: Recall and F-score are ill-defined and being set to 0.0 in labels with no true samples. Use `zero_division` parameter to control this behavior.\n",
      "  _warn_prf(average, modifier, msg_start, len(result))\n",
      "c:\\Users\\suritha\\AppData\\Local\\Programs\\Python\\Python311\\Lib\\site-packages\\sklearn\\metrics\\_classification.py:1344: UndefinedMetricWarning: Recall and F-score are ill-defined and being set to 0.0 in labels with no true samples. Use `zero_division` parameter to control this behavior.\n",
      "  _warn_prf(average, modifier, msg_start, len(result))\n"
     ]
    }
   ],
   "source": [
    "# Apply random oversampling to the training data\n",
    "ros = RandomOverSampler(random_state=42)\n",
    "X_train_ros, y_train_ros = ros.fit_resample(X_train, y_train)\n",
    "\n",
    "# Fit your decision tree model to the oversampled training data\n",
    "dtc_ros = DecisionTreeClassifier(random_state=42)\n",
    "dtc_ros.fit(X_train_ros, y_train_ros)\n",
    "\n",
    "# Predict on the testing data\n",
    "y_pred_ros = dtc_ros.predict(X_test)\n",
    "\n",
    "# Generate a classification report\n",
    "print(\"Classification Report - Random Oversampling:\")\n",
    "print(classification_report(y_test, y_pred_ros))"
   ]
  },
  {
   "attachments": {},
   "cell_type": "markdown",
   "metadata": {},
   "source": [
    "PCA"
   ]
  },
  {
   "cell_type": "code",
   "execution_count": 68,
   "metadata": {},
   "outputs": [
    {
     "name": "stdout",
     "output_type": "stream",
     "text": [
      "Classification Report - PCA:\n",
      "              precision    recall  f1-score   support\n",
      "\n",
      "           0       0.00      0.00      0.00         2\n",
      "           1       0.69      0.62      0.65        29\n",
      "           4       0.00      0.00      0.00         0\n",
      "           5       0.22      0.40      0.29         5\n",
      "           6       0.00      0.00      0.00         1\n",
      "           7       0.60      0.53      0.56        17\n",
      "\n",
      "    accuracy                           0.54        54\n",
      "   macro avg       0.25      0.26      0.25        54\n",
      "weighted avg       0.58      0.54      0.56        54\n",
      "\n"
     ]
    },
    {
     "name": "stderr",
     "output_type": "stream",
     "text": [
      "c:\\Users\\suritha\\AppData\\Local\\Programs\\Python\\Python311\\Lib\\site-packages\\sklearn\\metrics\\_classification.py:1344: UndefinedMetricWarning: Recall and F-score are ill-defined and being set to 0.0 in labels with no true samples. Use `zero_division` parameter to control this behavior.\n",
      "  _warn_prf(average, modifier, msg_start, len(result))\n",
      "c:\\Users\\suritha\\AppData\\Local\\Programs\\Python\\Python311\\Lib\\site-packages\\sklearn\\metrics\\_classification.py:1344: UndefinedMetricWarning: Recall and F-score are ill-defined and being set to 0.0 in labels with no true samples. Use `zero_division` parameter to control this behavior.\n",
      "  _warn_prf(average, modifier, msg_start, len(result))\n",
      "c:\\Users\\suritha\\AppData\\Local\\Programs\\Python\\Python311\\Lib\\site-packages\\sklearn\\metrics\\_classification.py:1344: UndefinedMetricWarning: Recall and F-score are ill-defined and being set to 0.0 in labels with no true samples. Use `zero_division` parameter to control this behavior.\n",
      "  _warn_prf(average, modifier, msg_start, len(result))\n"
     ]
    }
   ],
   "source": [
    "# Apply PCA to the training data\n",
    "pca = PCA(n_components=2, random_state=42)\n",
    "X_train_pca = pca.fit_transform(X_train)\n",
    "\n",
    "# Fit your decision tree model to the PCA-transformed training data\n",
    "dtc_pca = DecisionTreeClassifier(random_state=42)\n",
    "dtc_pca.fit(X_train_pca, y_train)\n",
    "\n",
    "# Apply the same PCA transformation to the testing data\n",
    "X_test_pca = pca.transform(X_test)\n",
    "\n",
    "# Predict on the testing data\n",
    "y_pred_pca = dtc_pca.predict(X_test_pca)\n",
    "\n",
    "# Generate a classification report\n",
    "print(\"Classification Report - PCA:\")\n",
    "print(classification_report(y_test, y_pred_pca))"
   ]
  },
  {
   "attachments": {},
   "cell_type": "markdown",
   "metadata": {},
   "source": [
    "LDA"
   ]
  },
  {
   "cell_type": "code",
   "execution_count": 69,
   "metadata": {},
   "outputs": [
    {
     "name": "stdout",
     "output_type": "stream",
     "text": [
      "Classification Report - Decision Tree with LDA:\n",
      "              precision    recall  f1-score   support\n",
      "\n",
      "           0       0.00      0.00      0.00         2\n",
      "           1       0.66      0.66      0.66        29\n",
      "           3       0.00      0.00      0.00         0\n",
      "           4       0.00      0.00      0.00         0\n",
      "           5       0.00      0.00      0.00         5\n",
      "           6       0.00      0.00      0.00         1\n",
      "           7       0.50      0.35      0.41        17\n",
      "           8       0.00      0.00      0.00         0\n",
      "\n",
      "    accuracy                           0.46        54\n",
      "   macro avg       0.14      0.13      0.13        54\n",
      "weighted avg       0.51      0.46      0.48        54\n",
      "\n"
     ]
    },
    {
     "name": "stderr",
     "output_type": "stream",
     "text": [
      "c:\\Users\\suritha\\AppData\\Local\\Programs\\Python\\Python311\\Lib\\site-packages\\sklearn\\metrics\\_classification.py:1344: UndefinedMetricWarning: Precision and F-score are ill-defined and being set to 0.0 in labels with no predicted samples. Use `zero_division` parameter to control this behavior.\n",
      "  _warn_prf(average, modifier, msg_start, len(result))\n",
      "c:\\Users\\suritha\\AppData\\Local\\Programs\\Python\\Python311\\Lib\\site-packages\\sklearn\\metrics\\_classification.py:1344: UndefinedMetricWarning: Recall and F-score are ill-defined and being set to 0.0 in labels with no true samples. Use `zero_division` parameter to control this behavior.\n",
      "  _warn_prf(average, modifier, msg_start, len(result))\n",
      "c:\\Users\\suritha\\AppData\\Local\\Programs\\Python\\Python311\\Lib\\site-packages\\sklearn\\metrics\\_classification.py:1344: UndefinedMetricWarning: Precision and F-score are ill-defined and being set to 0.0 in labels with no predicted samples. Use `zero_division` parameter to control this behavior.\n",
      "  _warn_prf(average, modifier, msg_start, len(result))\n",
      "c:\\Users\\suritha\\AppData\\Local\\Programs\\Python\\Python311\\Lib\\site-packages\\sklearn\\metrics\\_classification.py:1344: UndefinedMetricWarning: Recall and F-score are ill-defined and being set to 0.0 in labels with no true samples. Use `zero_division` parameter to control this behavior.\n",
      "  _warn_prf(average, modifier, msg_start, len(result))\n",
      "c:\\Users\\suritha\\AppData\\Local\\Programs\\Python\\Python311\\Lib\\site-packages\\sklearn\\metrics\\_classification.py:1344: UndefinedMetricWarning: Precision and F-score are ill-defined and being set to 0.0 in labels with no predicted samples. Use `zero_division` parameter to control this behavior.\n",
      "  _warn_prf(average, modifier, msg_start, len(result))\n",
      "c:\\Users\\suritha\\AppData\\Local\\Programs\\Python\\Python311\\Lib\\site-packages\\sklearn\\metrics\\_classification.py:1344: UndefinedMetricWarning: Recall and F-score are ill-defined and being set to 0.0 in labels with no true samples. Use `zero_division` parameter to control this behavior.\n",
      "  _warn_prf(average, modifier, msg_start, len(result))\n"
     ]
    }
   ],
   "source": [
    "# Apply LDA to the training data\n",
    "lda = LinearDiscriminantAnalysis(n_components=1)\n",
    "X_train_lda = lda.fit_transform(X_train, y_train)\n",
    "\n",
    "# Fit your decision tree model to the LDA-transformed training data\n",
    "dtc_lda = DecisionTreeClassifier(random_state=42)\n",
    "dtc_lda.fit(X_train_lda, y_train)\n",
    "\n",
    "# Apply the same LDA transformation to the testing data\n",
    "X_test_lda = lda.transform(X_test)\n",
    "\n",
    "# Predict on the testing data\n",
    "y_pred_lda = dtc_lda.predict(X_test_lda)\n",
    "\n",
    "print(\"Classification Report - Decision Tree with LDA:\")\n",
    "print(classification_report(y_test, y_pred_lda))\n"
   ]
  },
  {
   "attachments": {},
   "cell_type": "markdown",
   "metadata": {},
   "source": [
    "Outlier detection"
   ]
  },
  {
   "cell_type": "code",
   "execution_count": 70,
   "metadata": {},
   "outputs": [],
   "source": [
    "# perform ISF\n",
    "isf = IsolationForest(n_estimators=100, contamination=0.01)\n",
    "isf.fit(X)\n",
    "outliers_isf = isf.predict(X) == -1"
   ]
  },
  {
   "cell_type": "code",
   "execution_count": 71,
   "metadata": {},
   "outputs": [],
   "source": [
    "# perform LOF\n",
    "lof = LocalOutlierFactor(n_neighbors=20, contamination=0.01)\n",
    "outliers_lof = lof.fit_predict(X) == -1"
   ]
  },
  {
   "cell_type": "code",
   "execution_count": 72,
   "metadata": {},
   "outputs": [],
   "source": [
    "ocsvm = OneClassSVM(kernel='rbf', gamma='auto', nu=0.05)\n",
    "ocsvm_pred = ocsvm.fit_predict(X) == -1"
   ]
  },
  {
   "cell_type": "code",
   "execution_count": 73,
   "metadata": {},
   "outputs": [
    {
     "name": "stderr",
     "output_type": "stream",
     "text": [
      "c:\\Users\\suritha\\AppData\\Local\\Programs\\Python\\Python311\\Lib\\site-packages\\sklearn\\cluster\\_kmeans.py:870: FutureWarning: The default value of `n_init` will change from 10 to 'auto' in 1.4. Set the value of `n_init` explicitly to suppress the warning\n",
      "  warnings.warn(\n"
     ]
    },
    {
     "data": {
      "text/plain": [
       "Text(0.5, 1.0, 'k-Means')"
      ]
     },
     "execution_count": 73,
     "metadata": {},
     "output_type": "execute_result"
    },
    {
     "data": {
      "image/png": "[encoded data removed]",
      "text/plain": [
       "<Figure size 640x480 with 1 Axes>"
      ]
     },
     "metadata": {},
     "output_type": "display_data"
    }
   ],
   "source": [
    "# Perform k-means clustering\n",
    "kmeans = KMeans(n_clusters=5)\n",
    "kmeans.fit(df)\n",
    "df[\"kmeans_labels\"] = kmeans.labels_\n",
    "\n",
    "# Visualize the clusters using scatter plots\n",
    "\n",
    "plt.scatter(df[\"type\"], df[\"crime\"], c=df[\"kmeans_labels\"], cmap=\"coolwarm\")\n",
    "plt.xlabel(\"type\")\n",
    "plt.ylabel(\"crime\")\n",
    "plt.title(\"k-Means\")"
   ]
  },
  {
   "cell_type": "code",
   "execution_count": 74,
   "metadata": {},
   "outputs": [],
   "source": [
    "from sklearn.svm import SVC\n",
    "\n",
    "# classify using SVM\n",
    "svm = SVC(kernel='linear')\n",
    "svm.fit(X_train, y_train)\n",
    "train_labels_svm = svm.predict(X_train)\n",
    "test_labels_svm = svm.predict(X_test)"
   ]
  },
  {
   "cell_type": "code",
   "execution_count": 75,
   "metadata": {},
   "outputs": [],
   "source": [
    "# classify using RF\n",
    "rf = RandomForestClassifier(n_estimators=100, random_state=42)\n",
    "rf.fit(X_train, y_train)\n",
    "train_labels_rf = rf.predict(X_train)\n",
    "test_labels_rf = rf.predict(X_test)"
   ]
  },
  {
   "cell_type": "code",
   "execution_count": 76,
   "metadata": {},
   "outputs": [],
   "source": [
    "# classify using MLP\n",
    "mlp = MLPClassifier(hidden_layer_sizes=(100, 50), max_iter=1000)\n",
    "mlp.fit(X_train, y_train)\n",
    "train_labels_mlp = mlp.predict(X_train)\n",
    "test_labels_mlp = mlp.predict(X_test)"
   ]
  }
 ],
 "metadata": {
  "kernelspec": {
   "display_name": "Python 3",
   "language": "python",
   "name": "python3"
  },
  "language_info": {
   "codemirror_mode": {
    "name": "ipython",
    "version": 3
   },
   "file_extension": ".py",
   "mimetype": "text/x-python",
   "name": "python",
   "nbconvert_exporter": "python",
   "pygments_lexer": "ipython3",
   "version": "3.11.2"
  },
  "orig_nbformat": 4
 },
 "nbformat": 4,
 "nbformat_minor": 2
}
