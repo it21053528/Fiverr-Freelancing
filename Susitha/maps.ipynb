{
 "cells": [
  {
   "cell_type": "code",
   "execution_count": 7,
   "metadata": {},
   "outputs": [],
   "source": [
    "import pandas as pd\n",
    "import geopandas as gpd\n",
    "import matplotlib.pyplot as plt\n",
    "import cartopy.crs as ccrs\n",
    "import cartopy.feature as cfeature"
   ]
  },
  {
   "cell_type": "code",
   "execution_count": 13,
   "metadata": {},
   "outputs": [],
   "source": [
    "# Read the data from the Excel file\n",
    "df = pd.read_excel('Co2 emission final data sheet.xlsx')\n",
    "\n",
    "# Filter the data to include only the years 1990 to 1999\n",
    "df = df[(df['Year'] >= 1990) & (df['Year'] <= 1999)]\n",
    "\n",
    "# Group the data by country and calculate the average CO2 emissions and energy use\n",
    "df_avg = df.groupby('Country').mean()[['Co2 emission', 'Energy use']]"
   ]
  },
  {
   "cell_type": "code",
   "execution_count": 20,
   "metadata": {},
   "outputs": [],
   "source": [
    "# Load the shapefile into a geopandas dataframe\n",
    "world = gpd.read_file('ne_10m_admin_0_countries.shp')\n",
    "\n",
    "# Merge the average values with the shapefile\n",
    "world = world.merge(df_avg, left_on='geometry', right_index=True)"
   ]
  },
  {
   "cell_type": "code",
   "execution_count": 22,
   "metadata": {},
   "outputs": [
    {
     "ename": "ModuleNotFoundError",
     "evalue": "No module named 'mpl_toolkits.basemap'",
     "output_type": "error",
     "traceback": [
      "\u001b[1;31m---------------------------------------------------------------------------\u001b[0m",
      "\u001b[1;31mModuleNotFoundError\u001b[0m                       Traceback (most recent call last)",
      "\u001b[1;32mc:\\Users\\surit\\Documents\\Fiverr\\Fiverr-Freelancing\\Susitha\\maps.ipynb Cell 4\u001b[0m in \u001b[0;36m1\n\u001b[1;32m----> <a href='vscode-notebook-cell:/c%3A/Users/surit/Documents/Fiverr/Fiverr-Freelancing/Susitha/maps.ipynb#W5sZmlsZQ%3D%3D?line=0'>1</a>\u001b[0m \u001b[39mfrom\u001b[39;00m \u001b[39mmpl_toolkits\u001b[39;00m\u001b[39m.\u001b[39;00m\u001b[39mbasemap\u001b[39;00m \u001b[39mimport\u001b[39;00m Basemap\n\u001b[0;32m      <a href='vscode-notebook-cell:/c%3A/Users/surit/Documents/Fiverr/Fiverr-Freelancing/Susitha/maps.ipynb#W5sZmlsZQ%3D%3D?line=2'>3</a>\u001b[0m \u001b[39m# Create two subplots for the CO2 emissions and energy use maps\u001b[39;00m\n\u001b[0;32m      <a href='vscode-notebook-cell:/c%3A/Users/surit/Documents/Fiverr/Fiverr-Freelancing/Susitha/maps.ipynb#W5sZmlsZQ%3D%3D?line=3'>4</a>\u001b[0m fig, (ax1, ax2) \u001b[39m=\u001b[39m plt\u001b[39m.\u001b[39msubplots(\u001b[39m1\u001b[39m, \u001b[39m2\u001b[39m, figsize\u001b[39m=\u001b[39m(\u001b[39m20\u001b[39m,\u001b[39m10\u001b[39m))\n",
      "\u001b[1;31mModuleNotFoundError\u001b[0m: No module named 'mpl_toolkits.basemap'"
     ]
    }
   ],
   "source": [
    "from mpl_toolkits.basemap import Basemap\n",
    "\n",
    "# Create two subplots for the CO2 emissions and energy use maps\n",
    "fig, (ax1, ax2) = plt.subplots(1, 2, figsize=(20,10))\n",
    "\n",
    "# Plot the CO2 emissions map\n",
    "m1 = Basemap(ax=ax1)\n",
    "m1.drawcoastlines()\n",
    "m1.drawcountries()\n",
    "m1.fillcontinents(color='lightgray', alpha=0.3)\n",
    "m1.drawmapboundary(fill_color='white')\n",
    "m1.scatter(world['geometry'].centroid.x, world['geometry'].centroid.y, c=world['Co2 emission'], cmap='Reds', alpha=0.7)"
   ]
  }
 ],
 "metadata": {
  "kernelspec": {
   "display_name": "Python 3",
   "language": "python",
   "name": "python3"
  },
  "language_info": {
   "codemirror_mode": {
    "name": "ipython",
    "version": 3
   },
   "file_extension": ".py",
   "mimetype": "text/x-python",
   "name": "python",
   "nbconvert_exporter": "python",
   "pygments_lexer": "ipython3",
   "version": "3.10.7"
  },
  "orig_nbformat": 4
 },
 "nbformat": 4,
 "nbformat_minor": 2
}
